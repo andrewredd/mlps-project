{
 "cells": [
  {
   "cell_type": "code",
   "execution_count": 1,
   "metadata": {
    "collapsed": true
   },
   "outputs": [],
   "source": [
    "import pandas as pd\n",
    "import scipy.sparse\n",
    "import scipy\n",
    "import scipy.io\n",
    "import numpy as np\n",
    "from sklearn.decomposition import PCA\n",
    "from sklearn.utils import resample\n",
    "import matplotlib.pyplot as plt\n",
    "%matplotlib inline\n",
    "from sklearn.feature_extraction.text import TfidfTransformer\n",
    "from sklearn.manifold import TSNE\n",
    "from sklearn.utils import resample\n",
    "import warnings\n",
    "warnings.filterwarnings('ignore')\n",
    "import seaborn as sns\n",
    "sns.set()"
   ]
  },
  {
   "cell_type": "code",
   "execution_count": 2,
   "metadata": {
    "collapsed": true
   },
   "outputs": [],
   "source": [
    "train_clean = pd.read_csv('Data/train_clean.tsv', sep='\\t', header=0)\n",
    "\n",
    "#splitting train_clean into train_base and test_base as our test.tsv has no price labels for us to check against\n",
    "train_base = train_clean.iloc[:1000000,:]\n",
    "test_base = train_clean.iloc[1000000:,:]"
   ]
  },
  {
   "cell_type": "code",
   "execution_count": 3,
   "metadata": {
    "collapsed": true
   },
   "outputs": [],
   "source": [
    "#Baseline Prediction: get the mean values per category_name_1\n",
    "mean_values = train_base.groupby('category_name_1')['price'].mean()\n",
    "df_means = pd.DataFrame(mean_values)\n",
    "df_means.reset_index(inplace=True)\n",
    "df_means.rename(columns={'price':'prediction'}, inplace=True)\n",
    "\n"
   ]
  },
  {
   "cell_type": "code",
   "execution_count": 4,
   "metadata": {
    "collapsed": true
   },
   "outputs": [],
   "source": [
    "#testFile = pd.read_csv('Data/test.tsv', sep='\\t', header=0)\n",
    "\n",
    "#split by category_name\n",
    "#df.join(df['AB'].str.split('-', 1, expand=True).rename(columns={0:'A', 1:'B'}))\n",
    "#testFile['category_name'].str.split('/',2, expand=True).rename(columns={0:'category_1', 1:'category_2', 2:'category_3'})"
   ]
  },
  {
   "cell_type": "code",
   "execution_count": 5,
   "metadata": {
    "collapsed": true
   },
   "outputs": [],
   "source": [
    "#import train_term_matrix\n",
    "train_sparse = scipy.io.mmread('Data/train_term_matrix_pruned.mtx')\n",
    "y = train_clean['price']"
   ]
  },
  {
   "cell_type": "code",
   "execution_count": 6,
   "metadata": {
    "collapsed": true
   },
   "outputs": [],
   "source": [
    "# Sample Data to reduce the size\n",
    "numSamples = 100000\n",
    "train_sparse_sample, y_sample = resample(train_sparse, y, \n",
    "                               n_samples=numSamples,\n",
    "                               random_state=777)"
   ]
  },
  {
   "cell_type": "code",
   "execution_count": 7,
   "metadata": {},
   "outputs": [
    {
     "name": "stdout",
     "output_type": "stream",
     "text": [
      "sparse shape (100000,)\n"
     ]
    }
   ],
   "source": [
    "print('sparse shape', y_sample.shape)"
   ]
  },
  {
   "cell_type": "code",
   "execution_count": 8,
   "metadata": {
    "collapsed": true
   },
   "outputs": [],
   "source": [
    "from sklearn.model_selection import train_test_split\n",
    "\n",
    "\n",
    "XTrain, XTest, yTrain, yTest = train_test_split(train_sparse_sample, y_sample,\n",
    "                                                test_size=0.33, random_state=95828)"
   ]
  },
  {
   "cell_type": "markdown",
   "metadata": {},
   "source": [
    "## Baseline Model - Use average of category_name_1 products"
   ]
  },
  {
   "cell_type": "code",
   "execution_count": 9,
   "metadata": {},
   "outputs": [
    {
     "name": "stdout",
     "output_type": "stream",
     "text": [
      "Baseline model MSE = 1450.86\n"
     ]
    }
   ],
   "source": [
    "from sklearn.metrics import mean_squared_error\n",
    "\n",
    "#merge with df_means to get mean 'prediction'\n",
    "test_base_pred = test_base.merge(df_means, how='left', on='category_name_1')\n",
    "\n",
    "#remove rows with NaN in category_1\n",
    "test_base_pred = test_base_pred[test_base_pred.category_name_1.notnull()]\n",
    "\n",
    "mse_base = mean_squared_error(test_base_pred['price'], test_base_pred['prediction'])\n",
    "print('Baseline model MSE = {:.2f}'.format(mse_base))\n"
   ]
  },
  {
   "cell_type": "markdown",
   "metadata": {
    "collapsed": true
   },
   "source": [
    "## Random Forest Regression"
   ]
  },
  {
   "cell_type": "code",
   "execution_count": null,
   "metadata": {},
   "outputs": [],
   "source": [
    "%%time\n",
    "from sklearn.tree import DecisionTreeRegressor\n",
    "from sklearn.model_selection import GridSearchCV\n",
    "from sklearn.ensemble import RandomForestRegressor\n",
    "\n",
    "model_mse = []\n",
    "\n",
    "rf = RandomForestRegressor(random_state=0)\n",
    "pred_rf = rf.fit(XTrain, yTrain).predict(XTest)\n",
    "\n",
    "mse_rf = mean_squared_error(yTest, pred_rf)\n",
    "print('RandomForest Regressor: MSE = {:.2f}'.format(mse_rf))\n",
    "model_mse.append(['RandomForest', round(mse_rf,2)])\n",
    "\n",
    "#add GridSearch later\n",
    "# params_maxDepth = {'max_depth':[2,5,10,15,20]}\n",
    "# clf = GridSearchCV(treeReg, params_maxDepth)\n",
    "# clf.fit(XTrain, yTrain)"
   ]
  },
  {
   "cell_type": "code",
   "execution_count": null,
   "metadata": {},
   "outputs": [],
   "source": [
    "plt.figure(figsize=(12,10))\n",
    "plt.scatter(yTest, pred_rf, c=\"g\")\n",
    "plt.ylabel(\"Prediction Price\")\n",
    "plt.ylim(ymax = 500)\n",
    "plt.xlim(xmax = 500)\n",
    "plt.xlabel(\"True Price\")\n",
    "plt.title(\"RandomForest Regression: Prediction vs True Prices\");"
   ]
  },
  {
   "cell_type": "markdown",
   "metadata": {},
   "source": [
    "## AdaBoost Regression"
   ]
  },
  {
   "cell_type": "code",
   "execution_count": null,
   "metadata": {},
   "outputs": [],
   "source": [
    "%%time\n",
    "from sklearn.ensemble import AdaBoostRegressor\n",
    "\n",
    "ada = AdaBoostRegressor(DecisionTreeRegressor(), random_state=100)\n",
    "pred_ada = ada.fit(XTrain, yTrain).predict(XTest)\n",
    "\n",
    "mse_ada = mean_squared_error(yTest, pred_ada)\n",
    "print('AdaBoost Regresion: MSE = {:.2f}'.format(mse_ada))\n",
    "model_mse.append(['AdaBoost', round(mse_ada,2)])"
   ]
  },
  {
   "cell_type": "code",
   "execution_count": null,
   "metadata": {},
   "outputs": [],
   "source": [
    "plt.figure(figsize=(12,10))\n",
    "plt.scatter(yTest, pred_ada, c=\"r\")\n",
    "plt.ylabel(\"Prediction Price\")\n",
    "plt.ylim(ymax = 500)\n",
    "plt.xlim(xmax = 500)\n",
    "plt.xlabel(\"True Price\")\n",
    "plt.title(\"AdaBoost Regression: Prediction vs True Prices\");"
   ]
  },
  {
   "cell_type": "markdown",
   "metadata": {},
   "source": [
    "## Ridge Regression"
   ]
  },
  {
   "cell_type": "code",
   "execution_count": null,
   "metadata": {},
   "outputs": [],
   "source": [
    "%%time\n",
    "from sklearn.linear_model import Ridge\n",
    "\n",
    "#add in gridsearch later\n",
    "ridge = Ridge(alpha=1.0)\n",
    "pred_ridge = ridge.fit(XTrain, yTrain).predict(XTest)\n",
    "\n",
    "mse_ridge = mean_squared_error(yTest, pred_ridge)\n",
    "print('Ridge Regression: MSE = {:.2f}'.format(mse_ridge))\n",
    "model_mse.append(['Ridge', round(mse_ridge,2)])"
   ]
  },
  {
   "cell_type": "code",
   "execution_count": null,
   "metadata": {},
   "outputs": [],
   "source": [
    "plt.figure(figsize=(12,10))\n",
    "plt.scatter(yTest, pred_ridge, c=\"c\")\n",
    "plt.ylabel(\"Prediction Price\")\n",
    "plt.ylim(ymax = 500)\n",
    "plt.xlim(xmax = 500)\n",
    "plt.xlabel(\"True Price\")\n",
    "plt.title(\"Ridge Regression: Prediction vs True Prices\");"
   ]
  },
  {
   "cell_type": "markdown",
   "metadata": {},
   "source": [
    "## Lasso Regression"
   ]
  },
  {
   "cell_type": "code",
   "execution_count": null,
   "metadata": {},
   "outputs": [],
   "source": [
    "%%time\n",
    "from sklearn.linear_model import Lasso\n",
    "\n",
    "#add in gridsearch later\n",
    "lasso = Lasso(alpha=1.0)\n",
    "pred_lasso = lasso.fit(XTrain, yTrain).predict(XTest)\n",
    "\n",
    "mse_lasso = mean_squared_error(yTest, pred_lasso)\n",
    "print('Lasso Regression: MSE = {:.2f}'.format(mse_lasso))\n",
    "model_mse.append(['Lasso', round(mse_lasso,2)])"
   ]
  },
  {
   "cell_type": "code",
   "execution_count": null,
   "metadata": {},
   "outputs": [],
   "source": [
    "plt.figure(figsize=(12,10))\n",
    "plt.scatter(yTest, pred_lasso, c=\"m\")\n",
    "plt.ylabel(\"Prediction Price\")\n",
    "plt.ylim(ymax = 500)\n",
    "plt.xlim(xmax = 500)\n",
    "plt.xlabel(\"True Price\")\n",
    "plt.title(\"Lasso Regression: Prediction vs True Prices\");"
   ]
  },
  {
   "cell_type": "markdown",
   "metadata": {
    "collapsed": true
   },
   "source": []
  },
  {
   "cell_type": "code",
   "execution_count": null,
   "metadata": {},
   "outputs": [],
   "source": [
    "from sklearn.neighbors import KNeighborsRegressor\n",
    "\n",
    "lasso = Lasso(alpha=1.0)\n",
    "pred_lasso = lasso.fit(XTrain, yTrain).predict(XTest)\n",
    "\n",
    "mse_lasso = mean_squared_error(yTest, pred_lasso)\n",
    "print('Lasso Regression: MSE = {:.2f}'.format(mse_lasso))\n",
    "model_mse.append(['Lasso', round(mse_lasso,2)])\n"
   ]
  },
  {
   "cell_type": "markdown",
   "metadata": {},
   "source": [
    "## Regression Models that take sparse matrices (\n",
    "\n",
    "BaggingRegressor\n",
    "ExtraTreesRegressor\n",
    "KNeighborsRegressor\n",
    "SGDRegressor\n",
    "\n",
    "ElasticNet\n",
    "PassiveAggressiveRegressor\n",
    "RANSACRegressor\n",
    "NuSVR\n",
    "LinearSVR\n",
    "RadiusNeighborsRegressor\n",
    "MultiOutputRegressor\n",
    "MLPRegressor"
   ]
  },
  {
   "cell_type": "code",
   "execution_count": null,
   "metadata": {
    "collapsed": true
   },
   "outputs": [],
   "source": []
  },
  {
   "cell_type": "code",
   "execution_count": null,
   "metadata": {
    "collapsed": true
   },
   "outputs": [],
   "source": []
  }
 ],
 "metadata": {
  "kernelspec": {
   "display_name": "Python 3",
   "language": "python",
   "name": "python3"
  },
  "language_info": {
   "codemirror_mode": {
    "name": "ipython",
    "version": 3
   },
   "file_extension": ".py",
   "mimetype": "text/x-python",
   "name": "python",
   "nbconvert_exporter": "python",
   "pygments_lexer": "ipython3",
   "version": "3.6.3"
  }
 },
 "nbformat": 4,
 "nbformat_minor": 2
}
