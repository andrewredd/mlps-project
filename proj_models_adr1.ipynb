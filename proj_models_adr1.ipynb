{
 "cells": [
  {
   "cell_type": "code",
   "execution_count": 4,
   "metadata": {
    "collapsed": true
   },
   "outputs": [],
   "source": [
    "import pandas as pd\n",
    "import scipy.sparse\n",
    "import scipy\n",
    "import scipy.io\n",
    "import numpy as np\n",
    "from sklearn.decomposition import PCA\n",
    "from sklearn.utils import resample\n",
    "import matplotlib.pyplot as plt\n",
    "%matplotlib inline\n",
    "from sklearn.feature_extraction.text import TfidfTransformer\n",
    "from sklearn.manifold import TSNE\n",
    "from sklearn.utils import resample\n",
    "import warnings\n",
    "warnings.filterwarnings('ignore')\n",
    "import seaborn as sns\n",
    "sns.set()"
   ]
  },
  {
   "cell_type": "code",
   "execution_count": 5,
   "metadata": {
    "collapsed": true
   },
   "outputs": [],
   "source": [
    "train_clean = pd.read_csv('Data/train_clean.tsv', sep='\\t', header=0)"
   ]
  },
  {
   "cell_type": "code",
   "execution_count": 6,
   "metadata": {
    "collapsed": true
   },
   "outputs": [],
   "source": [
    "#Baseline Prediction: get the mean values per category_name_1\n",
    "mean_values = train_clean.groupby('category_name_1')['price'].mean()\n",
    "df_means = pd.DataFrame(mean_values)\n",
    "df_means.reset_index(inplace=True)\n",
    "df_means.rename(columns={'price':'prediction'}, inplace=True)\n",
    "\n",
    "#splitting train_clean into train_base and test_base as our test.tsv has no price labels for us to check against\n",
    "train_base = train_clean.iloc[:1000000,:]\n",
    "test_base = train_clean.iloc[1000000:,:]"
   ]
  },
  {
   "cell_type": "code",
   "execution_count": 7,
   "metadata": {
    "collapsed": true
   },
   "outputs": [],
   "source": [
    "#testFile = pd.read_csv('Data/test.tsv', sep='\\t', header=0)\n",
    "\n",
    "#split by category_name\n",
    "#df.join(df['AB'].str.split('-', 1, expand=True).rename(columns={0:'A', 1:'B'}))\n",
    "#testFile['category_name'].str.split('/',2, expand=True).rename(columns={0:'category_1', 1:'category_2', 2:'category_3'})"
   ]
  },
  {
   "cell_type": "code",
   "execution_count": 15,
   "metadata": {},
   "outputs": [],
   "source": [
    "#import train_term_matrix\n",
    "train_sparse = scipy.io.mmread('Data/train_term_matrix_pruned.mtx')\n",
    "y = train_clean['price']\n",
    "#tf_idf = TfidfTransformer()\n",
    "\n",
    "#train_sparse_tfidf = tf_idf.fit_transform(train_sparse)\n"
   ]
  },
  {
   "cell_type": "code",
   "execution_count": 16,
   "metadata": {},
   "outputs": [],
   "source": [
    "# Sample Data to reduce the size\n",
    "numSamples = 100000\n",
    "train_sparse_sample, y_sample = resample(train_sparse, y, \n",
    "                               n_samples=numSamples,\n",
    "                               random_state=777)"
   ]
  },
  {
   "cell_type": "code",
   "execution_count": 18,
   "metadata": {},
   "outputs": [
    {
     "name": "stdout",
     "output_type": "stream",
     "text": [
      "sparse shape (100000,)\n"
     ]
    }
   ],
   "source": [
    "print('sparse shape', y_sample.shape)"
   ]
  },
  {
   "cell_type": "code",
   "execution_count": 19,
   "metadata": {},
   "outputs": [],
   "source": [
    "from sklearn.model_selection import train_test_split\n",
    "\n",
    "\n",
    "XTrain, XTest, yTrain, yTest = train_test_split(train_sparse_sample, y_sample,\n",
    "                                                test_size=0.33, random_state=95828)"
   ]
  },
  {
   "cell_type": "markdown",
   "metadata": {},
   "source": [
    "## Baseline Model - Use average of category_name_1 products"
   ]
  },
  {
   "cell_type": "code",
   "execution_count": 20,
   "metadata": {},
   "outputs": [
    {
     "name": "stdout",
     "output_type": "stream",
     "text": [
      "Baseline model MSE = 1450.86\n"
     ]
    }
   ],
   "source": [
    "from sklearn.metrics import mean_squared_error\n",
    "\n",
    "#merge with df_means to get mean 'prediction'\n",
    "test_base_pred = test_base.merge(df_means, how='left', on='category_name_1')\n",
    "\n",
    "#remove rows with NaN in category_1\n",
    "test_base_pred = test_base_pred[test_base_pred.category_name_1.notnull()]\n",
    "\n",
    "mse_base = mean_squared_error(test_base_pred['price'], test_base_pred['prediction'])\n",
    "print('Baseline model MSE = {:.2f}'.format(mse_base))\n"
   ]
  },
  {
   "cell_type": "markdown",
   "metadata": {},
   "source": [
    "## Regression Tree"
   ]
  },
  {
   "cell_type": "code",
   "execution_count": 23,
   "metadata": {},
   "outputs": [
    {
     "name": "stdout",
     "output_type": "stream",
     "text": [
      "DecisionTree Regressor: MSE = 2007.81\n"
     ]
    }
   ],
   "source": [
    "from sklearn.tree import DecisionTreeRegressor\n",
    "from sklearn.model_selection import GridSearchCV\n",
    "\n",
    "tReg = DecisionTreeRegressor(random_state=0)\n",
    "pred_tReg = tReg.fit(XTrain, yTrain).predict(XTest)\n",
    "\n",
    "mse_tReg = mean_squared_error(yTest, pred_tReg)\n",
    "print('DecisionTree Regressor: MSE = {:.2f}'.format(mse_tReg))\n",
    "\n",
    "#add GridSearch later\n",
    "# params_maxDepth = {'max_depth':[2,5,10,15,20]}\n",
    "# clf = GridSearchCV(treeReg, params_maxDepth)\n",
    "# clf.fit(XTrain, yTrain)"
   ]
  },
  {
   "cell_type": "markdown",
   "metadata": {
    "collapsed": true
   },
   "source": [
    "## Random Forest Regression"
   ]
  },
  {
   "cell_type": "code",
   "execution_count": null,
   "metadata": {
    "collapsed": true
   },
   "outputs": [],
   "source": [
    "from sklearn.ensemble import RandomForestRegressor\n",
    "\n",
    "rf = RandomForestRegressor(random_state=0)\n",
    "pred_rf = rf.fit(XTrain, yTrain).predict(XTest)\n",
    "\n",
    "mse_rf = mean_squared_error(yTest, pred_rf)\n",
    "print('RandomForest Regressor: MSE = {:.2f}'.format(mse_rf))"
   ]
  },
  {
   "cell_type": "markdown",
   "metadata": {},
   "source": [
    "## Support Vector Regression (SVR)"
   ]
  },
  {
   "cell_type": "code",
   "execution_count": null,
   "metadata": {},
   "outputs": [],
   "source": [
    "from sklearn.svm import SVR\n",
    "\n",
    "#svrRBF = SVR(kernel='rbf', C=1000, gamma=0.1)\n",
    "#svrLIN = SVR(kernel='linear', C=1000)\n",
    "svrPOLY = SVR(kernel='poly', C=1000, degree=3)\n",
    "pred_svrPOLY = svrPOLY.fit(XTrain, yTrain).predict(XTest)\n",
    "\n",
    "mse_svrPOLY = mean_squared_error(yTest, pred_svrPOLY)\n",
    "print('Support Vector Regresion: MSE = {:.2f}'.format(mse_svrPOLY))"
   ]
  },
  {
   "cell_type": "markdown",
   "metadata": {},
   "source": [
    "## Ridge Regression"
   ]
  },
  {
   "cell_type": "code",
   "execution_count": 21,
   "metadata": {},
   "outputs": [
    {
     "name": "stdout",
     "output_type": "stream",
     "text": [
      "Ridge Regression: MSE = 1350.89\n",
      "CPU times: user 13.5 s, sys: 49.7 ms, total: 13.5 s\n",
      "Wall time: 13.6 s\n"
     ]
    }
   ],
   "source": [
    "%%time\n",
    "from sklearn.linear_model import Ridge\n",
    "\n",
    "#add in gridsearch later\n",
    "ridge = Ridge(alpha=1.0)\n",
    "pred_ridge = ridge.fit(XTrain, yTrain).predict(XTest)\n",
    "\n",
    "mse_ridge = mean_squared_error(yTest, pred_ridge)\n",
    "print('Ridge Regression: MSE = {:.2f}'.format(mse_ridge))"
   ]
  },
  {
   "cell_type": "code",
   "execution_count": 22,
   "metadata": {},
   "outputs": [
    {
     "data": {
      "image/png": "[encoded data removed]",
      "text/plain": [
       "<matplotlib.figure.Figure at 0x113540fd0>"
      ]
     },
     "metadata": {},
     "output_type": "display_data"
    }
   ],
   "source": [
    "plt.figure(figsize=(12,10))\n",
    "plt.scatter(yTest, pred_ridge)\n",
    "plt.ylabel(\"Prediction Price\")\n",
    "plt.ylim(ymax = 750)\n",
    "plt.xlim(xmax = 1500)\n",
    "plt.xlabel(\"True Price\")\n",
    "plt.title(\"Ridge Regression: Prediction vs True Prices\");"
   ]
  },
  {
   "cell_type": "code",
   "execution_count": null,
   "metadata": {},
   "outputs": [],
   "source": []
  },
  {
   "cell_type": "code",
   "execution_count": null,
   "metadata": {},
   "outputs": [],
   "source": []
  },
  {
   "cell_type": "markdown",
   "metadata": {},
   "source": [
    "## Regression Models that take sparse matrices (\n",
    "\n",
    "BaggingRegressor\n",
    "\n",
    "ExtraTreesRegressor\n",
    "AdaBoostRegressor\n",
    "KNeighborsRegressor\n",
    "SVR\n",
    "SGDRegressor\n",
    "\n",
    "Linear Regression\n",
    "Ridge Regression\n",
    "Lasso Regression\n",
    "ElasticNet\n",
    "PassiveAggressiveRegressor\n",
    "RANSACRegressor\n",
    "KernelRidge\n",
    "NuSVR\n",
    "LinearSVR\n",
    "RadiusNeighborsRegressor\n",
    "MultiOutputRegressor\n",
    "MLPRegressor"
   ]
  },
  {
   "cell_type": "code",
   "execution_count": null,
   "metadata": {
    "collapsed": true
   },
   "outputs": [],
   "source": []
  },
  {
   "cell_type": "code",
   "execution_count": null,
   "metadata": {
    "collapsed": true
   },
   "outputs": [],
   "source": []
  }
 ],
 "metadata": {
  "kernelspec": {
   "display_name": "Python 3",
   "language": "python",
   "name": "python3"
  },
  "language_info": {
   "codemirror_mode": {
    "name": "ipython",
    "version": 3
   },
   "file_extension": ".py",
   "mimetype": "text/x-python",
   "name": "python",
   "nbconvert_exporter": "python",
   "pygments_lexer": "ipython3",
   "version": "3.6.3"
  }
 },
 "nbformat": 4,
 "nbformat_minor": 2
}
