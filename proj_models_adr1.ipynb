{
 "cells": [
  {
   "cell_type": "code",
   "execution_count": 80,
   "metadata": {
    "collapsed": true
   },
   "outputs": [],
   "source": [
    "import pandas as pd\n",
    "import scipy.sparse\n",
    "import scipy\n",
    "import scipy.io\n",
    "import numpy as np\n",
    "from sklearn.decomposition import PCA\n",
    "from sklearn.utils import resample\n",
    "import matplotlib.pyplot as plt\n",
    "from sklearn.feature_extraction.text import TfidfTransformer\n",
    "from sklearn.manifold import TSNE\n",
    "import warnings\n",
    "warnings.filterwarnings('ignore')"
   ]
  },
  {
   "cell_type": "code",
   "execution_count": 3,
   "metadata": {},
   "outputs": [],
   "source": [
    "train_clean = pd.read_csv('Data/train_clean.tsv', sep='\\t', header=0)"
   ]
  },
  {
   "cell_type": "code",
   "execution_count": 48,
   "metadata": {},
   "outputs": [],
   "source": [
    "#get the mean values per category_name_1 to use as baseline predictions\n",
    "mean_values = train_clean.groupby('category_name_1')['price'].mean()\n",
    "df_means = pd.DataFrame(mean_values)\n",
    "df_means.reset_index(inplace=True)\n",
    "df_means.rename(columns={'price':'prediction'}, inplace=True)"
   ]
  },
  {
   "cell_type": "code",
   "execution_count": 73,
   "metadata": {},
   "outputs": [],
   "source": [
    "testFile = pd.read_csv('Data/test.tsv', sep='\\t', header=0)\n",
    "\n",
    "#split by category_name\n",
    "#df.join(df['AB'].str.split('-', 1, expand=True).rename(columns={0:'A', 1:'B'}))\n",
    "#testFile['category_name'].str.split('/',2, expand=True).rename(columns={0:'category_1', 1:'category_2', 2:'category_3'})"
   ]
  },
  {
   "cell_type": "code",
   "execution_count": 77,
   "metadata": {},
   "outputs": [],
   "source": [
    "#splitting train_clean into train_base and test_base as our test.tsv has no price labels for us to check against\n",
    "train_base = train_clean.iloc[:1000000,:]\n",
    "test_base = train_clean.iloc[1000000:,:]"
   ]
  },
  {
   "cell_type": "code",
   "execution_count": 82,
   "metadata": {},
   "outputs": [],
   "source": [
    "#import train_term_matrix\n",
    "sparse_matrix = scipy.io.mmread('Data/train_term_matrix.mtx')\n",
    "\n",
    "#dies\n",
    "#train_dense = sparse_matrix.todense()"
   ]
  },
  {
   "cell_type": "code",
   "execution_count": null,
   "metadata": {},
   "outputs": [],
   "source": [
    "train_dense.columns"
   ]
  },
  {
   "cell_type": "code",
   "execution_count": null,
   "metadata": {
    "collapsed": true
   },
   "outputs": [],
   "source": []
  },
  {
   "cell_type": "markdown",
   "metadata": {},
   "source": [
    "## Baseline Model - Use average of category_name_1 products"
   ]
  },
  {
   "cell_type": "code",
   "execution_count": 78,
   "metadata": {},
   "outputs": [
    {
     "name": "stdout",
     "output_type": "stream",
     "text": [
      "Baseline model MSE = 1450.86\n"
     ]
    }
   ],
   "source": [
    "from sklearn.metrics import mean_squared_error\n",
    "\n",
    "#merge with df_means to get mean 'prediction'\n",
    "test_base_pred = test_base.merge(df_means, how='left', on='category_name_1')\n",
    "\n",
    "#remove rows with NaN in category_1\n",
    "test_base_pred = test_base_pred[test_base_pred.category_name_1.notnull()]\n",
    "\n",
    "mse_base = mean_squared_error(test_base_pred['price'], test_base_pred['prediction'])\n",
    "print('Baseline model MSE = {:.2f}'.format(mse_base))\n"
   ]
  },
  {
   "cell_type": "markdown",
   "metadata": {},
   "source": [
    "## Regression Tree"
   ]
  },
  {
   "cell_type": "markdown",
   "metadata": {},
   "source": [
    ">> need help how to handle (subset/sample) the sparse matrix, as our test data doesn't have a price, I think we should split our train into train & test(or validation)\n",
    "\n",
    ">> need to set XTrain, XTest, yTrain, yTest"
   ]
  },
  {
   "cell_type": "code",
   "execution_count": null,
   "metadata": {},
   "outputs": [],
   "source": [
    "from sklearn.tree import DecisionTreeRegressor\n",
    "from sklearn.model_selection import GridSearchCV\n",
    "\n",
    "treeReg = DecisionTreeRegressor(random_state=0)\n",
    "\n",
    "params_maxDepth = {'max_depth':[2,5,10,15,20]}\n",
    "\n",
    "clf = GridSearchCV(treeReg, params_maxDepth)\n",
    "clf.fit(XTrain, yTrain)"
   ]
  },
  {
   "cell_type": "code",
   "execution_count": 75,
   "metadata": {
    "collapsed": true
   },
   "outputs": [],
   "source": [
    "## Random Forest Regression"
   ]
  },
  {
   "cell_type": "code",
   "execution_count": null,
   "metadata": {
    "collapsed": true
   },
   "outputs": [],
   "source": [
    "from sklearn.ensemble import RandomForestRegressor\n",
    "\n",
    "rf = RandomForestRegressor(random_state=0)\n",
    "\n",
    "clf_rf = GridSearchCV(rf, params_maxDepth)\n",
    "clf.fit(XTrain, yTrain)"
   ]
  },
  {
   "cell_type": "markdown",
   "metadata": {},
   "source": [
    "## Support Vector Regression (SVR)"
   ]
  },
  {
   "cell_type": "code",
   "execution_count": null,
   "metadata": {},
   "outputs": [],
   "source": [
    "from sklearn.svm import SVR\n",
    "\n",
    "svrRBF = SVR(kernel='rbf', C=1000, gamma=0.1)\n",
    "svrLIN = SVR(kernel='linear', C=1000)\n",
    "svrPOLY = SVR(kernel='poly', C=1000, degree=3)\n",
    "\n",
    "y_rbf = svr_rbf.fit(XTrain, yTrain).predict(XTest)\n",
    "y_lin = svr_lin.fit(XTrain, yTrain).predict(XTest)\n",
    "y_poly = svr_poly.fit(XTrain, yTrain).predict(XTest)"
   ]
  },
  {
   "cell_type": "code",
   "execution_count": null,
   "metadata": {},
   "outputs": [],
   "source": []
  },
  {
   "cell_type": "markdown",
   "metadata": {},
   "source": [
    "## Regression Models that take sparse matrices (\n",
    "DecisionTreeRegressor\n",
    "BaggingRegressor\n",
    "RandomForestRegressor\n",
    "ExtraTreesRegressor\n",
    "AdaBoostRegressor\n",
    "KNeighborsRegressor\n",
    "SVR\n",
    "SGDRegressor\n",
    "\n",
    "Linear Regression\n",
    "Ridge Regression\n",
    "Lasso Regression\n",
    "ElasticNet\n",
    "PassiveAggressiveRegressor\n",
    "RANSACRegressor\n",
    "KernelRidge\n",
    "NuSVR\n",
    "LinearSVR\n",
    "RadiusNeighborsRegressor\n",
    "MultiOutputRegressor\n",
    "MLPRegressor"
   ]
  },
  {
   "cell_type": "code",
   "execution_count": null,
   "metadata": {},
   "outputs": [],
   "source": []
  },
  {
   "cell_type": "code",
   "execution_count": null,
   "metadata": {
    "collapsed": true
   },
   "outputs": [],
   "source": []
  }
 ],
 "metadata": {
  "kernelspec": {
   "display_name": "Python 3",
   "language": "python",
   "name": "python3"
  },
  "language_info": {
   "codemirror_mode": {
    "name": "ipython",
    "version": 3
   },
   "file_extension": ".py",
   "mimetype": "text/x-python",
   "name": "python",
   "nbconvert_exporter": "python",
   "pygments_lexer": "ipython3",
   "version": "3.6.3"
  }
 },
 "nbformat": 4,
 "nbformat_minor": 2
}
