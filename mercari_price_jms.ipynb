{
 "cells": [
  {
   "cell_type": "markdown",
   "metadata": {},
   "source": [
    "# MLPS - Mercari Price ML"
   ]
  },
  {
   "cell_type": "code",
   "execution_count": 1,
   "metadata": {
    "collapsed": true
   },
   "outputs": [],
   "source": [
    "import pandas as pd \n",
    "import numpy as np"
   ]
  },
  {
   "cell_type": "markdown",
   "metadata": {},
   "source": [
    "### Perform data cleaning"
   ]
  },
  {
   "cell_type": "code",
   "execution_count": 2,
   "metadata": {},
   "outputs": [
    {
     "name": "stderr",
     "output_type": "stream",
     "text": [
      "/Applications/anaconda3/lib/python3.6/site-packages/numpy/lib/arraysetops.py:472: FutureWarning: elementwise comparison failed; returning scalar instead, but in the future will perform elementwise comparison\n",
      "  mask |= (ar1 == a)\n"
     ]
    }
   ],
   "source": [
    "data = pd.read_csv(\"Data/train.tsv\", delimiter=\"\\t\", index_col=0)\n",
    "\n",
    "# remove items with out a price\n",
    "data = data[pd.notna(data[\"price\"])]\n",
    "\n",
    "data[\"item_description\"] = data[\"item_description\"].replace(\"No description yet\", \"\")\n",
    "data[\"item_description\"] = data[\"item_description\"].replace(np.nan, \"\")\n",
    "\n",
    "temp = data[\"category_name\"].fillna('').str.split('/')\n",
    "              \n",
    "data[\"category_name_1\"] = temp.str[0]\n",
    "data[\"category_name_2\"] = temp.str[1]\n",
    "data[\"category_name_3\"] = temp.str[2:].str.join(\"/\")"
   ]
  },
  {
   "cell_type": "markdown",
   "metadata": {},
   "source": [
    "### Implement porter stemming in count vectorizer"
   ]
  },
  {
   "cell_type": "code",
   "execution_count": 10,
   "metadata": {
    "collapsed": true
   },
   "outputs": [],
   "source": [
    "from sklearn.feature_extraction.text import CountVectorizer, TfidfTransformer\n",
    "from nltk.stem.porter import *\n",
    "import string\n",
    "\n",
    "class StemmerTokenizer(object):\n",
    "    def __init__(self):\n",
    "        self.ps = PorterStemmer()\n",
    "        self.translator = str.maketrans('', '', string.punctuation + string.digits)\n",
    "    def __call__(self, doc):\n",
    "        return [self.ps.stem(w) for w in doc.translate(self.translator).split()]\n",
    "\n",
    "vectorizer = CountVectorizer(lowercase = True,\n",
    "                             max_df = .5,\n",
    "                             min_df = .001,\n",
    "                             tokenizer = StemmerTokenizer(),\n",
    "                             stop_words='english')"
   ]
  },
  {
   "cell_type": "markdown",
   "metadata": {},
   "source": [
    "### Count vectorize the data"
   ]
  },
  {
   "cell_type": "code",
   "execution_count": 11,
   "metadata": {},
   "outputs": [
    {
     "name": "stdout",
     "output_type": "stream",
     "text": [
      "CPU times: user 9min 58s, sys: 3.41 s, total: 10min 1s\n",
      "Wall time: 10min 3s\n"
     ]
    }
   ],
   "source": [
    "%%time\n",
    "tfm = vectorizer.fit_transform(data[\"item_description\"])"
   ]
  },
  {
   "cell_type": "code",
   "execution_count": 12,
   "metadata": {
    "collapsed": true
   },
   "outputs": [],
   "source": [
    "# vocab = vectorizer.vocabulary_ \n",
    "# removed_words = vectorizer.stop_words_"
   ]
  },
  {
   "cell_type": "code",
   "execution_count": 13,
   "metadata": {},
   "outputs": [
    {
     "name": "stdout",
     "output_type": "stream",
     "text": [
      "CPU times: user 465 ms, sys: 310 ms, total: 774 ms\n",
      "Wall time: 791 ms\n"
     ]
    }
   ],
   "source": [
    "%%time\n",
    "tfidf_vectorizer = TfidfTransformer()\n",
    "tfidf_transformed = tfidf_vectorizer.fit_transform(tfm)"
   ]
  },
  {
   "cell_type": "markdown",
   "metadata": {},
   "source": [
    "### Save results for time savings"
   ]
  },
  {
   "cell_type": "code",
   "execution_count": 14,
   "metadata": {
    "collapsed": true
   },
   "outputs": [],
   "source": [
    "from scipy.sparse import save_npz\n",
    "save_npz(\"tfm.npz\", tfm)\n",
    "save_npz(\"tfidf_transformed.npz\", tfidf_transformed)"
   ]
  },
  {
   "cell_type": "markdown",
   "metadata": {},
   "source": [
    "### Load files as necessary for time savings"
   ]
  },
  {
   "cell_type": "code",
   "execution_count": 3,
   "metadata": {
    "collapsed": true
   },
   "outputs": [],
   "source": [
    "from scipy.sparse import load_npz\n",
    "\n",
    "tfm = load_npz(\"tfm.npz\")\n",
    "tfidf_transformed = load_npz(\"tfidf_transformed.npz\")\n",
    "cleaned_categorical = pd.read_csv('Data/train_clean.tsv', sep='\\t', header=0)"
   ]
  },
  {
   "cell_type": "code",
   "execution_count": null,
   "metadata": {
    "collapsed": true
   },
   "outputs": [],
   "source": [
    "tfm.shape"
   ]
  },
  {
   "cell_type": "code",
   "execution_count": null,
   "metadata": {
    "collapsed": true
   },
   "outputs": [],
   "source": [
    "tfidf_transformed.shape"
   ]
  },
  {
   "cell_type": "code",
   "execution_count": null,
   "metadata": {
    "collapsed": true
   },
   "outputs": [],
   "source": [
    "cleaned_categorical.shape"
   ]
  },
  {
   "cell_type": "markdown",
   "metadata": {},
   "source": [
    "# Split into train and test"
   ]
  },
  {
   "cell_type": "code",
   "execution_count": 4,
   "metadata": {
    "collapsed": true
   },
   "outputs": [],
   "source": [
    "from sklearn.model_selection import train_test_split\n",
    "from sklearn.preprocessing import OneHotEncoder\n",
    "\n",
    "y_categorical = cleaned_categorical[\"price\"].astype('float', copy=False)\n",
    "cleaned_categorical.drop([\"train_id\", \"name\", \"category_name\", \"item_description\", \"price\"], axis=1, inplace=True)\n",
    "cleaned_categorical[\"item_condition_id\"] = cleaned_categorical[\"item_condition_id\"].astype('str', copy=False)"
   ]
  },
  {
   "cell_type": "code",
   "execution_count": 5,
   "metadata": {
    "collapsed": true
   },
   "outputs": [],
   "source": [
    "ohe_cleaned_categorical = pd.get_dummies(cleaned_categorical)"
   ]
  },
  {
   "cell_type": "code",
   "execution_count": 6,
   "metadata": {
    "collapsed": true
   },
   "outputs": [],
   "source": [
    "y_cat_train, y_cat_test, X_cat_train, X_cat_test, tfidf_train, tfidf_test, tfm_train, tfm_test = train_test_split(\n",
    "    y_categorical, ohe_cleaned_categorical, tfidf_transformed, tfm, test_size=0.2, random_state=95)"
   ]
  },
  {
   "cell_type": "markdown",
   "metadata": {},
   "source": [
    "# Split into X and Y and remove unused columns"
   ]
  },
  {
   "cell_type": "code",
   "execution_count": null,
   "metadata": {
    "collapsed": true
   },
   "outputs": [],
   "source": [
    "ohe_cleaned_categorical.head()"
   ]
  },
  {
   "cell_type": "code",
   "execution_count": null,
   "metadata": {
    "collapsed": true
   },
   "outputs": [],
   "source": [
    "# from sklearn.tree import DecisionTreeRegressor\n",
    "# from sklearn.model_selection import GridSearchCV \n",
    "\n",
    "# # def modelvalidation(n_split, rand_state):\n",
    "# #     estimator\n",
    "\n",
    "# search_range = {\"max_depth\": [1, 2]}\n",
    "# folds = 2\n",
    "\n",
    "# cv = GridSearchCV(estimator=DecisionTreeRegressor(),  cv= folds, param_grid=search_range,  refit=True, n_jobs= -1, verbose=1, return_train_score=True)\n",
    "# cv.fit(X_cat_train, y_cat_train)  "
   ]
  },
  {
   "cell_type": "code",
   "execution_count": 12,
   "metadata": {},
   "outputs": [],
   "source": [
    "y_cat_train_small, y_cat_train_remainder, X_cat_train_small, X_cat_train_remainder, tfidf_train_small, tfidf_train_remainder = train_test_split(\n",
    "        y_cat_train, X_cat_train, tfidf_train, test_size=0.9, random_state=95)\n"
   ]
  },
  {
   "cell_type": "code",
   "execution_count": 13,
   "metadata": {},
   "outputs": [
    {
     "data": {
      "text/plain": [
       "(118602,)"
      ]
     },
     "execution_count": 13,
     "metadata": {},
     "output_type": "execute_result"
    }
   ],
   "source": [
    "y_cat_train_small.shape"
   ]
  },
  {
   "cell_type": "code",
   "execution_count": 14,
   "metadata": {},
   "outputs": [
    {
     "data": {
      "text/plain": [
       "(118602, 5809)"
      ]
     },
     "execution_count": 14,
     "metadata": {},
     "output_type": "execute_result"
    }
   ],
   "source": [
    "X_cat_train_small.shape"
   ]
  },
  {
   "cell_type": "code",
   "execution_count": 15,
   "metadata": {},
   "outputs": [
    {
     "name": "stderr",
     "output_type": "stream",
     "text": [
      "............................................................................................................................................................................................................................................................................................................[Parallel(n_jobs=1)]: Done   3 out of   3 | elapsed:  6.0min finished\n"
     ]
    }
   ],
   "source": [
    "from sklearn.linear_model import LassoCV\n",
    "\n",
    "model = LassoCV(cv=3, verbose=True).fit(X_cat_train_small, y_cat_train_small)"
   ]
  },
  {
   "cell_type": "code",
   "execution_count": 21,
   "metadata": {},
   "outputs": [
    {
     "data": {
      "image/png": "[encoded data removed]",
      "text/plain": [
       "<matplotlib.figure.Figure at 0x15a164198>"
      ]
     },
     "metadata": {},
     "output_type": "display_data"
    },
    {
     "name": "stdout",
     "output_type": "stream",
     "text": [
      "[[1410.19874432 1622.98763508 1577.76854625]\n",
      " [1408.62656066 1621.16741626 1576.00279635]\n",
      " [1406.97447223 1619.57103442 1574.47131504]\n",
      " [1405.53373068 1618.18245321 1573.14330028]\n",
      " [1404.27706664 1616.97461513 1571.99198147]\n",
      " [1403.18074514 1615.92398636 1570.99409302]\n",
      " [1402.22410646 1615.01009782 1570.12941662]\n",
      " [1401.38916664 1614.21514607 1569.38038315]\n",
      " [1400.66027004 1613.52364607 1568.73172661]\n",
      " [1399.7348465  1612.92212931 1567.82454578]\n",
      " [1397.14499133 1610.55458207 1562.85068891]\n",
      " [1391.04585305 1604.584757   1557.37759279]\n",
      " [1385.73042513 1599.1484473  1552.61540091]\n",
      " [1380.95475758 1594.140304   1548.26075805]\n",
      " [1376.17547258 1588.51827013 1543.37177766]\n",
      " [1371.17261376 1583.61936135 1539.00450237]\n",
      " [1366.80553436 1579.35002007 1535.09572854]\n",
      " [1362.79141411 1575.42596374 1531.63190916]\n",
      " [1359.02212562 1571.71484969 1528.29193332]\n",
      " [1355.46665771 1567.10756858 1523.35973736]\n",
      " [1351.76762495 1561.73671299 1518.74594732]\n",
      " [1346.42837648 1555.76652696 1514.75976364]\n",
      " [1341.635875   1549.92653161 1511.27861905]\n",
      " [1337.14049172 1544.71789334 1505.75076904]\n",
      " [1332.16959943 1539.52784598 1499.62611461]\n",
      " [1324.40623712 1534.5395341  1489.44290776]\n",
      " [1310.08444558 1530.16261995 1479.7498476 ]\n",
      " [1296.98942212 1524.14144918 1470.95465382]\n",
      " [1285.48404307 1512.07950399 1462.54832061]\n",
      " [1275.47517544 1499.68326805 1453.02751317]\n",
      " [1266.09091021 1488.20719724 1444.17870176]\n",
      " [1257.74525973 1478.21336651 1436.49245122]\n",
      " [1250.47524174 1469.48117381 1429.81901511]\n",
      " [1243.53635814 1461.10440285 1423.58762652]\n",
      " [1235.65164123 1453.48644533 1417.11797714]\n",
      " [1228.4031235  1446.42337731 1410.90015558]\n",
      " [1221.97547433 1439.16781117 1404.0750592 ]\n",
      " [1215.3656397  1432.81470198 1396.74081487]\n",
      " [1209.45256566 1426.84048733 1390.38104271]\n",
      " [1203.8038537  1421.02547875 1384.34577454]\n",
      " [1197.04715666 1414.5153077  1376.99502776]\n",
      " [1189.85423356 1406.75488082 1369.40117832]\n",
      " [1183.06908483 1398.88685657 1362.57805221]\n",
      " [1176.60878503 1391.18872579 1356.55071543]\n",
      " [1170.55431502 1383.6551532  1351.08901944]\n",
      " [1164.87983652 1376.30732241 1345.37346279]\n",
      " [1159.55731789 1369.34795388 1339.93162005]\n",
      " [1154.33874282 1362.28374259 1334.47898397]\n",
      " [1149.75811502 1354.85337373 1327.64987644]\n",
      " [1145.61748191 1347.70311409 1320.94925129]\n",
      " [1139.73941208 1340.60786418 1314.99301505]\n",
      " [1133.26697834 1333.29568712 1309.7106095 ]\n",
      " [1127.40902445 1324.20384169 1304.9108807 ]\n",
      " [1122.22985095 1315.90211071 1300.75728   ]\n",
      " [1117.55060739 1308.52527417 1296.55857093]\n",
      " [1113.12748933 1301.79439663 1292.19944248]\n",
      " [1108.80118963 1295.45823409 1288.17066353]\n",
      " [1104.22711543 1289.10408212 1284.09068067]\n",
      " [1099.99124418 1283.17755152 1280.16426471]\n",
      " [1095.99741958 1277.68265636 1275.86852183]\n",
      " [1092.29096125 1272.3570756  1271.78194851]\n",
      " [1088.85823673 1267.3418332  1268.15758324]\n",
      " [1085.61089548 1262.77897966 1264.85355387]\n",
      " [1082.37972793 1258.38826079 1261.71417156]\n",
      " [1079.407623   1254.31651142 1258.07487202]\n",
      " [1076.62310072 1250.5772825  1254.64617206]\n",
      " [1074.03280029 1247.12381794 1251.58749687]\n",
      " [1071.64039393 1243.95093226 1248.71516465]\n",
      " [1069.25164377 1240.8830547  1246.01270877]\n",
      " [1066.91058173 1238.07471014 1243.51110625]\n",
      " [1064.52521148 1235.37798183 1241.20823689]\n",
      " [1062.34795178 1232.6964441  1238.93870453]\n",
      " [1060.11153042 1230.0549264  1236.71008743]\n",
      " [1057.96413602 1227.14939205 1234.5458169 ]\n",
      " [1055.87962541 1224.35354679 1232.50149808]\n",
      " [1053.8701984  1221.42650227 1230.5954367 ]\n",
      " [1051.74387265 1218.69339326 1228.75501078]\n",
      " [1049.6722241  1216.20421529 1227.06804458]\n",
      " [1048.03087517 1213.93296208 1225.38594242]\n",
      " [1047.23696212 1211.87779511 1223.29751042]\n",
      " [1047.138932   1209.90725751 1221.48033325]\n",
      " [1047.52897036 1207.94909673 1219.78908812]\n",
      " [1048.1587221  1205.65350969 1218.39589654]\n",
      " [1049.00327655 1203.21064519 1217.35697798]\n",
      " [1049.92173388 1200.55709077 1216.60718408]\n",
      " [1050.86652852 1197.95148699 1216.10902782]\n",
      " [1052.01402442 1195.48775494 1215.7686213 ]\n",
      " [1053.0861501  1193.23342032 1215.51859536]\n",
      " [1054.11643735 1191.18570947 1215.29124065]\n",
      " [1055.25403578 1189.30743495 1215.01275043]\n",
      " [1056.46570023 1187.53967446 1214.80678093]\n",
      " [1057.84237516 1185.88814742 1214.58051972]\n",
      " [1059.33933896 1184.28237171 1214.41217589]\n",
      " [1060.91632521 1182.88561178 1214.29110464]\n",
      " [1062.5581231  1181.65099345 1214.20296044]\n",
      " [1064.21802701 1180.49169914 1214.07019921]\n",
      " [1065.84763545 1179.4428959  1213.93737031]\n",
      " [1067.46640935 1178.48330066 1213.85185135]\n",
      " [1069.03409255 1177.61450968 1213.82528934]\n",
      " [1070.56543395 1176.87140564 1213.83178127]]\n"
     ]
    }
   ],
   "source": [
    "import matplotlib.pyplot as plt\n",
    "\n",
    "# Display results\n",
    "m_log_alphas = -np.log10(model.alphas_)\n",
    "\n",
    "plt.figure()\n",
    "ymin, ymax = 2300, 3800\n",
    "plt.plot(m_log_alphas, model.mse_path_, ':')\n",
    "plt.show()\n",
    "print(model.mse_path_)"
   ]
  },
  {
   "cell_type": "code",
   "execution_count": null,
   "metadata": {},
   "outputs": [],
   "source": []
  }
 ],
 "metadata": {
  "kernelspec": {
   "display_name": "Python 3",
   "language": "python",
   "name": "python3"
  },
  "language_info": {
   "codemirror_mode": {
    "name": "ipython",
    "version": 3
   },
   "file_extension": ".py",
   "mimetype": "text/x-python",
   "name": "python",
   "nbconvert_exporter": "python",
   "pygments_lexer": "ipython3",
   "version": "3.6.3"
  }
 },
 "nbformat": 4,
 "nbformat_minor": 2
}
