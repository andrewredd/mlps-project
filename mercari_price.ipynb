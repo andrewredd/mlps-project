{
 "cells": [
  {
   "cell_type": "markdown",
   "metadata": {},
   "source": [
    "# MLPS - Mercari Price ML"
   ]
  },
  {
   "cell_type": "code",
   "execution_count": 2,
   "metadata": {
    "collapsed": true
   },
   "outputs": [],
   "source": [
    "%matplotlib inline\n",
    "import matplotlib.pyplot as plt\n",
    "import matplotlib\n",
    "matplotlib.style.use('ggplot')  # prettier plots\n",
    "import seaborn as sns; sns.set()\n",
    "\n",
    "import pandas as pd \n",
    "import numpy as np\n",
    "pd.set_option('display.float_format', lambda x: '%.3f' % x)\n",
    "\n",
    "\n",
    "import json \n",
    "import operator\n",
    "import copy\n",
    "import warnings\n",
    "warnings.filterwarnings('ignore')\n",
    "\n",
    "from scipy.sparse import load_npz, save_npz\n",
    "from sklearn.feature_extraction.text import CountVectorizer, TfidfTransformer\n",
    "from sklearn.model_selection import train_test_split, KFold\n",
    "from sklearn.metrics import mean_squared_error\n",
    "from sklearn.preprocessing import OneHotEncoder\n",
    "from sklearn.linear_model import Lasso\n",
    "\n",
    "from nltk.stem.porter import *\n",
    "import string\n",
    "\n",
    "sd_out = 6\n",
    "log_trans = 0.000000001"
   ]
  },
  {
   "cell_type": "markdown",
   "metadata": {},
   "source": [
    "### Load data"
   ]
  },
  {
   "cell_type": "code",
   "execution_count": 3,
   "metadata": {
    "collapsed": true
   },
   "outputs": [],
   "source": [
    "# load data \n",
    "data = pd.read_csv(\"Data/train.tsv\", delimiter=\"\\t\", index_col=0)"
   ]
  },
  {
   "cell_type": "markdown",
   "metadata": {},
   "source": [
    "### Perform data cleaning"
   ]
  },
  {
   "cell_type": "code",
   "execution_count": 4,
   "metadata": {
    "collapsed": true
   },
   "outputs": [],
   "source": [
    "# remove items with out a price\n",
    "data = data[pd.notna(data[\"price\"])]\n",
    "\n",
    "# remove outliers\n",
    "data['log_price'] = np.log(data['price'] + log_trans)\n",
    "st_dev_log_price_6 = data['log_price'].std()*sd_out\n",
    "out = np.array((data['log_price'] < st_dev_log_price_6) & \n",
    "               (data['log_price'] > -st_dev_log_price_6))\n",
    "data = data[out]\n",
    "data.reset_index(drop = True, inplace=True)\n",
    "data.drop(columns=[\"log_price\"], inplace=True)\n",
    "\n",
    "#replace null brand with no brand info\n",
    "data[\"brand_name\"][data[\"brand_name\"].isnull()] = \"No Brand Info\"\n",
    "\n",
    "# replace no descriptions with \"\" to avoid no descript yet\n",
    "data[\"item_description\"] = data[\"item_description\"].replace(\"No description yet\", \"\")\n",
    "data[\"item_description\"] = data[\"item_description\"].replace(np.nan, \"\")\n",
    "\n",
    "# split out category\n",
    "temp = data[\"category_name\"].fillna('').str.split('/')        \n",
    "data[\"category_name_1\"] = temp.str[0]\n",
    "data[\"category_name_2\"] = temp.str[1]\n",
    "data[\"category_name_3\"] = temp.str[2:].str.join(\"/\")"
   ]
  },
  {
   "cell_type": "markdown",
   "metadata": {},
   "source": [
    "### Implement porter stemming in count vectorizer"
   ]
  },
  {
   "cell_type": "code",
   "execution_count": 15,
   "metadata": {
    "collapsed": true
   },
   "outputs": [],
   "source": [
    "class StemmerTokenizer(object):\n",
    "    def __init__(self):\n",
    "        self.ps = PorterStemmer()\n",
    "        self.translator = str.maketrans('', '', string.punctuation + string.digits)\n",
    "        self.ps_dict = dict()\n",
    "    def __call__(self, doc):\n",
    "        output = []\n",
    "        for w in doc.encode('ascii', errors='ignore').decode('ascii').translate(self.translator).split():\n",
    "            stem = self.ps.stem(w)\n",
    "            self.ps_dict.setdefault(stem,set()).add(w)\n",
    "            output.append(stem)\n",
    "        return output\n",
    "\n",
    "stemmer = StemmerTokenizer()\n",
    "    \n",
    "vectorizer = CountVectorizer(lowercase = True,\n",
    "                             max_df = .5,\n",
    "                             min_df = .001,\n",
    "                             tokenizer = stemmer,\n",
    "                             stop_words='english')"
   ]
  },
  {
   "cell_type": "markdown",
   "metadata": {},
   "source": [
    "### Count vectorize the data"
   ]
  },
  {
   "cell_type": "code",
   "execution_count": 16,
   "metadata": {},
   "outputs": [
    {
     "name": "stdout",
     "output_type": "stream",
     "text": [
      "Wall time: 14min 21s\n"
     ]
    }
   ],
   "source": [
    "%%time\n",
    "tfm = vectorizer.fit_transform(data[\"item_description\"])"
   ]
  },
  {
   "cell_type": "code",
   "execution_count": 17,
   "metadata": {},
   "outputs": [
    {
     "name": "stdout",
     "output_type": "stream",
     "text": [
      "Wall time: 948 ms\n"
     ]
    }
   ],
   "source": [
    "%%time\n",
    "tfidf_vectorizer = TfidfTransformer()\n",
    "tfidf_transformed = tfidf_vectorizer.fit_transform(tfm)"
   ]
  },
  {
   "cell_type": "markdown",
   "metadata": {},
   "source": [
    "### For saving results"
   ]
  },
  {
   "cell_type": "code",
   "execution_count": 37,
   "metadata": {
    "collapsed": true
   },
   "outputs": [],
   "source": [
    "save_npz(\"tfm.npz\", tfm)\n",
    "save_npz(\"tfidf_transformed.npz\", tfidf_transformed)"
   ]
  },
  {
   "cell_type": "code",
   "execution_count": 38,
   "metadata": {
    "collapsed": true
   },
   "outputs": [],
   "source": [
    "with open(\"vocabulary.txt\", \"w\") as f:\n",
    "    f.write(\"\".join([k + '\\n' for k, v in sorted(vectorizer.vocabulary_.items(), key=operator.itemgetter(1))]))"
   ]
  },
  {
   "cell_type": "code",
   "execution_count": 39,
   "metadata": {
    "collapsed": true
   },
   "outputs": [],
   "source": [
    "with open(\"porter_dictionary.json\", \"w\") as f:\n",
    "    f.write(json.dumps({k: list(v) for k, v in stemmer.ps_dict.items()}))"
   ]
  },
  {
   "cell_type": "code",
   "execution_count": 90,
   "metadata": {
    "collapsed": true
   },
   "outputs": [],
   "source": [
    "data.to_csv(\"train_clean.csv\")"
   ]
  },
  {
   "cell_type": "markdown",
   "metadata": {},
   "source": [
    "### For loading the data"
   ]
  },
  {
   "cell_type": "code",
   "execution_count": 86,
   "metadata": {
    "collapsed": true
   },
   "outputs": [],
   "source": [
    "tfm = load_npz(\"tfm.npz\")\n",
    "tfidf_transformed = load_npz(\"tfidf_transformed.npz\")"
   ]
  },
  {
   "cell_type": "code",
   "execution_count": 87,
   "metadata": {
    "collapsed": true
   },
   "outputs": [],
   "source": [
    "with open(\"vocabulary.txt\", 'r') as f:\n",
    "    vocabulary = f.read().split('\\n')"
   ]
  },
  {
   "cell_type": "code",
   "execution_count": 88,
   "metadata": {
    "collapsed": true
   },
   "outputs": [],
   "source": [
    "with open(\"porter_dictionary.json\", 'r') as f:\n",
    "    ps_dict = json.loads(f.read())"
   ]
  },
  {
   "cell_type": "code",
   "execution_count": 92,
   "metadata": {
    "collapsed": true
   },
   "outputs": [],
   "source": [
    "data = pd.read_csv(\"train_clean.csv\")"
   ]
  },
  {
   "cell_type": "markdown",
   "metadata": {},
   "source": [
    "## Split into train and test"
   ]
  },
  {
   "cell_type": "code",
   "execution_count": 98,
   "metadata": {
    "collapsed": true
   },
   "outputs": [],
   "source": [
    "cleaned_categorical = data\n",
    "\n",
    "y_categorical = cleaned_categorical['price']\n",
    "cleaned_categorical.drop([\"name\",\"category_name\",\"item_description\",\"price\"], axis=1, inplace=True)\n",
    "cleaned_categorical[\"item_condition_id\"] = cleaned_categorical[\"item_condition_id\"].astype('str', copy=False)\n",
    "\n",
    "ohe_cleaned_categorical = pd.get_dummies(cleaned_categorical)\n",
    "\n",
    "n_sample = 100000\n",
    "sample = np.random.permutation(y_categorical.shape[0])[:n_sample]\n",
    "\n",
    "y_categorical_sample = y_categorical[sample]\n",
    "ohe_cleaned_categorical_sample = ohe_cleaned_categorical.iloc[sample]\n",
    "tfidf_transformed_sample = tfidf_transformed[sample]\n",
    "\n",
    "ohe_cleaned_categorical_sample.reset_index(drop = True, inplace = True);\n",
    "y_categorical_sample.reset_index(drop = True, inplace = True);"
   ]
  },
  {
   "cell_type": "code",
   "execution_count": 14,
   "metadata": {
    "collapsed": true
   },
   "outputs": [],
   "source": [
    "# split into train and test\n",
    "yTrain, yTest, XTrain, XTest, tfidfTrain, tfidfTest = train_test_split(\n",
    "    y_categorical_sample, ohe_cleaned_categorical_sample, tfidf_transformed_sample, test_size=0.3, random_state=95)\n",
    "\n",
    "yTrain.reset_index(drop = True, inplace = True)\n",
    "yTest.reset_index(drop = True, inplace = True)\n",
    "XTrain.reset_index(drop = True, inplace = True)\n",
    "XTest.reset_index(drop = True, inplace = True);"
   ]
  },
  {
   "cell_type": "code",
   "execution_count": null,
   "metadata": {
    "collapsed": true
   },
   "outputs": [],
   "source": [
    "%time\n",
    "# specify number of folds\n",
    "folds = 2\n",
    "kf = KFold(n_splits=folds)\n",
    "\n",
    "# Test train and validate\n",
    "alpha_values = [0.001, 0.01, 0.1, 1]\n",
    "alpha_inner_values = [0.01, 0.001]\n",
    "from sklearn.linear_model import Lasso\n",
    "import copy\n",
    "\n",
    "mseOuterTrain = []\n",
    "mseOuterVal = []\n",
    "mseInnerTrain = []\n",
    "mseInnerVal = []\n",
    "mseOverallTrain = []\n",
    "mseOverallVal= []\n",
    "\n",
    "for i, (train_index, val_index) in enumerate(kf.split(yTrain)):\n",
    "    print(i)\n",
    "    yTrain_fold = yTrain.iloc[train_index]\n",
    "    yVal_fold = yTrain.iloc[val_index]\n",
    "\n",
    "    XTrain_fold = XTrain.iloc[train_index]\n",
    "    XVal_fold = XTrain.iloc[val_index]\n",
    "    \n",
    "    tfidfTrain_fold = tfidfTrain[train_index]\n",
    "    tfidfVal_fold = tfidfTrain[val_index]\n",
    "    \n",
    "\n",
    "    for a_outer in alpha_values:\n",
    "        print(i, a_outer)\n",
    "        lasso = Lasso(alpha=a_outer, random_state=111, max_iter=1000).fit(XTrain_fold, yTrain_fold)\n",
    "        predict_train = lasso.predict(XTrain_fold)\n",
    "        train_residuals = yTrain_fold - predict_train\n",
    "        mseOuterTrain.append(copy.deepcopy((i, None, a_outer ,None, np.square(train_residuals).mean())))\n",
    "        \n",
    "        predict_val = lasso.predict(XVal_fold)\n",
    "        val_residuals = yVal_fold - predict_val\n",
    "        mseOuterVal.append(copy.deepcopy((i, None, a_outer , None, np.square(val_residuals).mean())))\n",
    "        \n",
    "        for a_inner in alpha_inner_values:\n",
    "            print(j, a_outer, a_inner)\n",
    "            lasso_inner = Lasso(alpha=a_inner, random_state=111, max_iter=1000).fit(tfidfTrain_fold, train_residuals)\n",
    "            predict_inner_train = lasso_inner.predict(tfidfTrain_fold)\n",
    "            inner_train_residuals = train_residuals - predict_inner_train\n",
    "            mseInnerTrain.append(copy.deepcopy((i, j, a_inner, np.square(inner_train_residuals).mean())))\n",
    "\n",
    "            predict_inner_val = lasso_inner.predict(tfidfVal_fold)\n",
    "            inner_val_residuals = val_residuals - predict_inner_val\n",
    "            mseInnerVal.append(copy.deepcopy((i, j, a_inner, np.square(inner_val_residuals).mean())))\n",
    "\n",
    "            residuals_overall_train = yTrain_fold - predict_train - predict_inner_train\n",
    "            mseOverallTrain.append(copy.deepcopy((i, j, a_outer, a_inner, np.square(residuals_overall_train).mean())))\n",
    "\n",
    "            residuals_overall_val = yVal_fold - predict_val - predict_inner_val\n",
    "            mseOverallVal.append(copy.deepcopy((i, j, a_outer, a_inner, np.square(residuals_overall_val).mean())))\n",
    "    "
   ]
  },
  {
   "cell_type": "code",
   "execution_count": null,
   "metadata": {
    "collapsed": true
   },
   "outputs": [],
   "source": [
    "import operator\n",
    "sorted(mseOverallVal, key = operator.itemgetter(4))"
   ]
  },
  {
   "cell_type": "code",
   "execution_count": null,
   "metadata": {
    "collapsed": true
   },
   "outputs": [],
   "source": [
    "import operator\n",
    "sorted(mseOuterVal, key = operator.itemgetter(4))"
   ]
  },
  {
   "cell_type": "markdown",
   "metadata": {},
   "source": [
    "### LASSO Model Validation"
   ]
  },
  {
   "cell_type": "code",
   "execution_count": null,
   "metadata": {
    "collapsed": true
   },
   "outputs": [],
   "source": [
    "lasso = Lasso(alpha=0.01, random_state=111, max_iter=1000).fit(XTrain, yTrain)\n",
    "pred = lasso.predict(XTrain)\n",
    "lasso.score(XTrain, yTrain)\n",
    "\n",
    "lasso_res = Lasso(alpha=0.0001, random_state=111, max_iter=1000).fit(tfidfTrain, (pred - yTrain))\n",
    "pred_res = lasso_res.predict(tfidfTrain)\n",
    "lasso_res.score(tfidfTrain, (pred - yTrain))\n",
    "\n",
    "pred_res = lasso_res.predict(tfidfTrain)\n",
    "pred_plus = pred + pred_res\n",
    "plt.scatter(yTrain, pred - yTrain, c= \"r\")\n",
    "plt.scatter(yTrain, pred_plus, c = \"b\")"
   ]
  },
  {
   "cell_type": "markdown",
   "metadata": {},
   "source": [
    "## Build Heatmap for MSE"
   ]
  },
  {
   "cell_type": "code",
   "execution_count": 80,
   "metadata": {},
   "outputs": [
    {
     "data": {
      "image/png": "[encoded data removed]",
      "text/plain": [
       "<matplotlib.figure.Figure at 0x119456dc898>"
      ]
     },
     "metadata": {},
     "output_type": "display_data"
    }
   ],
   "source": [
    "grouped = test.groupby([\"outer\",\"inner\"]).mean()\n",
    "grouped.drop(columns=[\"fold1\", \"fold2\"], inplace=True)\n",
    "grouped.reset_index(inplace=True)\n",
    "grouped\n",
    "fin = grouped.pivot(\"outer\", \"inner\", \"MSE\")\n",
    "ax = sns.heatmap(fin)"
   ]
  },
  {
   "cell_type": "markdown",
   "metadata": {},
   "source": [
    "### Analysis Plots on Stemming Process"
   ]
  },
  {
   "cell_type": "code",
   "execution_count": 53,
   "metadata": {},
   "outputs": [
    {
     "name": "stdout",
     "output_type": "stream",
     "text": [
      "7199\n"
     ]
    },
    {
     "data": {
      "image/png": "[encoded data removed]",
      "text/plain": [
       "<matplotlib.figure.Figure at 0x11905270278>"
      ]
     },
     "metadata": {},
     "output_type": "display_data"
    }
   ],
   "source": [
    "tuples = [(k, len(v)) for k, v in ps_dict.items()]\n",
    "freq = {}\n",
    "for k, v in sorted(tuples, key=operator.itemgetter(1), reverse=True):\n",
    "    if k in vocabulary:\n",
    "        if (v in freq.keys()):\n",
    "            freq[v] += 1\n",
    "        else:\n",
    "            freq[v] = 1\n",
    "\n",
    "x, y = zip(*freq.items())\n",
    "\n",
    "x = np.array(x)\n",
    "y = np.array(y)\n",
    "cum = ((x*y) - y).cumsum()\n",
    "\n",
    "plt.bar(x, cum)\n",
    "\n",
    "ax = plt.gca()\n",
    "ax.invert_xaxis()\n",
    "ax.set_facecolor('white')\n",
    "plt.xlabel(\"Number of Words Stemmed\")\n",
    "plt.ylabel(\"Words Savings\")\n",
    "plt.xticks(x)\n",
    "plt.grid(False)"
   ]
  },
  {
   "cell_type": "markdown",
   "metadata": {},
   "source": [
    "# final predictions on Test and Train"
   ]
  },
  {
   "cell_type": "code",
   "execution_count": null,
   "metadata": {
    "collapsed": true
   },
   "outputs": [],
   "source": [
    "lasso = Lasso(alpha=0.001, random_state=111, max_iter=1000).fit(XTrain, yTrain)\n",
    "pred = lasso.predict(XTrain)\n",
    "lasso.score(XTrain, yTrain)"
   ]
  },
  {
   "cell_type": "code",
   "execution_count": null,
   "metadata": {
    "collapsed": true
   },
   "outputs": [],
   "source": [
    "lasso_res = Lasso(alpha=0.001, random_state=111, max_iter=1000).fit(tfidfTrain, (pred - yTrain))\n",
    "pred_res = lasso_res.predict(tfidfTrain)\n",
    "lasso_res.score(tfidfTrain, (pred - yTrain))\n",
    "\n",
    "pred = lasso.predict(XTrain)\n",
    "pred_res = lasso_res.predict(tfidfTrain)\n",
    "print(np.square(yTrain - pred - pred_res).mean())\n",
    "\n",
    "%matplotlib inline\n",
    "import matplotlib.pyplot as plt\n",
    "import matplotlib\n",
    "plt.scatter(yTrain, yTrain-pred, c= \"r\", label = \"Stage1\")\n",
    "plt.scatter(yTrain, yTrain-pred - pred_res, c = \"b\", label = \"Stage1 & Stage2\")\n",
    "plt.legend()\n",
    "plt.xlabel(\"Price\")\n",
    "plt.xlabel(\"Residuals\")\n",
    "plt.savefig(\"moneygraph.png\")"
   ]
  }
 ],
 "metadata": {
  "kernelspec": {
   "display_name": "Python 3",
   "language": "python",
   "name": "python3"
  },
  "language_info": {
   "codemirror_mode": {
    "name": "ipython",
    "version": 3
   },
   "file_extension": ".py",
   "mimetype": "text/x-python",
   "name": "python",
   "nbconvert_exporter": "python",
   "pygments_lexer": "ipython3",
   "version": "3.6.3"
  }
 },
 "nbformat": 4,
 "nbformat_minor": 2
}
