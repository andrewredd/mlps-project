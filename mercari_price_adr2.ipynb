{
 "cells": [
  {
   "cell_type": "markdown",
   "metadata": {},
   "source": [
    "# MLPS - Mercari Price ML"
   ]
  },
  {
   "cell_type": "code",
   "execution_count": null,
   "metadata": {
    "collapsed": true
   },
   "outputs": [],
   "source": [
    "import pandas as pd \n",
    "import numpy as np\n",
    "from sklearn.metrics import mean_squared_error\n",
    "\n",
    "np.set_printoptions(suppress=True)\n",
    "pd.set_option('display.float_format', lambda x: '%.3f' % x)"
   ]
  },
  {
   "cell_type": "markdown",
   "metadata": {},
   "source": [
    "### Perform data cleaning"
   ]
  },
  {
   "cell_type": "code",
   "execution_count": null,
   "metadata": {
    "collapsed": true
   },
   "outputs": [],
   "source": [
    "data = pd.read_csv(\"Data/train.tsv\", delimiter=\"\\t\", index_col=0)\n",
    "\n",
    "# remove items with out a price\n",
    "data = data[pd.notna(data[\"price\"])]\n",
    "\n",
    "data[\"item_description\"] = data[\"item_description\"].replace(\"No description yet\", \"\")\n",
    "data[\"item_description\"] = data[\"item_description\"].replace(np.nan, \"\")\n",
    "\n",
    "temp = data[\"category_name\"].fillna('').str.split('/')\n",
    "              \n",
    "data[\"category_name_1\"] = temp.str[0]\n",
    "data[\"category_name_2\"] = temp.str[1]\n",
    "data[\"category_name_3\"] = temp.str[2:].str.join(\"/\")"
   ]
  },
  {
   "cell_type": "markdown",
   "metadata": {},
   "source": [
    "### Implement porter stemming in count vectorizer"
   ]
  },
  {
   "cell_type": "code",
   "execution_count": null,
   "metadata": {
    "collapsed": true
   },
   "outputs": [],
   "source": [
    "from sklearn.feature_extraction.text import CountVectorizer, TfidfTransformer\n",
    "from nltk.stem.porter import *\n",
    "import string\n",
    "\n",
    "class StemmerTokenizer(object):\n",
    "    def __init__(self):\n",
    "        self.ps = PorterStemmer()\n",
    "        self.translator = str.maketrans('', '', string.punctuation + string.digits)\n",
    "    def __call__(self, doc):\n",
    "        return [self.ps.stem(w) for w in doc\n",
    "                .encode('ascii', errors='ignore')\n",
    "                .decode('ascii')\n",
    "                .translate(self.translator)\n",
    "                .split()]\n",
    "\n",
    "vectorizer = CountVectorizer(lowercase = True,\n",
    "                             max_df = .5,\n",
    "                             min_df = .001,\n",
    "                             tokenizer = StemmerTokenizer(),\n",
    "                             stop_words='english')"
   ]
  },
  {
   "cell_type": "markdown",
   "metadata": {},
   "source": [
    "### Count vectorize the data"
   ]
  },
  {
   "cell_type": "code",
   "execution_count": null,
   "metadata": {
    "collapsed": true
   },
   "outputs": [],
   "source": [
    "%%time\n",
    "tfm = vectorizer.fit_transform(data[\"item_description\"])"
   ]
  },
  {
   "cell_type": "code",
   "execution_count": null,
   "metadata": {
    "collapsed": true
   },
   "outputs": [],
   "source": [
    "vocab = vectorizer.vocabulary_ \n",
    "removed_words = vectorizer.stop_words_"
   ]
  },
  {
   "cell_type": "code",
   "execution_count": null,
   "metadata": {
    "collapsed": true
   },
   "outputs": [],
   "source": [
    "%%time\n",
    "tfidf_vectorizer = TfidfTransformer()\n",
    "tfidf_transformed = tfidf_vectorizer.fit_transform(tfm)"
   ]
  },
  {
   "cell_type": "markdown",
   "metadata": {},
   "source": [
    "### Save results for time savings"
   ]
  },
  {
   "cell_type": "code",
   "execution_count": null,
   "metadata": {
    "collapsed": true
   },
   "outputs": [],
   "source": [
    "from scipy.sparse import save_npz\n",
    "save_npz(\"tfm.npz\", tfm)\n",
    "save_npz(\"tfidf_transformed.npz\", tfidf_transformed)"
   ]
  },
  {
   "cell_type": "markdown",
   "metadata": {},
   "source": [
    "## Vocab: write vectorized words to txt"
   ]
  },
  {
   "cell_type": "code",
   "execution_count": null,
   "metadata": {
    "collapsed": true
   },
   "outputs": [],
   "source": [
    "import operator\n",
    "with open(\"vocabulary.txt\", \"w\") as f:\n",
    "    f.write(\"\".join([k + '\\n' for k, v in sorted(vectorizer.vocabulary_.items(), key=operator.itemgetter(1))]))"
   ]
  },
  {
   "cell_type": "markdown",
   "metadata": {},
   "source": [
    "<br><br><br><hr><hr>\n",
    "\n",
    "# Load files as necessary for time savings"
   ]
  },
  {
   "cell_type": "code",
   "execution_count": 1,
   "metadata": {
    "collapsed": true
   },
   "outputs": [],
   "source": [
    "import pandas as pd \n",
    "import numpy as np\n",
    "from sklearn.metrics import mean_squared_error\n",
    "\n",
    "np.set_printoptions(suppress=True)\n",
    "pd.set_option('display.float_format', lambda x: '%.3f' % x)\n",
    "from scipy.sparse import load_npz\n",
    "\n",
    "tfm = load_npz(\"Data/tfm.npz\")\n",
    "tfidf_transformed = load_npz(\"Data/tfidf_transformed.npz\")\n",
    "categorical = pd.read_csv('Data/train_clean.tsv', sep='\\t', header=0)"
   ]
  },
  {
   "cell_type": "code",
   "execution_count": 2,
   "metadata": {},
   "outputs": [
    {
     "name": "stdout",
     "output_type": "stream",
     "text": [
      "pre-filtering  1482535\n",
      "post-filtering  1478823\n"
     ]
    }
   ],
   "source": [
    "# take the log of price (0.000000001 added for item with 0 as price)\n",
    "categorical['log(price)'] = np.log(categorical['price'] + 0.000000001)\n",
    "\n",
    "# calculate 6 st dev of log(price)\n",
    "st_dev_log_price_6 = categorical['log(price)'].std()*6\n",
    "\n",
    "print(\"pre-filtering \",len(categorical))\n",
    "\n",
    "# find points that are not outliers\n",
    "not_outliers = np.array((categorical['log(price)'] < st_dev_log_price_6) & (categorical['log(price)'] > (- st_dev_log_price_6)))\n",
    "\n",
    "# filter datasets to data only around 6 st dev of log(price)\n",
    "cleaned_categorical = categorical[not_outliers]\n",
    "cleaned_categorical.reset_index(drop = True, inplace = True)\n",
    "tfm = tfm[not_outliers]\n",
    "tfidf_transformed = tfidf_transformed[not_outliers]\n",
    "\n",
    "print(\"post-filtering \",len(cleaned_categorical))"
   ]
  },
  {
   "cell_type": "code",
   "execution_count": 3,
   "metadata": {},
   "outputs": [
    {
     "data": {
      "text/html": [
       "<div>\n",
       "<style scoped>\n",
       "    .dataframe tbody tr th:only-of-type {\n",
       "        vertical-align: middle;\n",
       "    }\n",
       "\n",
       "    .dataframe tbody tr th {\n",
       "        vertical-align: top;\n",
       "    }\n",
       "\n",
       "    .dataframe thead th {\n",
       "        text-align: right;\n",
       "    }\n",
       "</style>\n",
       "<table border=\"1\" class=\"dataframe\">\n",
       "  <thead>\n",
       "    <tr style=\"text-align: right;\">\n",
       "      <th></th>\n",
       "      <th>train_id</th>\n",
       "      <th>item_condition_id</th>\n",
       "      <th>price</th>\n",
       "      <th>shipping</th>\n",
       "      <th>log(price)</th>\n",
       "    </tr>\n",
       "  </thead>\n",
       "  <tbody>\n",
       "    <tr>\n",
       "      <th>count</th>\n",
       "      <td>1478823.000</td>\n",
       "      <td>1478823.000</td>\n",
       "      <td>1478823.000</td>\n",
       "      <td>1478823.000</td>\n",
       "      <td>1478823.000</td>\n",
       "    </tr>\n",
       "    <tr>\n",
       "      <th>mean</th>\n",
       "      <td>741229.160</td>\n",
       "      <td>1.907</td>\n",
       "      <td>25.753</td>\n",
       "      <td>0.447</td>\n",
       "      <td>2.907</td>\n",
       "    </tr>\n",
       "    <tr>\n",
       "      <th>std</th>\n",
       "      <td>427967.781</td>\n",
       "      <td>0.903</td>\n",
       "      <td>29.028</td>\n",
       "      <td>0.497</td>\n",
       "      <td>0.776</td>\n",
       "    </tr>\n",
       "    <tr>\n",
       "      <th>min</th>\n",
       "      <td>0.000</td>\n",
       "      <td>1.000</td>\n",
       "      <td>3.000</td>\n",
       "      <td>0.000</td>\n",
       "      <td>1.099</td>\n",
       "    </tr>\n",
       "    <tr>\n",
       "      <th>25%</th>\n",
       "      <td>370559.500</td>\n",
       "      <td>1.000</td>\n",
       "      <td>10.000</td>\n",
       "      <td>0.000</td>\n",
       "      <td>2.303</td>\n",
       "    </tr>\n",
       "    <tr>\n",
       "      <th>50%</th>\n",
       "      <td>741224.000</td>\n",
       "      <td>2.000</td>\n",
       "      <td>17.000</td>\n",
       "      <td>0.000</td>\n",
       "      <td>2.833</td>\n",
       "    </tr>\n",
       "    <tr>\n",
       "      <th>75%</th>\n",
       "      <td>1111850.500</td>\n",
       "      <td>3.000</td>\n",
       "      <td>29.000</td>\n",
       "      <td>1.000</td>\n",
       "      <td>3.367</td>\n",
       "    </tr>\n",
       "    <tr>\n",
       "      <th>max</th>\n",
       "      <td>1482534.000</td>\n",
       "      <td>5.000</td>\n",
       "      <td>347.000</td>\n",
       "      <td>1.000</td>\n",
       "      <td>5.849</td>\n",
       "    </tr>\n",
       "  </tbody>\n",
       "</table>\n",
       "</div>"
      ],
      "text/plain": [
       "         train_id  item_condition_id       price    shipping  log(price)\n",
       "count 1478823.000        1478823.000 1478823.000 1478823.000 1478823.000\n",
       "mean   741229.160              1.907      25.753       0.447       2.907\n",
       "std    427967.781              0.903      29.028       0.497       0.776\n",
       "min         0.000              1.000       3.000       0.000       1.099\n",
       "25%    370559.500              1.000      10.000       0.000       2.303\n",
       "50%    741224.000              2.000      17.000       0.000       2.833\n",
       "75%   1111850.500              3.000      29.000       1.000       3.367\n",
       "max   1482534.000              5.000     347.000       1.000       5.849"
      ]
     },
     "execution_count": 3,
     "metadata": {},
     "output_type": "execute_result"
    }
   ],
   "source": [
    "cleaned_categorical.describe()"
   ]
  },
  {
   "cell_type": "code",
   "execution_count": 4,
   "metadata": {},
   "outputs": [
    {
     "name": "stderr",
     "output_type": "stream",
     "text": [
      "C:\\ProgramData\\Anaconda3\\lib\\site-packages\\ipykernel_launcher.py:2: SettingWithCopyWarning: \n",
      "A value is trying to be set on a copy of a slice from a DataFrame\n",
      "\n",
      "See the caveats in the documentation: http://pandas.pydata.org/pandas-docs/stable/indexing.html#indexing-view-versus-copy\n",
      "  \n",
      "C:\\ProgramData\\Anaconda3\\lib\\site-packages\\pandas\\core\\generic.py:5984: SettingWithCopyWarning: \n",
      "A value is trying to be set on a copy of a slice from a DataFrame\n",
      "\n",
      "See the caveats in the documentation: http://pandas.pydata.org/pandas-docs/stable/indexing.html#indexing-view-versus-copy\n",
      "  self._update_inplace(new_data)\n",
      "C:\\ProgramData\\Anaconda3\\lib\\site-packages\\IPython\\core\\interactiveshell.py:2862: SettingWithCopyWarning: \n",
      "A value is trying to be set on a copy of a slice from a DataFrame\n",
      "\n",
      "See the caveats in the documentation: http://pandas.pydata.org/pandas-docs/stable/indexing.html#indexing-view-versus-copy\n",
      "  exec(code_obj, self.user_global_ns, self.user_ns)\n"
     ]
    }
   ],
   "source": [
    "\n",
    "cleaned_categorical[\"brand_name\"][cleaned_categorical[\"brand_name\"].isnull()] = \"No Brand Info\""
   ]
  },
  {
   "cell_type": "code",
   "execution_count": 5,
   "metadata": {},
   "outputs": [
    {
     "data": {
      "text/plain": [
       "<matplotlib.axes._subplots.AxesSubplot at 0x1690cdf0ba8>"
      ]
     },
     "execution_count": 5,
     "metadata": {},
     "output_type": "execute_result"
    },
    {
     "data": {
      "image/png": "[encoded data removed]",
      "text/plain": [
       "<matplotlib.figure.Figure at 0x1694eb0fa90>"
      ]
     },
     "metadata": {},
     "output_type": "display_data"
    }
   ],
   "source": [
    "%matplotlib inline\n",
    "cleaned_categorical['log(price)'].plot.hist(bins= 100)\n"
   ]
  },
  {
   "cell_type": "code",
   "execution_count": 6,
   "metadata": {},
   "outputs": [
    {
     "data": {
      "text/plain": [
       "(1478823, 1793)"
      ]
     },
     "execution_count": 6,
     "metadata": {},
     "output_type": "execute_result"
    }
   ],
   "source": [
    "tfm.shape"
   ]
  },
  {
   "cell_type": "code",
   "execution_count": 7,
   "metadata": {},
   "outputs": [
    {
     "data": {
      "text/plain": [
       "(1478823, 1793)"
      ]
     },
     "execution_count": 7,
     "metadata": {},
     "output_type": "execute_result"
    }
   ],
   "source": [
    "tfidf_transformed.shape"
   ]
  },
  {
   "cell_type": "code",
   "execution_count": 8,
   "metadata": {},
   "outputs": [
    {
     "data": {
      "text/plain": [
       "(1478823, 12)"
      ]
     },
     "execution_count": 8,
     "metadata": {},
     "output_type": "execute_result"
    }
   ],
   "source": [
    "cleaned_categorical.shape"
   ]
  },
  {
   "cell_type": "markdown",
   "metadata": {},
   "source": [
    "## Split into train and test"
   ]
  },
  {
   "cell_type": "code",
   "execution_count": 9,
   "metadata": {},
   "outputs": [
    {
     "name": "stderr",
     "output_type": "stream",
     "text": [
      "C:\\ProgramData\\Anaconda3\\lib\\site-packages\\ipykernel_launcher.py:5: SettingWithCopyWarning: \n",
      "A value is trying to be set on a copy of a slice from a DataFrame\n",
      "\n",
      "See the caveats in the documentation: http://pandas.pydata.org/pandas-docs/stable/indexing.html#indexing-view-versus-copy\n",
      "  \"\"\"\n",
      "C:\\ProgramData\\Anaconda3\\lib\\site-packages\\ipykernel_launcher.py:6: SettingWithCopyWarning: \n",
      "A value is trying to be set on a copy of a slice from a DataFrame.\n",
      "Try using .loc[row_indexer,col_indexer] = value instead\n",
      "\n",
      "See the caveats in the documentation: http://pandas.pydata.org/pandas-docs/stable/indexing.html#indexing-view-versus-copy\n",
      "  \n"
     ]
    }
   ],
   "source": [
    "from sklearn.model_selection import train_test_split\n",
    "from sklearn.preprocessing import OneHotEncoder\n",
    "\n",
    "y_categorical = cleaned_categorical['price']\n",
    "cleaned_categorical.drop([\"train_id\",\"name\",\"category_name\",\"item_description\",\"price\", 'log(price)'], axis=1, inplace=True)\n",
    "cleaned_categorical[\"item_condition_id\"] = cleaned_categorical[\"item_condition_id\"].astype('str', copy=False)"
   ]
  },
  {
   "cell_type": "code",
   "execution_count": 10,
   "metadata": {},
   "outputs": [
    {
     "data": {
      "text/plain": [
       "0"
      ]
     },
     "execution_count": 10,
     "metadata": {},
     "output_type": "execute_result"
    }
   ],
   "source": [
    "y_categorical.isna().sum()"
   ]
  },
  {
   "cell_type": "code",
   "execution_count": 11,
   "metadata": {
    "collapsed": true
   },
   "outputs": [],
   "source": [
    "ohe_cleaned_categorical = pd.get_dummies(cleaned_categorical)"
   ]
  },
  {
   "cell_type": "code",
   "execution_count": 12,
   "metadata": {
    "collapsed": true
   },
   "outputs": [],
   "source": [
    "#Test Train sample size\n",
    "import numpy as np\n",
    "n_sample = 500000\n",
    "sample = np.random.permutation(y_categorical.shape[0])[:n_sample]"
   ]
  },
  {
   "cell_type": "code",
   "execution_count": 13,
   "metadata": {
    "collapsed": true
   },
   "outputs": [],
   "source": [
    "y_categorical_sample = y_categorical[sample]\n",
    "ohe_cleaned_categorical_sample = ohe_cleaned_categorical.iloc[sample]\n",
    "tfidf_transformed_sample = tfidf_transformed[sample]\n",
    "\n",
    "ohe_cleaned_categorical_sample.reset_index(drop = True, inplace = True);\n",
    "y_categorical_sample.reset_index(drop = True, inplace = True);"
   ]
  },
  {
   "cell_type": "markdown",
   "metadata": {},
   "source": [
    "y_categorical.isna().sum()"
   ]
  },
  {
   "cell_type": "code",
   "execution_count": 14,
   "metadata": {
    "collapsed": true
   },
   "outputs": [],
   "source": [
    "# split into train and test\n",
    "yTrain, yTest, XTrain, XTest, tfidfTrain, tfidfTest = train_test_split(\n",
    "    y_categorical_sample, ohe_cleaned_categorical_sample, tfidf_transformed_sample, test_size=0.3, random_state=95)\n",
    "\n",
    "yTrain.reset_index(drop = True, inplace = True)\n",
    "yTest.reset_index(drop = True, inplace = True)\n",
    "XTrain.reset_index(drop = True, inplace = True)\n",
    "XTest.reset_index(drop = True, inplace = True);\n"
   ]
  },
  {
   "cell_type": "code",
   "execution_count": 15,
   "metadata": {},
   "outputs": [
    {
     "data": {
      "text/plain": [
       "0"
      ]
     },
     "execution_count": 15,
     "metadata": {},
     "output_type": "execute_result"
    }
   ],
   "source": [
    "yTrain.isna().sum()"
   ]
  },
  {
   "cell_type": "code",
   "execution_count": 18,
   "metadata": {
    "collapsed": true
   },
   "outputs": [],
   "source": [
    "# specify number of folds\n",
    "from sklearn.model_selection import KFold\n",
    "folds = 2\n",
    "kf = KFold(n_splits=folds)\n",
    "kf_inner = KFold(n_splits=folds)"
   ]
  },
  {
   "cell_type": "code",
   "execution_count": 19,
   "metadata": {},
   "outputs": [
    {
     "name": "stdout",
     "output_type": "stream",
     "text": [
      "Wall time: 0 ns\n",
      "0\n",
      "0 0.01\n"
     ]
    },
    {
     "ename": "MemoryError",
     "evalue": "",
     "output_type": "error",
     "traceback": [
      "\u001b[1;31m---------------------------------------------------------------------------\u001b[0m",
      "\u001b[1;31mMemoryError\u001b[0m                               Traceback (most recent call last)",
      "\u001b[1;32m<ipython-input-19-fd510d362f51>\u001b[0m in \u001b[0;36m<module>\u001b[1;34m()\u001b[0m\n\u001b[0;32m     26\u001b[0m     \u001b[1;32mfor\u001b[0m \u001b[0ma_outer\u001b[0m \u001b[1;32min\u001b[0m \u001b[0malpha_values\u001b[0m\u001b[1;33m:\u001b[0m\u001b[1;33m\u001b[0m\u001b[0m\n\u001b[0;32m     27\u001b[0m         \u001b[0mprint\u001b[0m\u001b[1;33m(\u001b[0m\u001b[0mi\u001b[0m\u001b[1;33m,\u001b[0m \u001b[0ma_outer\u001b[0m\u001b[1;33m)\u001b[0m\u001b[1;33m\u001b[0m\u001b[0m\n\u001b[1;32m---> 28\u001b[1;33m         \u001b[0mlasso\u001b[0m \u001b[1;33m=\u001b[0m \u001b[0mLasso\u001b[0m\u001b[1;33m(\u001b[0m\u001b[0malpha\u001b[0m\u001b[1;33m=\u001b[0m\u001b[0ma_outer\u001b[0m\u001b[1;33m,\u001b[0m \u001b[0mrandom_state\u001b[0m\u001b[1;33m=\u001b[0m\u001b[1;36m111\u001b[0m\u001b[1;33m,\u001b[0m \u001b[0mmax_iter\u001b[0m\u001b[1;33m=\u001b[0m\u001b[1;36m1000\u001b[0m\u001b[1;33m)\u001b[0m\u001b[1;33m.\u001b[0m\u001b[0mfit\u001b[0m\u001b[1;33m(\u001b[0m\u001b[0mXTrain_fold\u001b[0m\u001b[1;33m,\u001b[0m \u001b[0myTrain_fold\u001b[0m\u001b[1;33m)\u001b[0m\u001b[1;33m\u001b[0m\u001b[0m\n\u001b[0m\u001b[0;32m     29\u001b[0m         \u001b[0mpredict_train\u001b[0m \u001b[1;33m=\u001b[0m \u001b[0mlasso\u001b[0m\u001b[1;33m.\u001b[0m\u001b[0mpredict\u001b[0m\u001b[1;33m(\u001b[0m\u001b[0mXTrain_fold\u001b[0m\u001b[1;33m)\u001b[0m\u001b[1;33m\u001b[0m\u001b[0m\n\u001b[0;32m     30\u001b[0m         \u001b[0mtrain_residuals\u001b[0m \u001b[1;33m=\u001b[0m \u001b[0myTrain_fold\u001b[0m \u001b[1;33m-\u001b[0m \u001b[0mpredict_train\u001b[0m\u001b[1;33m\u001b[0m\u001b[0m\n",
      "\u001b[1;32mC:\\ProgramData\\Anaconda3\\lib\\site-packages\\sklearn\\linear_model\\coordinate_descent.py\u001b[0m in \u001b[0;36mfit\u001b[1;34m(self, X, y, check_input)\u001b[0m\n\u001b[0;32m    705\u001b[0m                              \u001b[0morder\u001b[0m\u001b[1;33m=\u001b[0m\u001b[1;34m'F'\u001b[0m\u001b[1;33m,\u001b[0m \u001b[0mdtype\u001b[0m\u001b[1;33m=\u001b[0m\u001b[1;33m[\u001b[0m\u001b[0mnp\u001b[0m\u001b[1;33m.\u001b[0m\u001b[0mfloat64\u001b[0m\u001b[1;33m,\u001b[0m \u001b[0mnp\u001b[0m\u001b[1;33m.\u001b[0m\u001b[0mfloat32\u001b[0m\u001b[1;33m]\u001b[0m\u001b[1;33m,\u001b[0m\u001b[1;33m\u001b[0m\u001b[0m\n\u001b[0;32m    706\u001b[0m                              \u001b[0mcopy\u001b[0m\u001b[1;33m=\u001b[0m\u001b[0mself\u001b[0m\u001b[1;33m.\u001b[0m\u001b[0mcopy_X\u001b[0m \u001b[1;32mand\u001b[0m \u001b[0mself\u001b[0m\u001b[1;33m.\u001b[0m\u001b[0mfit_intercept\u001b[0m\u001b[1;33m,\u001b[0m\u001b[1;33m\u001b[0m\u001b[0m\n\u001b[1;32m--> 707\u001b[1;33m                              multi_output=True, y_numeric=True)\n\u001b[0m\u001b[0;32m    708\u001b[0m             y = check_array(y, order='F', copy=False, dtype=X.dtype.type,\n\u001b[0;32m    709\u001b[0m                             ensure_2d=False)\n",
      "\u001b[1;32mC:\\ProgramData\\Anaconda3\\lib\\site-packages\\sklearn\\utils\\validation.py\u001b[0m in \u001b[0;36mcheck_X_y\u001b[1;34m(X, y, accept_sparse, dtype, order, copy, force_all_finite, ensure_2d, allow_nd, multi_output, ensure_min_samples, ensure_min_features, y_numeric, warn_on_dtype, estimator)\u001b[0m\n\u001b[0;32m    571\u001b[0m     X = check_array(X, accept_sparse, dtype, order, copy, force_all_finite,\n\u001b[0;32m    572\u001b[0m                     \u001b[0mensure_2d\u001b[0m\u001b[1;33m,\u001b[0m \u001b[0mallow_nd\u001b[0m\u001b[1;33m,\u001b[0m \u001b[0mensure_min_samples\u001b[0m\u001b[1;33m,\u001b[0m\u001b[1;33m\u001b[0m\u001b[0m\n\u001b[1;32m--> 573\u001b[1;33m                     ensure_min_features, warn_on_dtype, estimator)\n\u001b[0m\u001b[0;32m    574\u001b[0m     \u001b[1;32mif\u001b[0m \u001b[0mmulti_output\u001b[0m\u001b[1;33m:\u001b[0m\u001b[1;33m\u001b[0m\u001b[0m\n\u001b[0;32m    575\u001b[0m         y = check_array(y, 'csr', force_all_finite=True, ensure_2d=False,\n",
      "\u001b[1;32mC:\\ProgramData\\Anaconda3\\lib\\site-packages\\sklearn\\utils\\validation.py\u001b[0m in \u001b[0;36mcheck_array\u001b[1;34m(array, accept_sparse, dtype, order, copy, force_all_finite, ensure_2d, allow_nd, ensure_min_samples, ensure_min_features, warn_on_dtype, estimator)\u001b[0m\n\u001b[0;32m    431\u001b[0m                                       force_all_finite)\n\u001b[0;32m    432\u001b[0m     \u001b[1;32melse\u001b[0m\u001b[1;33m:\u001b[0m\u001b[1;33m\u001b[0m\u001b[0m\n\u001b[1;32m--> 433\u001b[1;33m         \u001b[0marray\u001b[0m \u001b[1;33m=\u001b[0m \u001b[0mnp\u001b[0m\u001b[1;33m.\u001b[0m\u001b[0marray\u001b[0m\u001b[1;33m(\u001b[0m\u001b[0marray\u001b[0m\u001b[1;33m,\u001b[0m \u001b[0mdtype\u001b[0m\u001b[1;33m=\u001b[0m\u001b[0mdtype\u001b[0m\u001b[1;33m,\u001b[0m \u001b[0morder\u001b[0m\u001b[1;33m=\u001b[0m\u001b[0morder\u001b[0m\u001b[1;33m,\u001b[0m \u001b[0mcopy\u001b[0m\u001b[1;33m=\u001b[0m\u001b[0mcopy\u001b[0m\u001b[1;33m)\u001b[0m\u001b[1;33m\u001b[0m\u001b[0m\n\u001b[0m\u001b[0;32m    434\u001b[0m \u001b[1;33m\u001b[0m\u001b[0m\n\u001b[0;32m    435\u001b[0m         \u001b[1;32mif\u001b[0m \u001b[0mensure_2d\u001b[0m\u001b[1;33m:\u001b[0m\u001b[1;33m\u001b[0m\u001b[0m\n",
      "\u001b[1;31mMemoryError\u001b[0m: "
     ]
    }
   ],
   "source": [
    "%time\n",
    "# Test train and validate\n",
    "alpha_values = [0.01,0.1, 1, 10]\n",
    "from sklearn.linear_model import Lasso\n",
    "import copy\n",
    "\n",
    "mseOuterTrain = []\n",
    "mseOuterVal = []\n",
    "mseInnerTrain = []\n",
    "mseInnerVal = []\n",
    "mseOverallTrain = []\n",
    "mseOverallVal= []\n",
    "mseOutterBeta = []\n",
    "mseInnerBeta = []\n",
    "\n",
    "\n",
    "for i, (train_index, val_index) in enumerate(kf.split(yTrain)):\n",
    "    print(i)\n",
    "    yTrain_fold = yTrain.iloc[train_index]\n",
    "    yVal_fold = yTrain.iloc[val_index]\n",
    "\n",
    "    XTrain_fold = XTrain.iloc[train_index]\n",
    "    XVal_fold = XTrain.iloc[val_index]\n",
    "    \n",
    "\n",
    "    for a_outer in alpha_values:\n",
    "        print(i, a_outer)\n",
    "        lasso = Lasso(alpha=a_outer, random_state=111, max_iter=1000).fit(XTrain_fold, yTrain_fold)\n",
    "        predict_train = lasso.predict(XTrain_fold)\n",
    "        train_residuals = yTrain_fold - predict_train\n",
    "        mseOuterTrain.append(copy.deepcopy((i, None, a_outer ,None, np.square(train_residuals).mean())))\n",
    "        \n",
    "        predict_val = lasso.predict(XVal_fold)\n",
    "        val_residuals = yVal_fold - predict_val\n",
    "        mseOuterVal.append(copy.deepcopy((i, None, a_outer , None, np.square(val_residuals).mean())))\n",
    "        \n",
    "        outer_residuals = yTrain - lasso.predict(XTrain)\n",
    "            \n",
    "        for j, (train_inner_index, val_inner_index) in enumerate(kf_inner.split(tfidfTrain)):\n",
    "            tfidfTrain_fold = tfidfTrain[train_inner_index]\n",
    "            tfidfVal_fold = tfidfTrain[val_inner_index]\n",
    "            \n",
    "            outer_residuals_train = outer_residuals[train_inner_index]\n",
    "            outer_residuals_val = outer_residuals[val_inner_index]\n",
    "        \n",
    "            for a_inner in alpha_values:\n",
    "                print(j, a_outer, a_inner)\n",
    "                lasso_inner = Lasso(alpha=a_inner, random_state=111, max_iter=1000).fit(tfidfTrain_fold, outer_residuals_train)\n",
    "                predict_inner_train = lasso_inner.predict(tfidfTrain_fold)\n",
    "                inner_train_residuals = outer_residuals_train - predict_inner_train\n",
    "                mseInnerTrain.append(copy.deepcopy((i, j, a_inner, np.square(inner_train_residuals).mean())))\n",
    "\n",
    "                predict_inner_val = lasso_inner.predict(tfidfVal_fold)\n",
    "                inner_val_residuals = outer_residuals_val - predict_inner_val\n",
    "                mseInnerVal.append(copy.deepcopy((i, j, a_inner, np.square(inner_val_residuals).mean())))\n",
    "            \n",
    "                residuals_overall_train = yTrain_fold - predict_train + predict_inner_train\n",
    "                mseOverallTrain.append(copy.deepcopy((i, j, a_outer, a_inner, np.square(residuals_overall_train).mean())))\n",
    "            \n",
    "                residuals_overall_val = yVal_fold - predict_val + predict_inner_val\n",
    "                mseOverallVal.append(copy.deepcopy((i, j, a_outer, a_inner, np.square(residuals_overall_val).mean())))\n",
    "    "
   ]
  },
  {
   "cell_type": "code",
   "execution_count": 21,
   "metadata": {},
   "outputs": [
    {
     "data": {
      "text/plain": [
       "[(1, 1, 0.01, 1, 583.9970991822582),\n",
       " (1, 1, 0.01, 10, 583.9970991822582),\n",
       " (1, 0, 0.01, 1, 583.9999148325862),\n",
       " (1, 0, 0.01, 10, 583.9999148325862),\n",
       " (1, 0, 0.01, 0.1, 584.3243163925031),\n",
       " (1, 1, 0.01, 0.1, 584.3860221066484),\n",
       " (0, 0, 0.01, 1, 591.7003705892129),\n",
       " (0, 0, 0.01, 10, 591.7003705892129),\n",
       " (0, 1, 0.01, 0.1, 591.7027563822606),\n",
       " (0, 1, 0.01, 1, 591.7244033169777),\n",
       " (0, 1, 0.01, 10, 591.7244033169777),\n",
       " (0, 0, 0.01, 0.1, 593.4391266970739),\n",
       " (1, 0, 0.01, 0.01, 601.4152879196058),\n",
       " (0, 1, 0.01, 0.01, 611.6036479734761),\n",
       " (1, 1, 0.01, 0.01, 647.9176108249728),\n",
       " (0, 0, 0.01, 0.01, 658.3323713882111),\n",
       " (1, 1, 0.1, 1, 695.1417020820483),\n",
       " (1, 1, 0.1, 10, 695.1417020820483),\n",
       " (1, 0, 0.1, 1, 695.1417443977508),\n",
       " (1, 0, 0.1, 10, 695.1417443977508),\n",
       " (1, 0, 0.1, 0.1, 697.2469387310005),\n",
       " (0, 0, 0.1, 1, 699.0307385750766),\n",
       " (0, 0, 0.1, 10, 699.0307385750766),\n",
       " (0, 1, 0.1, 1, 699.0317993699132),\n",
       " (0, 1, 0.1, 10, 699.0317993699132),\n",
       " (0, 1, 0.1, 0.1, 700.2715211769873),\n",
       " (1, 1, 0.1, 0.1, 706.2228822426382),\n",
       " (0, 0, 0.1, 0.1, 710.6120936914971),\n",
       " (1, 0, 0.1, 0.01, 740.1899027997243),\n",
       " (0, 1, 0.1, 0.01, 742.457636994751),\n",
       " (1, 1, 1, 1, 791.7518970365624),\n",
       " (1, 1, 1, 10, 791.7518970365624),\n",
       " (1, 0, 1, 1, 791.7536442313597),\n",
       " (1, 0, 1, 10, 791.7536442313597),\n",
       " (1, 0, 1, 0.1, 796.0847170323593),\n",
       " (0, 0, 1, 1, 801.3171513124418),\n",
       " (0, 0, 1, 10, 801.3171513124418),\n",
       " (0, 1, 1, 1, 801.3188459269725),\n",
       " (0, 1, 1, 10, 801.3188459269725),\n",
       " (0, 1, 1, 0.1, 804.7016861972306),\n",
       " (1, 1, 10, 1, 812.8920196250185),\n",
       " (1, 1, 10, 10, 812.8920196250185),\n",
       " (1, 0, 10, 1, 812.897020541879),\n",
       " (1, 0, 10, 10, 812.897020541879),\n",
       " (1, 1, 1, 0.1, 813.3384301294633),\n",
       " (1, 0, 10, 0.1, 817.6102552021418),\n",
       " (0, 0, 10, 1, 822.5909774928707),\n",
       " (0, 0, 10, 10, 822.5909774928707),\n",
       " (0, 1, 10, 1, 822.5959784095996),\n",
       " (0, 1, 10, 10, 822.5959784095996),\n",
       " (0, 0, 1, 0.1, 824.8616397541766),\n",
       " (0, 1, 10, 0.1, 826.4082458835334),\n",
       " (1, 1, 10, 0.1, 836.2722344675154),\n",
       " (1, 1, 0.1, 0.01, 845.4291857705687),\n",
       " (0, 0, 10, 0.1, 847.7573048933657),\n",
       " (0, 0, 0.1, 0.01, 852.0461642049768),\n",
       " (1, 0, 1, 0.01, 875.2102459256344),\n",
       " (0, 1, 1, 0.01, 881.7840980424583),\n",
       " (1, 0, 10, 0.01, 902.4413694713741),\n",
       " (0, 1, 10, 0.01, 907.9023222260076),\n",
       " (1, 1, 1, 0.01, 1072.2336369121238),\n",
       " (0, 0, 1, 0.01, 1082.7496286199116),\n",
       " (1, 1, 10, 0.01, 1110.5272094244021),\n",
       " (0, 0, 10, 0.01, 1121.861669527678)]"
      ]
     },
     "execution_count": 21,
     "metadata": {},
     "output_type": "execute_result"
    }
   ],
   "source": [
    "import operator\n",
    "sorted(mseOverallVal, key = operator.itemgetter(4))"
   ]
  },
  {
   "cell_type": "code",
   "execution_count": 22,
   "metadata": {},
   "outputs": [
    {
     "data": {
      "text/plain": [
       "[(1, None, 0.01, None, 583.9970991822582),\n",
       " (0, None, 0.01, None, 591.7003705892131),\n",
       " (1, None, 0.1, None, 695.1417020820483),\n",
       " (0, None, 0.1, None, 699.0307385750766),\n",
       " (1, None, 1, None, 791.7518970365624),\n",
       " (0, None, 1, None, 801.3171513124418),\n",
       " (1, None, 10, None, 812.8920196250185),\n",
       " (0, None, 10, None, 822.5909774928707)]"
      ]
     },
     "execution_count": 22,
     "metadata": {},
     "output_type": "execute_result"
    }
   ],
   "source": [
    "import operator\n",
    "sorted(mseOuterVal, key = operator.itemgetter(4))"
   ]
  },
  {
   "cell_type": "markdown",
   "metadata": {},
   "source": [
    "## Lasso: Category (non-text) data"
   ]
  },
  {
   "cell_type": "code",
   "execution_count": null,
   "metadata": {
    "collapsed": true
   },
   "outputs": [],
   "source": [
    "vocab = pd.read_csv('Data/vocabulary.txt', sep=\" \", header=None)"
   ]
  },
  {
   "cell_type": "code",
   "execution_count": null,
   "metadata": {
    "collapsed": true
   },
   "outputs": [],
   "source": [
    "%%time\n",
    "from sklearn.linear_model import LassoCV, Lasso\n",
    "\n",
    "#alpha_values = np.logspace(-4, 2, 6)\n",
    "alpha_values = [0.001,0.01,0.1]\n",
    "\n",
    "mseRow = []\n",
    "mseAll = []\n",
    "mseOuterTrain = []\n",
    "mseOuterValidate = []\n",
    "mseInner = []\n",
    "\n",
    "#manually grid search over alpha\n",
    "for alphaOut in alpha_values:\n",
    "    \n",
    "    #non-Text data\n",
    "    lasso = Lasso(alpha=alphaOut, random_state=111, max_iter=1000).fit(XTrain, yTrain)\n",
    "    yPredOut = lasso.predict(XValid)\n",
    "    residuals = yValid - yPredOut\n",
    "    \n",
    "    mseRow = []\n",
    "    \n",
    "    #can't figure out how to implement a validation or test accuracy as the training of the inner model is dependent \n",
    "    # on the outermodel's predictions.  If we predict on XValid, then we need to train the inner model on XValid.\n",
    "    # not sure if this makes sense\n",
    "    \n",
    "    #GridSearch manually\n",
    "    for alphaIn in alpha_values:\n",
    "        lassoTF = Lasso(alpha=alphaIn, random_state=777, max_iter=1000).fit(tfidfValid, residuals)\n",
    "        yPredIn = lassoTF.predict(tfidfValid)\n",
    "        \n",
    "        #add predictions from non-Text and Text regressions\n",
    "        yPredFull = yPredOut + yPredIn\n",
    "        \n",
    "        #calc mse between full predictions & actuals\n",
    "        mseRow.append(mean_squared_error(yValid, yPredFull))\n",
    "    \n",
    "    #store for of mse's\n",
    "    mseAll.append(mseRow)\n",
    "    \n",
    "mseAll = np.array(mseAll)"
   ]
  },
  {
   "cell_type": "code",
   "execution_count": null,
   "metadata": {
    "collapsed": true
   },
   "outputs": [],
   "source": [
    "#get bestAlphaOut & In based on the smallest mse from gridsearch\n",
    "bestAlpha_idx = np.unravel_index(np.argmin(mseAll), mseAll.shape)\n",
    "#bestAlpha_idx[0]\n",
    "bestAlphaOut = alpha_values[bestAlpha_idx[0]]\n",
    "bestAlphaIn = alpha_values[bestAlpha_idx[1]]\n",
    "print()\n",
    "print(\"Best Alpha for Outer Lasso (non-text): {}\".format(bestAlphaOut))\n",
    "print(\"Best Alpha for Linner Lasso (text): {}\".format(bestAlphaIn))"
   ]
  },
  {
   "cell_type": "markdown",
   "metadata": {},
   "source": [
    "## Run final model with bestAlphas"
   ]
  },
  {
   "cell_type": "code",
   "execution_count": null,
   "metadata": {
    "collapsed": true
   },
   "outputs": [],
   "source": [
    "lasso = Lasso(alpha=bestAlphaOut, random_state=111).fit(XTrain, yTrain)\n",
    "yPredOut = lasso.predict(XValid)\n",
    "residualsBest = yValid - yPredOut\n",
    "\n",
    "lassoTF = Lasso(alpha=bestAlphaIn, random_state=111).fit(tfidfTrain, residualsBest)\n",
    "yPredIn = lasso.predict(tfidfValid)\n",
    "\n",
    "yPredFull = yPredOut + yPredIn\n",
    "\n",
    "mse_Final = mean_squared_error(yValid, yPredFull)\n",
    "print(\"The MSE for the final tuned models is: {}\".format(mse_Final))"
   ]
  },
  {
   "cell_type": "code",
   "execution_count": null,
   "metadata": {
    "collapsed": true
   },
   "outputs": [],
   "source": []
  },
  {
   "cell_type": "markdown",
   "metadata": {},
   "source": [
    "## Pickle trained models"
   ]
  },
  {
   "cell_type": "code",
   "execution_count": null,
   "metadata": {
    "collapsed": true
   },
   "outputs": [],
   "source": [
    "from sklearn.externals import joblib\n",
    "joblib.dump(lasso, 'lasso_cat.pkl')\n",
    "joblib.dump(lassTF, 'lasso_tfidf.pkl')\n",
    "#clf = joblib.load('lasso_cat.pkl') "
   ]
  },
  {
   "cell_type": "markdown",
   "metadata": {},
   "source": [
    "# Combine non-Text & text data and run Lasso to see if prediction is diff"
   ]
  },
  {
   "cell_type": "code",
   "execution_count": null,
   "metadata": {
    "collapsed": true
   },
   "outputs": [],
   "source": [
    "#combine non-Text and Text to test it out\n",
    "# tfDTrain = tfidfTrain.todense()\n",
    "# comboTrain = pd.concat([XTrain.reset_index(drop = True), pd.DataFrame(tfDTrain)], axis=1)\n",
    "# comboTrain.shape"
   ]
  },
  {
   "cell_type": "code",
   "execution_count": null,
   "metadata": {
    "collapsed": true
   },
   "outputs": [],
   "source": [
    "#save lasso on category data as DataFrame, write to csv\n",
    "# lasso_cat_coef = pd.DataFrame(lasso.coef_, index=XTrain.columns)\n",
    "# lasso_cat_coef.to_csv(\"lasso_cat_coef.csv\")\n",
    "\n",
    "# residualsDF = pd.DataFrame(residuals)\n",
    "# residualsDF.to_csv(\"residuals.csv\")"
   ]
  },
  {
   "cell_type": "markdown",
   "metadata": {},
   "source": [
    "## Lasso: Text data on residuals"
   ]
  },
  {
   "cell_type": "code",
   "execution_count": null,
   "metadata": {
    "collapsed": true
   },
   "outputs": [],
   "source": [
    "#save lasso on TFIDF data as DataFrame, write to csv\n",
    "# lasso_tfidf_coef = pd.DataFrame(lassoTF.coef_, index=vocab.iloc[:,0].values)\n",
    "# lasso_tfidf_coef.to_csv(\"lasso_tfidf_coef.csv\")"
   ]
  },
  {
   "cell_type": "markdown",
   "metadata": {},
   "source": [
    "## Lasso: Text data on residuals (per category1)"
   ]
  },
  {
   "cell_type": "code",
   "execution_count": null,
   "metadata": {
    "collapsed": true
   },
   "outputs": [],
   "source": [
    "#get the category1 column headers\n",
    "cat1_cols = XTrain.iloc[:,4815:4825].columns\n",
    "\n",
    "#reset index so can filter using list of indices\n",
    "residuals.reset_index(drop=True, inplace=True)"
   ]
  },
  {
   "cell_type": "code",
   "execution_count": null,
   "metadata": {
    "collapsed": true
   },
   "outputs": [],
   "source": [
    "%%time\n",
    "cat1_coefs = []\n",
    "tfidfTrain_df = pd.DataFrame(tfidfTrain.todense())  #I think can remove this and uncomment tocsr() line below\n",
    "\n",
    "for cat1 in cat1_cols:\n",
    "    #get indices where this category=1\n",
    "    idx = np.where(XTrain[cat1] == 1)[0]\n",
    "   \n",
    "    #filter data with the indices\n",
    "    X_tf = tfidfTrain_df.iloc[idx,:]   #Don't think need to use this, uncomment next time to deal with sparse\n",
    "    #X_tf = tfidfTrain.tocsr()[idx,:]  #way to filter sparse matrx with row indices\n",
    "    y_tf = residuals[idx]\n",
    "    \n",
    "    #run Lasso, fit, store coef array\n",
    "    lassoCat = Lasso(alpha=bestAlphaIn, random_state=10)\n",
    "    lassoCat.fit(X_tf, y_tf)\n",
    "\n",
    "    #add this cat1 coefs to a list\n",
    "    cat1_coefs.append(lassoCat.coef_)"
   ]
  },
  {
   "cell_type": "code",
   "execution_count": null,
   "metadata": {
    "collapsed": true
   },
   "outputs": [],
   "source": [
    "#covert to DF with cols=vocab and index=category1 names\n",
    "lasso_allCat1_coef = pd.DataFrame(cat1_coefs, columns=vocab.iloc[:,0].values, index=cat1_cols)\n",
    "lasso_allCat1_coef.to_csv(\"lass_allCat1_coef.csv\")"
   ]
  },
  {
   "cell_type": "markdown",
   "metadata": {},
   "source": [
    "<hr><hr><br>\n",
    "\n",
    "## Recurrent Neural Network"
   ]
  },
  {
   "cell_type": "code",
   "execution_count": null,
   "metadata": {
    "collapsed": true
   },
   "outputs": [],
   "source": [
    "# from keras.models import Sequential\n",
    "# from keras.layers.core import Dense, Dropout, Activation, Reshape\n",
    "# from keras.layers.recurrent import LSTM, RNN, GRU, SimpleRNN\n",
    "# from keras.models import load_model\n",
    "# import keras\n",
    "# import h5py\n",
    "\n"
   ]
  },
  {
   "cell_type": "code",
   "execution_count": null,
   "metadata": {
    "collapsed": true
   },
   "outputs": [],
   "source": [
    "# #default layers = 6, neurons list always should equal 6\n",
    "# def build_NN(inShape, nnType='RNN'):\n",
    "    \n",
    "#     model = Sequential()\n",
    "#     model.add(Embedding(inShape[1], 64, input_length=maxLen))  #input layer\n",
    "#     if nnType == 'RNN':\n",
    "#         model.add(SimpleRNN(32, return_sequences=True))\n",
    "#         model.add(SimpleRNN(32))\n",
    "#         model.add(Dense(16, activation='relu'))\n",
    "#         model.add(Dense(8, activation='relu'))\n",
    "#     elif nnType == 'GRU':\n",
    "#         #model.add(Dense(64, input_shape=(inShape[1])))  #input layer\n",
    "#         model.add(GRU(32, return_sequences=True))\n",
    "#         model.add(GRU(32))\n",
    "#         model.add(Dense(16, activation='relu'))\n",
    "#         model.add(Dense(8, activation='relu'))\n",
    "#     elif nnType == 'LSTM':\n",
    "#         #model.add(Dense(64, input_shape=(inShape[1])))  #input layer\n",
    "#         model.add(LSTM(32, return_sequences=True)) \n",
    "#         model.add(LSTM(32))\n",
    "#         model.add(Dense(16, activation='relu'))      \n",
    "#         model.add(Dense(8, activation='relu'))\n",
    "#     elif nnType == 'BASE':\n",
    "#         #model.add(Dense(64, input_shape=(inShape[1],)))  #input layer\n",
    "#         model.add(Dense(32, activation='relu'))\n",
    "#         model.add(Dense(32, activation='relu'))\n",
    "#         model.add(Dense(16, activation='relu'))\n",
    "#         model.add(Reshape((-1,)))\n",
    "#         model.add(Dense(8, activation='relu'))\n",
    "#     else:\n",
    "#         print('should not be here')\n",
    "    \n",
    "#     model.add(Dense(1, activation='linear', kernel_initializer=\"uniform\")) #output layer\n",
    "#     model.compile(loss='mse', optimizer='adam', metrics=['accuracy'])\n",
    "#     #model.summary() \n",
    "\n",
    "#     return model"
   ]
  },
  {
   "cell_type": "code",
   "execution_count": null,
   "metadata": {
    "collapsed": true
   },
   "outputs": [],
   "source": []
  },
  {
   "cell_type": "code",
   "execution_count": null,
   "metadata": {
    "collapsed": true
   },
   "outputs": [],
   "source": [
    "# #params for NN\n",
    "# epochs = 10\n",
    "# batchSize = 3000\n",
    "\n",
    "# #Need to prep the data for the NN\n",
    "\n",
    "# X = tokenizer.texts_to_sequences(train5k)\n",
    "# data = pad_sequences(sequences, maxlen=max_len)\n",
    "\n",
    "\n",
    "# modelRNN = build_NN(tfidf_train.shape, nnType='RNN')\n",
    "# modelRNN.summary()"
   ]
  },
  {
   "cell_type": "code",
   "execution_count": null,
   "metadata": {
    "collapsed": true
   },
   "outputs": [],
   "source": []
  },
  {
   "cell_type": "code",
   "execution_count": null,
   "metadata": {
    "collapsed": true
   },
   "outputs": [],
   "source": []
  }
 ],
 "metadata": {
  "kernelspec": {
   "display_name": "Python 3",
   "language": "python",
   "name": "python3"
  },
  "language_info": {
   "codemirror_mode": {
    "name": "ipython",
    "version": 3
   },
   "file_extension": ".py",
   "mimetype": "text/x-python",
   "name": "python",
   "nbconvert_exporter": "python",
   "pygments_lexer": "ipython3",
   "version": "3.6.3"
  }
 },
 "nbformat": 4,
 "nbformat_minor": 2
}
