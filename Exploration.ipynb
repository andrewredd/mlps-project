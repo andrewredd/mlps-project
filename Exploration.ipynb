{
 "cells": [
  {
   "cell_type": "code",
   "execution_count": 15,
   "metadata": {
    "collapsed": true
   },
   "outputs": [],
   "source": [
    "import pandas as pd\n",
    "import scipy.sparse\n",
    "import scipy\n",
    "import scipy.io\n",
    "import numpy as np\n",
    "from sklearn.decomposition import PCA\n",
    "from sklearn.utils import resample\n",
    "import matplotlib.pyplot as plt\n",
    "from sklearn.feature_extraction.text import TfidfTransformer\n",
    "from sklearn.manifold import TSNE"
   ]
  },
  {
   "cell_type": "code",
   "execution_count": 2,
   "metadata": {
    "collapsed": true
   },
   "outputs": [],
   "source": [
    "# def getpath(relative_path):\n",
    "#     from os import path\n",
    "#     my_path = path.abspath(path.dirname(__file__))\n",
    "#     return path.join(my_path, relative_path)\n",
    "\n",
    "\n",
    "# train_clean_path = getpath('../Data/train_clean.tsv')\n",
    "# sparse_matrix_path = getpath('../Data/train_term_matrix.dtx')\n",
    "\n",
    "train_clean = pd.read_csv('Data/train_clean.tsv', sep='\\t', header=0)\n",
    "\n",
    "# sparse_matrix = pd.read_csv('Data/train_term_matrix.mtx', header=None, \n",
    "#                             skiprows = 1, delimiter=r\"\\s+\")\n",
    "\n"
   ]
  },
  {
   "cell_type": "code",
   "execution_count": 3,
   "metadata": {
    "collapsed": true
   },
   "outputs": [],
   "source": [
    "# seperate out the rows, columns, entries information\n",
    "# format_sparse = (sparse_matrix[:1])\n",
    "# total_rows = format_sparse.iloc[0][0]\n",
    "# total_columns = format_sparse.iloc[0][1]\n",
    "# total_entries = format_sparse.iloc[0][2]"
   ]
  },
  {
   "cell_type": "code",
   "execution_count": 4,
   "metadata": {
    "collapsed": true
   },
   "outputs": [],
   "source": [
    "# drop the first row with the rows, columns, entries information\n",
    "# sparse_matrix.drop(sparse_matrix.index[0], inplace=True)"
   ]
  },
  {
   "cell_type": "code",
   "execution_count": 5,
   "metadata": {
    "collapsed": true
   },
   "outputs": [],
   "source": [
    "# subtract 1 from the indices because I am translating from R to Python indexing. R start at 1 Python starts at 0\n",
    "# sparse_rows = sparse_matrix.iloc[:,0].values - 1\n",
    "# sparse_columns = sparse_matrix.iloc[:,1].values - 1"
   ]
  },
  {
   "cell_type": "code",
   "execution_count": 6,
   "metadata": {
    "collapsed": true
   },
   "outputs": [],
   "source": [
    "# Values do not need to be changed at all\n",
    "#sparse_values = sparse_matrix.iloc[:,2].values"
   ]
  },
  {
   "cell_type": "code",
   "execution_count": 7,
   "metadata": {
    "collapsed": true
   },
   "outputs": [],
   "source": [
    "# create the sparse matrix\n",
    "# sparse_matrix = scipy.sparse.csr_matrix( (sparse_values,\n",
    "#                                          (sparse_rows,sparse_columns)), \n",
    "#                                             shape=(total_rows, total_columns) )\n",
    "# "
   ]
  },
  {
   "cell_type": "code",
   "execution_count": 17,
   "metadata": {},
   "outputs": [],
   "source": [
    "# read in mtx file\n",
    "\n",
    "sparse_matrix = scipy.io.mmread('Data/train_term_matrix.mtx')"
   ]
  },
  {
   "cell_type": "code",
   "execution_count": null,
   "metadata": {
    "collapsed": true
   },
   "outputs": [],
   "source": []
  },
  {
   "cell_type": "code",
   "execution_count": null,
   "metadata": {},
   "outputs": [],
   "source": [
    "%%time\n",
    "\n",
    "# TDIF\n",
    "tf_idf = TfidfTransformer()\n",
    "\n",
    "sparse_matrix_tf_idf = tf_idf.fit_transform(sparse_matrix)\n",
    "\n",
    "samples = 10000\n",
    "state = 95\n",
    "\n",
    "# Sample Data to reduce the size\n",
    "sparse_matrix_sample = resample(sparse_matrix_tf_idf.todense(), \n",
    "                                n_samples=samples, random_state=state)\n",
    "\n"
   ]
  },
  {
   "cell_type": "code",
   "execution_count": 9,
   "metadata": {},
   "outputs": [
    {
     "name": "stdout",
     "output_type": "stream",
     "text": [
      "   train_id                                 name  item_condition_id  \\\n",
      "0         0  MLB Cincinnati Reds T Shirt Size XL                  3   \n",
      "1         1     Razer BlackWidow Chroma Keyboard                  3   \n",
      "2         2                       AVA-VIV Blouse                  1   \n",
      "3         3                Leather Horse Statues                  1   \n",
      "4         4                 24K GOLD plated rose                  1   \n",
      "\n",
      "                                       category_name brand_name  price  \\\n",
      "0                                  Men/Tops/T-shirts        NaN   10.0   \n",
      "1  Electronics/Computers & Tablets/Components & P...      Razer   52.0   \n",
      "2                        Women/Tops & Blouses/Blouse     Target   10.0   \n",
      "3                 Home/Home Décor/Home Décor Accents        NaN   35.0   \n",
      "4                            Women/Jewelry/Necklaces        NaN   44.0   \n",
      "\n",
      "   shipping                                   item_description  \\\n",
      "0         1                                                NaN   \n",
      "1         0  This keyboard is in great condition and works ...   \n",
      "2         1  Adorable top with a hint of lace and a key hol...   \n",
      "3         1  New with tags. Leather horses. Retail for [rm]...   \n",
      "4         0          Complete with certificate of authenticity   \n",
      "\n",
      "  category_name_1      category_name_2     category_name_3  \n",
      "0             Men                 Tops            T-shirts  \n",
      "1     Electronics  Computers & Tablets  Components & Parts  \n",
      "2           Women       Tops & Blouses              Blouse  \n",
      "3            Home           Home Décor  Home Décor Accents  \n",
      "4           Women              Jewelry           Necklaces  \n"
     ]
    }
   ],
   "source": [
    "train_clean['price'] = train_clean['price'].astype(float)\n",
    "print(train_clean.head())\n"
   ]
  },
  {
   "cell_type": "code",
   "execution_count": 10,
   "metadata": {},
   "outputs": [
    {
     "name": "stdout",
     "output_type": "stream",
     "text": [
      "                        Mean Price  St Dev Price  Listings Count\n",
      "category_name_1                                                 \n",
      "Beauty                       19.67         21.36          207828\n",
      "Electronics                  35.17         65.42          122690\n",
      "Handmade                     18.16         27.76           30842\n",
      "Home                         24.54         24.42           67871\n",
      "Kids                         20.64         22.73          171689\n",
      "Men                          34.71         41.24           93680\n",
      "Other                        20.81         29.85           45351\n",
      "Sports & Outdoors            25.53         29.30           25342\n",
      "Vintage & Collectibles       27.34         53.51           46530\n",
      "Women                        28.89         39.44          664385\n"
     ]
    }
   ],
   "source": [
    "mean_values = train_clean.groupby('category_name_1')['price'].mean()\n",
    "std_values = train_clean.groupby('category_name_1')['price'].std()\n",
    "count_values = train_clean.groupby('category_name_1')['price'].count()\n",
    "\n",
    "\n",
    "summary_category = pd.concat([mean_values, std_values, count_values], axis=1)\n",
    "summary_category.columns = ['Mean Price', 'St Dev Price', \"Listings Count\"]\n",
    "\n",
    "print(round(summary_category , 2))"
   ]
  },
  {
   "cell_type": "code",
   "execution_count": 11,
   "metadata": {},
   "outputs": [
    {
     "name": "stdout",
     "output_type": "stream",
     "text": [
      "note: removed outliers\n"
     ]
    }
   ],
   "source": [
    "import seaborn as sns\n",
    "print(\"note: removed outliers\")\n",
    "fig, ax = plt.subplots()\n",
    "fig.set_size_inches(11.7, 8.27)\n",
    "plt.title(\"Price by Category boxplot\")\n",
    "plt.xticks(rotation=90)\n",
    "ax = sns.boxplot(x='category_name_1', y='price', data=train_clean, showfliers=False)"
   ]
  },
  {
   "cell_type": "code",
   "execution_count": 12,
   "metadata": {},
   "outputs": [
    {
     "ename": "NameError",
     "evalue": "name 'df' is not defined",
     "output_type": "error",
     "traceback": [
      "\u001b[0;31m---------------------------------------------------------------------------\u001b[0m",
      "\u001b[0;31mNameError\u001b[0m                                 Traceback (most recent call last)",
      "\u001b[0;32m<ipython-input-12-de6cebebbc22>\u001b[0m in \u001b[0;36m<module>\u001b[0;34m()\u001b[0m\n\u001b[0;32m----> 1\u001b[0;31m \u001b[0mtrain_clean\u001b[0m\u001b[0;34m[\u001b[0m\u001b[0;34m'price_bin'\u001b[0m\u001b[0;34m]\u001b[0m \u001b[0;34m=\u001b[0m \u001b[0mpd\u001b[0m\u001b[0;34m.\u001b[0m\u001b[0mcut\u001b[0m\u001b[0;34m(\u001b[0m\u001b[0mdf\u001b[0m\u001b[0;34m[\u001b[0m\u001b[0;34m'price'\u001b[0m\u001b[0;34m]\u001b[0m\u001b[0;34m,\u001b[0m \u001b[0mbins\u001b[0m \u001b[0;34m=\u001b[0m \u001b[0;36m4\u001b[0m\u001b[0;34m)\u001b[0m\u001b[0;34m\u001b[0m\u001b[0m\n\u001b[0m",
      "\u001b[0;31mNameError\u001b[0m: name 'df' is not defined"
     ]
    }
   ],
   "source": [
    "# train_clean['price_bin'] = pd.cut(df['price'], bins = 4)"
   ]
  },
  {
   "cell_type": "code",
   "execution_count": null,
   "metadata": {
    "collapsed": true
   },
   "outputs": [],
   "source": [
    "%%time\n",
    "\n",
    "# Fit PCA with top 2 components on a subset of the data\n",
    "pca = PCA(n_components=2)\n",
    "\n",
    "descriptions_pca = pca.fit(sparse_matrix_sample.todense())\n"
   ]
  },
  {
   "cell_type": "code",
   "execution_count": null,
   "metadata": {
    "collapsed": true
   },
   "outputs": [],
   "source": [
    "%%time\n",
    "descriptions_pca = pca.transform(sparse_matrix_sample.todense())"
   ]
  },
  {
   "cell_type": "code",
   "execution_count": null,
   "metadata": {
    "collapsed": true
   },
   "outputs": [],
   "source": []
  },
  {
   "cell_type": "code",
   "execution_count": null,
   "metadata": {
    "collapsed": true
   },
   "outputs": [],
   "source": [
    "%matplotlib inline\n",
    "\n",
    "plt.scatter(descriptions_pca[:,0], descriptions_pca[:,1])\n",
    "plt.show()"
   ]
  },
  {
   "cell_type": "code",
   "execution_count": null,
   "metadata": {
    "collapsed": true
   },
   "outputs": [],
   "source": [
    "%%time\n",
    "tsne = TSNE(n_components=2, verbose=1, perplexity=40, n_iter=300)\n",
    "app_predict_tsne2d = tsne.fit_transform(sparse_matrix_sample.todense())"
   ]
  },
  {
   "cell_type": "code",
   "execution_count": null,
   "metadata": {
    "collapsed": true
   },
   "outputs": [],
   "source": [
    "%%time\n",
    "descriptions_pca_all_data = pca.transform(sparse_matrix_tf_idf.todense())\n",
    "\n"
   ]
  },
  {
   "cell_type": "code",
   "execution_count": null,
   "metadata": {
    "collapsed": true
   },
   "outputs": [],
   "source": [
    "plt.scatter(descriptions_pca_all_data[:,0], descriptions_pca_all_data[:,1])\n",
    "plt.show()"
   ]
  }
 ],
 "metadata": {
  "kernelspec": {
   "display_name": "Python 3",
   "language": "python",
   "name": "python3"
  },
  "language_info": {
   "codemirror_mode": {
    "name": "ipython",
    "version": 3
   },
   "file_extension": ".py",
   "mimetype": "text/x-python",
   "name": "python",
   "nbconvert_exporter": "python",
   "pygments_lexer": "ipython3",
   "version": "3.6.3"
  }
 },
 "nbformat": 4,
 "nbformat_minor": 2
}
