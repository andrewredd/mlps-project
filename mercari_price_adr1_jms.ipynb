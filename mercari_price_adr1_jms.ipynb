{
 "cells": [
  {
   "cell_type": "markdown",
   "metadata": {},
   "source": [
    "# MLPS - Mercari Price ML"
   ]
  },
  {
   "cell_type": "code",
   "execution_count": null,
   "metadata": {
    "collapsed": true
   },
   "outputs": [],
   "source": [
    "import pandas as pd \n",
    "import numpy as np\n",
    "from sklearn.metrics import mean_squared_error\n",
    "\n",
    "np.set_printoptions(suppress=True)\n",
    "pd.set_option('display.float_format', lambda x: '%.3f' % x)"
   ]
  },
  {
   "cell_type": "markdown",
   "metadata": {},
   "source": [
    "### Perform data cleaning"
   ]
  },
  {
   "cell_type": "code",
   "execution_count": null,
   "metadata": {
    "collapsed": true
   },
   "outputs": [],
   "source": [
    "data = pd.read_csv(\"Data/train.tsv\", delimiter=\"\\t\", index_col=0)\n",
    "\n",
    "# remove items with out a price\n",
    "data = data[pd.notna(data[\"price\"])]\n",
    "\n",
    "data[\"item_description\"] = data[\"item_description\"].replace(\"No description yet\", \"\")\n",
    "data[\"item_description\"] = data[\"item_description\"].replace(np.nan, \"\")\n",
    "\n",
    "temp = data[\"category_name\"].fillna('').str.split('/')\n",
    "              \n",
    "data[\"category_name_1\"] = temp.str[0]\n",
    "data[\"category_name_2\"] = temp.str[1]\n",
    "data[\"category_name_3\"] = temp.str[2:].str.join(\"/\")"
   ]
  },
  {
   "cell_type": "markdown",
   "metadata": {},
   "source": [
    "### Implement porter stemming in count vectorizer"
   ]
  },
  {
   "cell_type": "code",
   "execution_count": null,
   "metadata": {
    "collapsed": true
   },
   "outputs": [],
   "source": [
    "from sklearn.feature_extraction.text import CountVectorizer, TfidfTransformer\n",
    "from nltk.stem.porter import *\n",
    "import string\n",
    "\n",
    "class StemmerTokenizer(object):\n",
    "    def __init__(self):\n",
    "        self.ps = PorterStemmer()\n",
    "        self.translator = str.maketrans('', '', string.punctuation + string.digits)\n",
    "    def __call__(self, doc):\n",
    "        return [self.ps.stem(w) for w in doc\n",
    "                .encode('ascii', errors='ignore')\n",
    "                .decode('ascii')\n",
    "                .translate(self.translator)\n",
    "                .split()]\n",
    "\n",
    "vectorizer = CountVectorizer(lowercase = True,\n",
    "                             max_df = .5,\n",
    "                             min_df = .001,\n",
    "                             tokenizer = StemmerTokenizer(),\n",
    "                             stop_words='english')"
   ]
  },
  {
   "cell_type": "markdown",
   "metadata": {},
   "source": [
    "### Count vectorize the data"
   ]
  },
  {
   "cell_type": "code",
   "execution_count": null,
   "metadata": {
    "collapsed": true
   },
   "outputs": [],
   "source": [
    "%%time\n",
    "tfm = vectorizer.fit_transform(data[\"item_description\"])"
   ]
  },
  {
   "cell_type": "code",
   "execution_count": null,
   "metadata": {
    "collapsed": true
   },
   "outputs": [],
   "source": [
    "vocab = vectorizer.vocabulary_ \n",
    "removed_words = vectorizer.stop_words_"
   ]
  },
  {
   "cell_type": "code",
   "execution_count": null,
   "metadata": {
    "collapsed": true
   },
   "outputs": [],
   "source": [
    "%%time\n",
    "tfidf_vectorizer = TfidfTransformer()\n",
    "tfidf_transformed = tfidf_vectorizer.fit_transform(tfm)"
   ]
  },
  {
   "cell_type": "markdown",
   "metadata": {},
   "source": [
    "### Save results for time savings"
   ]
  },
  {
   "cell_type": "code",
   "execution_count": null,
   "metadata": {
    "collapsed": true
   },
   "outputs": [],
   "source": [
    "from scipy.sparse import save_npz\n",
    "save_npz(\"tfm.npz\", tfm)\n",
    "save_npz(\"tfidf_transformed.npz\", tfidf_transformed)"
   ]
  },
  {
   "cell_type": "markdown",
   "metadata": {},
   "source": [
    "## Vocab: write vectorized words to txt"
   ]
  },
  {
   "cell_type": "code",
   "execution_count": null,
   "metadata": {
    "collapsed": true
   },
   "outputs": [],
   "source": [
    "import operator\n",
    "with open(\"vocabulary.txt\", \"w\") as f:\n",
    "    f.write(\"\".join([k + '\\n' for k, v in sorted(vectorizer.vocabulary_.items(), key=operator.itemgetter(1))]))"
   ]
  },
  {
   "cell_type": "markdown",
   "metadata": {},
   "source": [
    "<br><br><br><hr><hr>\n",
    "\n",
    "# Load files as necessary for time savings"
   ]
  },
  {
   "cell_type": "code",
   "execution_count": 1,
   "metadata": {
    "collapsed": true
   },
   "outputs": [],
   "source": [
    "import pandas as pd \n",
    "import numpy as np\n",
    "from sklearn.metrics import mean_squared_error\n",
    "\n",
    "np.set_printoptions(suppress=True)\n",
    "pd.set_option('display.float_format', lambda x: '%.3f' % x)\n",
    "from scipy.sparse import load_npz\n",
    "\n",
    "tfm = load_npz(\"Data/tfm.npz\")\n",
    "tfidf_transformed = load_npz(\"Data/tfidf_transformed.npz\")\n",
    "categorical = pd.read_csv('Data/train_clean.tsv', sep='\\t', header=0)"
   ]
  },
  {
   "cell_type": "code",
   "execution_count": 2,
   "metadata": {},
   "outputs": [
    {
     "name": "stdout",
     "output_type": "stream",
     "text": [
      "pre-filtering  1482535\n",
      "post-filtering  1478823\n"
     ]
    }
   ],
   "source": [
    "# take the log of price (0.000000001 added for item with 0 as price)\n",
    "categorical['log(price)'] = np.log(categorical['price'] + 0.000000001)\n",
    "\n",
    "# calculate 6 st dev of log(price)\n",
    "st_dev_log_price_6 = categorical['log(price)'].std()*6\n",
    "\n",
    "print(\"pre-filtering \",len(categorical))\n",
    "\n",
    "# find points that are not outliers\n",
    "not_outliers = np.array((categorical['log(price)'] < st_dev_log_price_6) & (categorical['log(price)'] > (- st_dev_log_price_6)))\n",
    "\n",
    "# filter datasets to data only around 6 st dev of log(price)\n",
    "cleaned_categorical = categorical[not_outliers]\n",
    "cleaned_categorical.reset_index(drop = True, inplace = True)\n",
    "tfm = tfm[not_outliers]\n",
    "tfidf_transformed = tfidf_transformed[not_outliers]\n",
    "\n",
    "print(\"post-filtering \",len(cleaned_categorical))"
   ]
  },
  {
   "cell_type": "code",
   "execution_count": 3,
   "metadata": {},
   "outputs": [
    {
     "data": {
      "text/html": [
       "<div>\n",
       "<style scoped>\n",
       "    .dataframe tbody tr th:only-of-type {\n",
       "        vertical-align: middle;\n",
       "    }\n",
       "\n",
       "    .dataframe tbody tr th {\n",
       "        vertical-align: top;\n",
       "    }\n",
       "\n",
       "    .dataframe thead th {\n",
       "        text-align: right;\n",
       "    }\n",
       "</style>\n",
       "<table border=\"1\" class=\"dataframe\">\n",
       "  <thead>\n",
       "    <tr style=\"text-align: right;\">\n",
       "      <th></th>\n",
       "      <th>train_id</th>\n",
       "      <th>item_condition_id</th>\n",
       "      <th>price</th>\n",
       "      <th>shipping</th>\n",
       "      <th>log(price)</th>\n",
       "    </tr>\n",
       "  </thead>\n",
       "  <tbody>\n",
       "    <tr>\n",
       "      <th>count</th>\n",
       "      <td>1478823.000</td>\n",
       "      <td>1478823.000</td>\n",
       "      <td>1478823.000</td>\n",
       "      <td>1478823.000</td>\n",
       "      <td>1478823.000</td>\n",
       "    </tr>\n",
       "    <tr>\n",
       "      <th>mean</th>\n",
       "      <td>741229.160</td>\n",
       "      <td>1.907</td>\n",
       "      <td>25.753</td>\n",
       "      <td>0.447</td>\n",
       "      <td>2.907</td>\n",
       "    </tr>\n",
       "    <tr>\n",
       "      <th>std</th>\n",
       "      <td>427967.781</td>\n",
       "      <td>0.903</td>\n",
       "      <td>29.028</td>\n",
       "      <td>0.497</td>\n",
       "      <td>0.776</td>\n",
       "    </tr>\n",
       "    <tr>\n",
       "      <th>min</th>\n",
       "      <td>0.000</td>\n",
       "      <td>1.000</td>\n",
       "      <td>3.000</td>\n",
       "      <td>0.000</td>\n",
       "      <td>1.099</td>\n",
       "    </tr>\n",
       "    <tr>\n",
       "      <th>25%</th>\n",
       "      <td>370559.500</td>\n",
       "      <td>1.000</td>\n",
       "      <td>10.000</td>\n",
       "      <td>0.000</td>\n",
       "      <td>2.303</td>\n",
       "    </tr>\n",
       "    <tr>\n",
       "      <th>50%</th>\n",
       "      <td>741224.000</td>\n",
       "      <td>2.000</td>\n",
       "      <td>17.000</td>\n",
       "      <td>0.000</td>\n",
       "      <td>2.833</td>\n",
       "    </tr>\n",
       "    <tr>\n",
       "      <th>75%</th>\n",
       "      <td>1111850.500</td>\n",
       "      <td>3.000</td>\n",
       "      <td>29.000</td>\n",
       "      <td>1.000</td>\n",
       "      <td>3.367</td>\n",
       "    </tr>\n",
       "    <tr>\n",
       "      <th>max</th>\n",
       "      <td>1482534.000</td>\n",
       "      <td>5.000</td>\n",
       "      <td>347.000</td>\n",
       "      <td>1.000</td>\n",
       "      <td>5.849</td>\n",
       "    </tr>\n",
       "  </tbody>\n",
       "</table>\n",
       "</div>"
      ],
      "text/plain": [
       "         train_id  item_condition_id       price    shipping  log(price)\n",
       "count 1478823.000        1478823.000 1478823.000 1478823.000 1478823.000\n",
       "mean   741229.160              1.907      25.753       0.447       2.907\n",
       "std    427967.781              0.903      29.028       0.497       0.776\n",
       "min         0.000              1.000       3.000       0.000       1.099\n",
       "25%    370559.500              1.000      10.000       0.000       2.303\n",
       "50%    741224.000              2.000      17.000       0.000       2.833\n",
       "75%   1111850.500              3.000      29.000       1.000       3.367\n",
       "max   1482534.000              5.000     347.000       1.000       5.849"
      ]
     },
     "execution_count": 3,
     "metadata": {},
     "output_type": "execute_result"
    }
   ],
   "source": [
    "cleaned_categorical.describe()"
   ]
  },
  {
   "cell_type": "code",
   "execution_count": 4,
   "metadata": {},
   "outputs": [
    {
     "name": "stderr",
     "output_type": "stream",
     "text": [
      "/Applications/anaconda3/lib/python3.6/site-packages/ipykernel_launcher.py:2: SettingWithCopyWarning: \n",
      "A value is trying to be set on a copy of a slice from a DataFrame\n",
      "\n",
      "See the caveats in the documentation: http://pandas.pydata.org/pandas-docs/stable/indexing.html#indexing-view-versus-copy\n",
      "  \n",
      "/Applications/anaconda3/lib/python3.6/site-packages/pandas/core/generic.py:5984: SettingWithCopyWarning: \n",
      "A value is trying to be set on a copy of a slice from a DataFrame\n",
      "\n",
      "See the caveats in the documentation: http://pandas.pydata.org/pandas-docs/stable/indexing.html#indexing-view-versus-copy\n",
      "  self._update_inplace(new_data)\n",
      "/Applications/anaconda3/lib/python3.6/site-packages/IPython/core/interactiveshell.py:2862: SettingWithCopyWarning: \n",
      "A value is trying to be set on a copy of a slice from a DataFrame\n",
      "\n",
      "See the caveats in the documentation: http://pandas.pydata.org/pandas-docs/stable/indexing.html#indexing-view-versus-copy\n",
      "  exec(code_obj, self.user_global_ns, self.user_ns)\n"
     ]
    }
   ],
   "source": [
    "\n",
    "cleaned_categorical[\"brand_name\"][cleaned_categorical[\"brand_name\"].isnull()] = \"No Brand Info\""
   ]
  },
  {
   "cell_type": "code",
   "execution_count": 5,
   "metadata": {},
   "outputs": [
    {
     "data": {
      "text/plain": [
       "<matplotlib.axes._subplots.AxesSubplot at 0x130b87ef0>"
      ]
     },
     "execution_count": 5,
     "metadata": {},
     "output_type": "execute_result"
    },
    {
     "data": {
      "image/png": "[encoded data removed]",
      "text/plain": [
       "<matplotlib.figure.Figure at 0x130891ba8>"
      ]
     },
     "metadata": {},
     "output_type": "display_data"
    }
   ],
   "source": [
    "%matplotlib inline\n",
    "cleaned_categorical['log(price)'].plot.hist(bins= 100)\n"
   ]
  },
  {
   "cell_type": "code",
   "execution_count": 6,
   "metadata": {},
   "outputs": [
    {
     "data": {
      "text/plain": [
       "(1478823, 1793)"
      ]
     },
     "execution_count": 6,
     "metadata": {},
     "output_type": "execute_result"
    }
   ],
   "source": [
    "tfm.shape"
   ]
  },
  {
   "cell_type": "code",
   "execution_count": 7,
   "metadata": {},
   "outputs": [
    {
     "data": {
      "text/plain": [
       "(1478823, 1793)"
      ]
     },
     "execution_count": 7,
     "metadata": {},
     "output_type": "execute_result"
    }
   ],
   "source": [
    "tfidf_transformed.shape"
   ]
  },
  {
   "cell_type": "code",
   "execution_count": 8,
   "metadata": {},
   "outputs": [
    {
     "data": {
      "text/plain": [
       "(1478823, 12)"
      ]
     },
     "execution_count": 8,
     "metadata": {},
     "output_type": "execute_result"
    }
   ],
   "source": [
    "cleaned_categorical.shape"
   ]
  },
  {
   "cell_type": "markdown",
   "metadata": {},
   "source": [
    "## Split into train and test"
   ]
  },
  {
   "cell_type": "code",
   "execution_count": 9,
   "metadata": {},
   "outputs": [
    {
     "name": "stderr",
     "output_type": "stream",
     "text": [
      "/Applications/anaconda3/lib/python3.6/site-packages/ipykernel_launcher.py:5: SettingWithCopyWarning: \n",
      "A value is trying to be set on a copy of a slice from a DataFrame\n",
      "\n",
      "See the caveats in the documentation: http://pandas.pydata.org/pandas-docs/stable/indexing.html#indexing-view-versus-copy\n",
      "  \"\"\"\n",
      "/Applications/anaconda3/lib/python3.6/site-packages/ipykernel_launcher.py:6: SettingWithCopyWarning: \n",
      "A value is trying to be set on a copy of a slice from a DataFrame.\n",
      "Try using .loc[row_indexer,col_indexer] = value instead\n",
      "\n",
      "See the caveats in the documentation: http://pandas.pydata.org/pandas-docs/stable/indexing.html#indexing-view-versus-copy\n",
      "  \n"
     ]
    }
   ],
   "source": [
    "from sklearn.model_selection import train_test_split\n",
    "from sklearn.preprocessing import OneHotEncoder\n",
    "\n",
    "y_categorical = cleaned_categorical['price']\n",
    "cleaned_categorical.drop([\"train_id\",\"name\",\"category_name\",\"item_description\",\"price\", 'log(price)'], axis=1, inplace=True)\n",
    "cleaned_categorical[\"item_condition_id\"] = cleaned_categorical[\"item_condition_id\"].astype('str', copy=False)"
   ]
  },
  {
   "cell_type": "code",
   "execution_count": 10,
   "metadata": {},
   "outputs": [
    {
     "data": {
      "text/plain": [
       "0"
      ]
     },
     "execution_count": 10,
     "metadata": {},
     "output_type": "execute_result"
    }
   ],
   "source": [
    "y_categorical.isna().sum()"
   ]
  },
  {
   "cell_type": "code",
   "execution_count": 11,
   "metadata": {},
   "outputs": [],
   "source": [
    "ohe_cleaned_categorical = pd.get_dummies(cleaned_categorical)"
   ]
  },
  {
   "cell_type": "code",
   "execution_count": 12,
   "metadata": {
    "collapsed": true
   },
   "outputs": [],
   "source": [
    "#Test Train sample size\n",
    "import numpy as np\n",
    "n_sample = 100000\n",
    "sample = np.random.permutation(y_categorical.shape[0])[:n_sample]"
   ]
  },
  {
   "cell_type": "code",
   "execution_count": 13,
   "metadata": {
    "collapsed": true
   },
   "outputs": [],
   "source": [
    "y_categorical_sample = y_categorical[sample]\n",
    "ohe_cleaned_categorical_sample = ohe_cleaned_categorical.iloc[sample]\n",
    "tfidf_transformed_sample = tfidf_transformed[sample]\n",
    "\n",
    "ohe_cleaned_categorical_sample.reset_index(drop = True, inplace = True);\n",
    "y_categorical_sample.reset_index(drop = True, inplace = True);"
   ]
  },
  {
   "cell_type": "markdown",
   "metadata": {},
   "source": [
    "y_categorical.isna().sum()"
   ]
  },
  {
   "cell_type": "code",
   "execution_count": 14,
   "metadata": {
    "collapsed": true
   },
   "outputs": [],
   "source": [
    "# split into train and test\n",
    "yTrain, yTest, XTrain, XTest, tfidfTrain, tfidfTest = train_test_split(\n",
    "    y_categorical_sample, ohe_cleaned_categorical_sample, tfidf_transformed_sample, test_size=0.3, random_state=95)\n",
    "\n",
    "yTrain.reset_index(drop = True, inplace = True)\n",
    "yTest.reset_index(drop = True, inplace = True)\n",
    "XTrain.reset_index(drop = True, inplace = True)\n",
    "XTest.reset_index(drop = True, inplace = True);\n"
   ]
  },
  {
   "cell_type": "code",
   "execution_count": 15,
   "metadata": {},
   "outputs": [
    {
     "data": {
      "text/plain": [
       "0"
      ]
     },
     "execution_count": 15,
     "metadata": {},
     "output_type": "execute_result"
    }
   ],
   "source": [
    "yTrain.isna().sum()"
   ]
  },
  {
   "cell_type": "code",
   "execution_count": 16,
   "metadata": {
    "collapsed": true
   },
   "outputs": [],
   "source": [
    "# specify number of folds\n",
    "from sklearn.model_selection import KFold\n",
    "folds = 2\n",
    "kf = KFold(n_splits=folds)"
   ]
  },
  {
   "cell_type": "code",
   "execution_count": 19,
   "metadata": {},
   "outputs": [
    {
     "name": "stdout",
     "output_type": "stream",
     "text": [
      "CPU times: user 3 µs, sys: 1e+03 ns, total: 4 µs\n",
      "Wall time: 7.15 µs\n",
      "0\n",
      "0 0.001\n",
      "0 0.001 0.001\n",
      "0 0.001 0.01\n",
      "0 0.01\n",
      "0 0.01 0.001\n",
      "0 0.01 0.01\n",
      "0 0.1\n",
      "0 0.1 0.001\n",
      "0 0.1 0.01\n",
      "0 1\n",
      "0 1 0.001\n",
      "0 1 0.01\n",
      "1\n",
      "1 0.001\n",
      "1 0.001 0.001\n",
      "1 0.001 0.01\n",
      "1 0.01\n",
      "1 0.01 0.001\n",
      "1 0.01 0.01\n",
      "1 0.1\n",
      "1 0.1 0.001\n",
      "1 0.1 0.01\n",
      "1 1\n",
      "1 1 0.001\n",
      "1 1 0.01\n"
     ]
    }
   ],
   "source": [
    "%time\n",
    "# Test train and validate\n",
    "alpha_values = [0.001, 0.01, 0.1, 1]\n",
    "alpha_inner_values = [0.001, 0.01]\n",
    "from sklearn.linear_model import Lasso\n",
    "import copy\n",
    "\n",
    "mseOuterTrain = []\n",
    "mseOuterVal = []\n",
    "mseInnerTrain = []\n",
    "mseInnerVal = []\n",
    "mseOverallTrain = []\n",
    "mseOverallVal= []\n",
    "\n",
    "for i, (train_index, val_index) in enumerate(kf.split(yTrain)):\n",
    "    print(i)\n",
    "    yTrain_fold = yTrain.iloc[train_index]\n",
    "    yVal_fold = yTrain.iloc[val_index]\n",
    "\n",
    "    XTrain_fold = XTrain.iloc[train_index]\n",
    "    XVal_fold = XTrain.iloc[val_index]\n",
    "    \n",
    "    tfidfTrain_fold = tfidfTrain[train_index]\n",
    "    tfidfVal_fold = tfidfTrain[val_index]\n",
    "    \n",
    "\n",
    "    for a_outer in alpha_values:\n",
    "        print(i, a_outer)\n",
    "        lasso = Lasso(alpha=a_outer, random_state=111, max_iter=1000).fit(XTrain_fold, yTrain_fold)\n",
    "        predict_train = lasso.predict(XTrain_fold)\n",
    "        train_residuals = yTrain_fold - predict_train\n",
    "        mseOuterTrain.append(copy.deepcopy((i, a_outer ,None, np.square(train_residuals).mean())))\n",
    "        \n",
    "        predict_val = lasso.predict(XVal_fold)\n",
    "        val_residuals = yVal_fold - predict_val\n",
    "        mseOuterVal.append(copy.deepcopy((i, a_outer , None, np.square(val_residuals).mean())))\n",
    "        \n",
    "        for a_inner in alpha_inner_values:\n",
    "            print(i, a_outer, a_inner)\n",
    "            lasso_inner = Lasso(alpha=a_inner, random_state=111, max_iter=1000).fit(tfidfTrain_fold, train_residuals)\n",
    "            predict_inner_train = lasso_inner.predict(tfidfTrain_fold)\n",
    "            inner_train_residuals = train_residuals - predict_inner_train\n",
    "            mseInnerTrain.append(copy.deepcopy((i, a_inner, np.square(inner_train_residuals).mean())))\n",
    "\n",
    "            predict_inner_val = lasso_inner.predict(tfidfVal_fold)\n",
    "            inner_val_residuals = val_residuals - predict_inner_val\n",
    "            mseInnerVal.append(copy.deepcopy((i, a_inner, np.square(inner_val_residuals).mean())))\n",
    "\n",
    "            residuals_overall_train = yTrain_fold - predict_train - predict_inner_train\n",
    "            mseOverallTrain.append(copy.deepcopy((i, a_outer, a_inner, np.square(residuals_overall_train).mean())))\n",
    "\n",
    "            residuals_overall_val = yVal_fold - predict_val - predict_inner_val\n",
    "            mseOverallVal.append(copy.deepcopy((i, a_outer, a_inner, np.square(residuals_overall_val).mean())))\n",
    "    "
   ]
  },
  {
   "cell_type": "code",
   "execution_count": null,
   "metadata": {
    "collapsed": true
   },
   "outputs": [],
   "source": []
  },
  {
   "cell_type": "code",
   "execution_count": 21,
   "metadata": {},
   "outputs": [
    {
     "data": {
      "text/plain": [
       "[(1, 0.001, 0.001, 537.8424368915587),\n",
       " (1, 0.01, 0.001, 541.7957137672096),\n",
       " (1, 0.001, 0.01, 548.5032824515748),\n",
       " (1, 0.01, 0.01, 555.2455748046898),\n",
       " (1, 0.1, 0.001, 593.1901232125064),\n",
       " (0, 0.001, 0.001, 593.6364120389524),\n",
       " (0, 0.01, 0.001, 598.3875588873835),\n",
       " (0, 0.001, 0.01, 603.9947970657068),\n",
       " (0, 0.01, 0.01, 611.1155584590944),\n",
       " (1, 0.1, 0.01, 617.188612694948),\n",
       " (1, 1, 0.001, 631.4570159583806),\n",
       " (0, 0.1, 0.001, 647.547198049096),\n",
       " (1, 1, 0.01, 658.8781379084553),\n",
       " (0, 0.1, 0.01, 671.8913832212985),\n",
       " (0, 1, 0.001, 691.6456001061263),\n",
       " (0, 1, 0.01, 723.3536005844179)]"
      ]
     },
     "execution_count": 21,
     "metadata": {},
     "output_type": "execute_result"
    }
   ],
   "source": [
    "import operator\n",
    "sorted(mseOverallVal, key = operator.itemgetter(3))"
   ]
  },
  {
   "cell_type": "code",
   "execution_count": 22,
   "metadata": {},
   "outputs": [
    {
     "ename": "AttributeError",
     "evalue": "'list' object has no attribute 'groupby'",
     "output_type": "error",
     "traceback": [
      "\u001b[0;31m---------------------------------------------------------------------------\u001b[0m",
      "\u001b[0;31mAttributeError\u001b[0m                            Traceback (most recent call last)",
      "\u001b[0;32m<ipython-input-22-8ce3192fb4a3>\u001b[0m in \u001b[0;36m<module>\u001b[0;34m()\u001b[0m\n\u001b[0;32m----> 1\u001b[0;31m \u001b[0mgrouped\u001b[0m \u001b[0;34m=\u001b[0m \u001b[0mmseOverallVal\u001b[0m\u001b[0;34m.\u001b[0m\u001b[0mgroupby\u001b[0m\u001b[0;34m(\u001b[0m\u001b[0;34m[\u001b[0m\u001b[0;34m\"outer\"\u001b[0m\u001b[0;34m,\u001b[0m\u001b[0;34m\"inner\"\u001b[0m\u001b[0;34m]\u001b[0m\u001b[0;34m)\u001b[0m\u001b[0;34m.\u001b[0m\u001b[0mmean\u001b[0m\u001b[0;34m(\u001b[0m\u001b[0;34m)\u001b[0m\u001b[0;34m\u001b[0m\u001b[0m\n\u001b[0m\u001b[1;32m      2\u001b[0m \u001b[0mgrouped\u001b[0m\u001b[0;34m.\u001b[0m\u001b[0mdrop\u001b[0m\u001b[0;34m(\u001b[0m\u001b[0mcolumns\u001b[0m\u001b[0;34m=\u001b[0m\u001b[0;34m[\u001b[0m\u001b[0;34m\"fold1\"\u001b[0m\u001b[0;34m,\u001b[0m \u001b[0;34m\"fold2\"\u001b[0m\u001b[0;34m]\u001b[0m\u001b[0;34m,\u001b[0m \u001b[0minplace\u001b[0m\u001b[0;34m=\u001b[0m\u001b[0;32mTrue\u001b[0m\u001b[0;34m)\u001b[0m\u001b[0;34m\u001b[0m\u001b[0m\n\u001b[1;32m      3\u001b[0m \u001b[0mgrouped\u001b[0m\u001b[0;34m.\u001b[0m\u001b[0mreset_index\u001b[0m\u001b[0;34m(\u001b[0m\u001b[0minplace\u001b[0m\u001b[0;34m=\u001b[0m\u001b[0;32mTrue\u001b[0m\u001b[0;34m)\u001b[0m\u001b[0;34m\u001b[0m\u001b[0m\n\u001b[1;32m      4\u001b[0m \u001b[0mgrouped\u001b[0m\u001b[0;34m\u001b[0m\u001b[0m\n\u001b[1;32m      5\u001b[0m \u001b[0mfin\u001b[0m \u001b[0;34m=\u001b[0m \u001b[0mgrouped\u001b[0m\u001b[0;34m.\u001b[0m\u001b[0mpivot\u001b[0m\u001b[0;34m(\u001b[0m\u001b[0;34m\"outer\"\u001b[0m\u001b[0;34m,\u001b[0m \u001b[0;34m\"inner\"\u001b[0m\u001b[0;34m,\u001b[0m \u001b[0;34m\"MSE\"\u001b[0m\u001b[0;34m)\u001b[0m\u001b[0;34m\u001b[0m\u001b[0m\n",
      "\u001b[0;31mAttributeError\u001b[0m: 'list' object has no attribute 'groupby'"
     ]
    }
   ],
   "source": []
  },
  {
   "cell_type": "code",
   "execution_count": 24,
   "metadata": {},
   "outputs": [
    {
     "data": {
      "text/plain": [
       "[(1, 0.001, None, 569.5284216644386),\n",
       " (1, 0.01, None, 584.1053047616421),\n",
       " (0, 0.001, None, 624.6809628402181),\n",
       " (0, 0.01, None, 640.466910979057),\n",
       " (1, 0.1, None, 683.212800645272),\n",
       " (0, 0.1, None, 737.6382676182643),\n",
       " (1, 1, None, 779.749562256277),\n",
       " (0, 1, None, 840.4386399922018)]"
      ]
     },
     "execution_count": 24,
     "metadata": {},
     "output_type": "execute_result"
    }
   ],
   "source": [
    "import operator\n",
    "sorted(mseOuterVal, key = operator.itemgetter(3))"
   ]
  },
  {
   "cell_type": "code",
   "execution_count": 27,
   "metadata": {
    "scrolled": true
   },
   "outputs": [
    {
     "data": {
      "text/html": [
       "<div>\n",
       "<style scoped>\n",
       "    .dataframe tbody tr th:only-of-type {\n",
       "        vertical-align: middle;\n",
       "    }\n",
       "\n",
       "    .dataframe tbody tr th {\n",
       "        vertical-align: top;\n",
       "    }\n",
       "\n",
       "    .dataframe thead th {\n",
       "        text-align: right;\n",
       "    }\n",
       "</style>\n",
       "<table border=\"1\" class=\"dataframe\">\n",
       "  <thead>\n",
       "    <tr style=\"text-align: right;\">\n",
       "      <th></th>\n",
       "      <th></th>\n",
       "      <th>0</th>\n",
       "      <th>3</th>\n",
       "    </tr>\n",
       "    <tr>\n",
       "      <th>1</th>\n",
       "      <th>2</th>\n",
       "      <th></th>\n",
       "      <th></th>\n",
       "    </tr>\n",
       "  </thead>\n",
       "  <tbody>\n",
       "    <tr>\n",
       "      <th rowspan=\"2\" valign=\"top\">0.001</th>\n",
       "      <th>0.001</th>\n",
       "      <td>0.500</td>\n",
       "      <td>565.739</td>\n",
       "    </tr>\n",
       "    <tr>\n",
       "      <th>0.010</th>\n",
       "      <td>0.500</td>\n",
       "      <td>576.249</td>\n",
       "    </tr>\n",
       "    <tr>\n",
       "      <th rowspan=\"2\" valign=\"top\">0.010</th>\n",
       "      <th>0.001</th>\n",
       "      <td>0.500</td>\n",
       "      <td>570.092</td>\n",
       "    </tr>\n",
       "    <tr>\n",
       "      <th>0.010</th>\n",
       "      <td>0.500</td>\n",
       "      <td>583.181</td>\n",
       "    </tr>\n",
       "    <tr>\n",
       "      <th rowspan=\"2\" valign=\"top\">0.100</th>\n",
       "      <th>0.001</th>\n",
       "      <td>0.500</td>\n",
       "      <td>620.369</td>\n",
       "    </tr>\n",
       "    <tr>\n",
       "      <th>0.010</th>\n",
       "      <td>0.500</td>\n",
       "      <td>644.540</td>\n",
       "    </tr>\n",
       "    <tr>\n",
       "      <th rowspan=\"2\" valign=\"top\">1.000</th>\n",
       "      <th>0.001</th>\n",
       "      <td>0.500</td>\n",
       "      <td>661.551</td>\n",
       "    </tr>\n",
       "    <tr>\n",
       "      <th>0.010</th>\n",
       "      <td>0.500</td>\n",
       "      <td>691.116</td>\n",
       "    </tr>\n",
       "  </tbody>\n",
       "</table>\n",
       "</div>"
      ],
      "text/plain": [
       "                0       3\n",
       "1     2                  \n",
       "0.001 0.001 0.500 565.739\n",
       "      0.010 0.500 576.249\n",
       "0.010 0.001 0.500 570.092\n",
       "      0.010 0.500 583.181\n",
       "0.100 0.001 0.500 620.369\n",
       "      0.010 0.500 644.540\n",
       "1.000 0.001 0.500 661.551\n",
       "      0.010 0.500 691.116"
      ]
     },
     "execution_count": 27,
     "metadata": {},
     "output_type": "execute_result"
    }
   ],
   "source": [
    "pd.DataFrame(mseOverallVal).groupby([1,2]).mean()"
   ]
  },
  {
   "cell_type": "code",
   "execution_count": 28,
   "metadata": {},
   "outputs": [
    {
     "data": {
      "text/html": [
       "<div>\n",
       "<style scoped>\n",
       "    .dataframe tbody tr th:only-of-type {\n",
       "        vertical-align: middle;\n",
       "    }\n",
       "\n",
       "    .dataframe tbody tr th {\n",
       "        vertical-align: top;\n",
       "    }\n",
       "\n",
       "    .dataframe thead th {\n",
       "        text-align: right;\n",
       "    }\n",
       "</style>\n",
       "<table border=\"1\" class=\"dataframe\">\n",
       "  <thead>\n",
       "    <tr style=\"text-align: right;\">\n",
       "      <th></th>\n",
       "      <th>0</th>\n",
       "      <th>3</th>\n",
       "    </tr>\n",
       "    <tr>\n",
       "      <th>1</th>\n",
       "      <th></th>\n",
       "      <th></th>\n",
       "    </tr>\n",
       "  </thead>\n",
       "  <tbody>\n",
       "    <tr>\n",
       "      <th>0.001</th>\n",
       "      <td>0.500</td>\n",
       "      <td>597.105</td>\n",
       "    </tr>\n",
       "    <tr>\n",
       "      <th>0.010</th>\n",
       "      <td>0.500</td>\n",
       "      <td>612.286</td>\n",
       "    </tr>\n",
       "    <tr>\n",
       "      <th>0.100</th>\n",
       "      <td>0.500</td>\n",
       "      <td>710.426</td>\n",
       "    </tr>\n",
       "    <tr>\n",
       "      <th>1.000</th>\n",
       "      <td>0.500</td>\n",
       "      <td>810.094</td>\n",
       "    </tr>\n",
       "  </tbody>\n",
       "</table>\n",
       "</div>"
      ],
      "text/plain": [
       "          0       3\n",
       "1                  \n",
       "0.001 0.500 597.105\n",
       "0.010 0.500 612.286\n",
       "0.100 0.500 710.426\n",
       "1.000 0.500 810.094"
      ]
     },
     "execution_count": 28,
     "metadata": {},
     "output_type": "execute_result"
    }
   ],
   "source": [
    "pd.DataFrame(mseOuterVal).groupby([1]).mean()"
   ]
  },
  {
   "cell_type": "code",
   "execution_count": 29,
   "metadata": {},
   "outputs": [
    {
     "data": {
      "text/plain": [
       "0.33348268747080134"
      ]
     },
     "execution_count": 29,
     "metadata": {},
     "output_type": "execute_result"
    }
   ],
   "source": [
    "from sklearn.linear_model import Lasso\n",
    "import copy\n",
    "lasso = Lasso(alpha=0.001, random_state=111, max_iter=1000).fit(XTrain, yTrain)\n",
    "pred = lasso.predict(XTrain)\n",
    "lasso.score(XTrain, yTrain)"
   ]
  },
  {
   "cell_type": "code",
   "execution_count": null,
   "metadata": {
    "collapsed": true
   },
   "outputs": [],
   "source": [
    "# from sklearn.linear_model import Lasso\n",
    "# import copy\n",
    "# lasso = Lasso(alpha=0.1, random_state=111, max_iter=1000).fit(XTrain, yTrain)\n",
    "# pred = lasso.predict(XTrain)\n",
    "# lasso.score(XTrain, yTrain)"
   ]
  },
  {
   "cell_type": "code",
   "execution_count": 30,
   "metadata": {},
   "outputs": [
    {
     "data": {
      "text/plain": [
       "0.0974643236016256"
      ]
     },
     "execution_count": 30,
     "metadata": {},
     "output_type": "execute_result"
    }
   ],
   "source": [
    "lasso_res = Lasso(alpha=0.001, random_state=111, max_iter=1000).fit(tfidfTrain, (pred - yTrain))\n",
    "pred_res = lasso_res.predict(tfidfTrain)\n",
    "lasso_res.score(tfidfTrain, (pred - yTrain))"
   ]
  },
  {
   "cell_type": "code",
   "execution_count": 31,
   "metadata": {
    "collapsed": true
   },
   "outputs": [],
   "source": [
    "#pred_res = lasso_res.predict(tfidfTrain)"
   ]
  },
  {
   "cell_type": "code",
   "execution_count": 32,
   "metadata": {
    "collapsed": true
   },
   "outputs": [],
   "source": [
    "#pred_plus = pred + pred_res"
   ]
  },
  {
   "cell_type": "code",
   "execution_count": 52,
   "metadata": {},
   "outputs": [
    {
     "name": "stdout",
     "output_type": "stream",
     "text": [
      "692.055945829208\n"
     ]
    },
    {
     "data": {
      "image/png": "[encoded data removed]",
      "text/plain": [
       "<matplotlib.figure.Figure at 0x138e71e48>"
      ]
     },
     "metadata": {},
     "output_type": "display_data"
    }
   ],
   "source": [
    "pred = lasso.predict(XTrain)\n",
    "\n",
    "pred_res = lasso_res.predict(tfidfTrain)\n",
    "print(np.square(yTrain - pred - pred_res).mean())\n",
    "\n",
    "%matplotlib inline\n",
    "import matplotlib.pyplot as plt\n",
    "import matplotlib\n",
    "plt.scatter(yTrain, yTrain-pred, c= \"r\", label = \"Stage1\")\n",
    "plt.scatter(yTrain, yTrain-pred - pred_res, c = \"b\", label = \"Stage1 & Stage2\")\n",
    "plt.legend()\n",
    "plt.xlabel(\"Price\")\n",
    "plt.xlabel(\"Residuals\")\n",
    "plt.savefig(\"moneygraph.png\")"
   ]
  },
  {
   "cell_type": "code",
   "execution_count": null,
   "metadata": {
    "collapsed": true
   },
   "outputs": [],
   "source": []
  },
  {
   "cell_type": "code",
   "execution_count": null,
   "metadata": {
    "collapsed": true
   },
   "outputs": [],
   "source": [
    "np.square(yTrain-pred).mean()"
   ]
  },
  {
   "cell_type": "code",
   "execution_count": null,
   "metadata": {
    "collapsed": true
   },
   "outputs": [],
   "source": [
    "np.square(yTrain-pred_plus).mean()"
   ]
  },
  {
   "cell_type": "code",
   "execution_count": null,
   "metadata": {
    "collapsed": true
   },
   "outputs": [],
   "source": [
    "lasso.coef_"
   ]
  },
  {
   "cell_type": "code",
   "execution_count": null,
   "metadata": {
    "collapsed": true
   },
   "outputs": [],
   "source": []
  },
  {
   "cell_type": "code",
   "execution_count": 37,
   "metadata": {},
   "outputs": [
    {
     "data": {
      "text/html": [
       "<div>\n",
       "<style scoped>\n",
       "    .dataframe tbody tr th:only-of-type {\n",
       "        vertical-align: middle;\n",
       "    }\n",
       "\n",
       "    .dataframe tbody tr th {\n",
       "        vertical-align: top;\n",
       "    }\n",
       "\n",
       "    .dataframe thead th {\n",
       "        text-align: right;\n",
       "    }\n",
       "</style>\n",
       "<table border=\"1\" class=\"dataframe\">\n",
       "  <thead>\n",
       "    <tr style=\"text-align: right;\">\n",
       "      <th></th>\n",
       "      <th>0</th>\n",
       "    </tr>\n",
       "  </thead>\n",
       "  <tbody>\n",
       "    <tr>\n",
       "      <th>0</th>\n",
       "      <td>-0.000</td>\n",
       "    </tr>\n",
       "    <tr>\n",
       "      <th>1</th>\n",
       "      <td>0.000</td>\n",
       "    </tr>\n",
       "    <tr>\n",
       "      <th>2</th>\n",
       "      <td>-8.118</td>\n",
       "    </tr>\n",
       "    <tr>\n",
       "      <th>3</th>\n",
       "      <td>-10.192</td>\n",
       "    </tr>\n",
       "    <tr>\n",
       "      <th>4</th>\n",
       "      <td>0.000</td>\n",
       "    </tr>\n",
       "    <tr>\n",
       "      <th>5</th>\n",
       "      <td>4.240</td>\n",
       "    </tr>\n",
       "    <tr>\n",
       "      <th>6</th>\n",
       "      <td>0.000</td>\n",
       "    </tr>\n",
       "    <tr>\n",
       "      <th>7</th>\n",
       "      <td>-0.000</td>\n",
       "    </tr>\n",
       "    <tr>\n",
       "      <th>8</th>\n",
       "      <td>-5.199</td>\n",
       "    </tr>\n",
       "    <tr>\n",
       "      <th>9</th>\n",
       "      <td>0.000</td>\n",
       "    </tr>\n",
       "    <tr>\n",
       "      <th>10</th>\n",
       "      <td>-0.000</td>\n",
       "    </tr>\n",
       "    <tr>\n",
       "      <th>11</th>\n",
       "      <td>0.000</td>\n",
       "    </tr>\n",
       "    <tr>\n",
       "      <th>12</th>\n",
       "      <td>0.000</td>\n",
       "    </tr>\n",
       "    <tr>\n",
       "      <th>13</th>\n",
       "      <td>6.269</td>\n",
       "    </tr>\n",
       "    <tr>\n",
       "      <th>14</th>\n",
       "      <td>0.000</td>\n",
       "    </tr>\n",
       "    <tr>\n",
       "      <th>15</th>\n",
       "      <td>-0.000</td>\n",
       "    </tr>\n",
       "    <tr>\n",
       "      <th>16</th>\n",
       "      <td>14.395</td>\n",
       "    </tr>\n",
       "    <tr>\n",
       "      <th>17</th>\n",
       "      <td>0.000</td>\n",
       "    </tr>\n",
       "    <tr>\n",
       "      <th>18</th>\n",
       "      <td>-9.032</td>\n",
       "    </tr>\n",
       "    <tr>\n",
       "      <th>19</th>\n",
       "      <td>0.000</td>\n",
       "    </tr>\n",
       "    <tr>\n",
       "      <th>20</th>\n",
       "      <td>-0.000</td>\n",
       "    </tr>\n",
       "    <tr>\n",
       "      <th>21</th>\n",
       "      <td>0.482</td>\n",
       "    </tr>\n",
       "    <tr>\n",
       "      <th>22</th>\n",
       "      <td>2.410</td>\n",
       "    </tr>\n",
       "    <tr>\n",
       "      <th>23</th>\n",
       "      <td>4.320</td>\n",
       "    </tr>\n",
       "    <tr>\n",
       "      <th>24</th>\n",
       "      <td>0.000</td>\n",
       "    </tr>\n",
       "    <tr>\n",
       "      <th>25</th>\n",
       "      <td>0.000</td>\n",
       "    </tr>\n",
       "    <tr>\n",
       "      <th>26</th>\n",
       "      <td>-0.000</td>\n",
       "    </tr>\n",
       "    <tr>\n",
       "      <th>27</th>\n",
       "      <td>-13.121</td>\n",
       "    </tr>\n",
       "    <tr>\n",
       "      <th>28</th>\n",
       "      <td>0.000</td>\n",
       "    </tr>\n",
       "    <tr>\n",
       "      <th>29</th>\n",
       "      <td>0.000</td>\n",
       "    </tr>\n",
       "    <tr>\n",
       "      <th>...</th>\n",
       "      <td>...</td>\n",
       "    </tr>\n",
       "    <tr>\n",
       "      <th>1763</th>\n",
       "      <td>-6.700</td>\n",
       "    </tr>\n",
       "    <tr>\n",
       "      <th>1764</th>\n",
       "      <td>-1.370</td>\n",
       "    </tr>\n",
       "    <tr>\n",
       "      <th>1765</th>\n",
       "      <td>15.715</td>\n",
       "    </tr>\n",
       "    <tr>\n",
       "      <th>1766</th>\n",
       "      <td>-0.000</td>\n",
       "    </tr>\n",
       "    <tr>\n",
       "      <th>1767</th>\n",
       "      <td>0.000</td>\n",
       "    </tr>\n",
       "    <tr>\n",
       "      <th>1768</th>\n",
       "      <td>1.814</td>\n",
       "    </tr>\n",
       "    <tr>\n",
       "      <th>1769</th>\n",
       "      <td>-1.759</td>\n",
       "    </tr>\n",
       "    <tr>\n",
       "      <th>1770</th>\n",
       "      <td>0.000</td>\n",
       "    </tr>\n",
       "    <tr>\n",
       "      <th>1771</th>\n",
       "      <td>-0.192</td>\n",
       "    </tr>\n",
       "    <tr>\n",
       "      <th>1772</th>\n",
       "      <td>-0.402</td>\n",
       "    </tr>\n",
       "    <tr>\n",
       "      <th>1773</th>\n",
       "      <td>-6.648</td>\n",
       "    </tr>\n",
       "    <tr>\n",
       "      <th>1774</th>\n",
       "      <td>-5.205</td>\n",
       "    </tr>\n",
       "    <tr>\n",
       "      <th>1775</th>\n",
       "      <td>0.000</td>\n",
       "    </tr>\n",
       "    <tr>\n",
       "      <th>1776</th>\n",
       "      <td>-27.931</td>\n",
       "    </tr>\n",
       "    <tr>\n",
       "      <th>1777</th>\n",
       "      <td>0.000</td>\n",
       "    </tr>\n",
       "    <tr>\n",
       "      <th>1778</th>\n",
       "      <td>-6.887</td>\n",
       "    </tr>\n",
       "    <tr>\n",
       "      <th>1779</th>\n",
       "      <td>-4.093</td>\n",
       "    </tr>\n",
       "    <tr>\n",
       "      <th>1780</th>\n",
       "      <td>-20.085</td>\n",
       "    </tr>\n",
       "    <tr>\n",
       "      <th>1781</th>\n",
       "      <td>1.809</td>\n",
       "    </tr>\n",
       "    <tr>\n",
       "      <th>1782</th>\n",
       "      <td>-0.000</td>\n",
       "    </tr>\n",
       "    <tr>\n",
       "      <th>1783</th>\n",
       "      <td>0.000</td>\n",
       "    </tr>\n",
       "    <tr>\n",
       "      <th>1784</th>\n",
       "      <td>-8.390</td>\n",
       "    </tr>\n",
       "    <tr>\n",
       "      <th>1785</th>\n",
       "      <td>-0.578</td>\n",
       "    </tr>\n",
       "    <tr>\n",
       "      <th>1786</th>\n",
       "      <td>-0.272</td>\n",
       "    </tr>\n",
       "    <tr>\n",
       "      <th>1787</th>\n",
       "      <td>0.000</td>\n",
       "    </tr>\n",
       "    <tr>\n",
       "      <th>1788</th>\n",
       "      <td>-0.000</td>\n",
       "    </tr>\n",
       "    <tr>\n",
       "      <th>1789</th>\n",
       "      <td>-0.000</td>\n",
       "    </tr>\n",
       "    <tr>\n",
       "      <th>1790</th>\n",
       "      <td>-5.768</td>\n",
       "    </tr>\n",
       "    <tr>\n",
       "      <th>1791</th>\n",
       "      <td>8.967</td>\n",
       "    </tr>\n",
       "    <tr>\n",
       "      <th>1792</th>\n",
       "      <td>0.000</td>\n",
       "    </tr>\n",
       "  </tbody>\n",
       "</table>\n",
       "<p>1793 rows × 1 columns</p>\n",
       "</div>"
      ],
      "text/plain": [
       "           0\n",
       "0     -0.000\n",
       "1      0.000\n",
       "2     -8.118\n",
       "3    -10.192\n",
       "4      0.000\n",
       "5      4.240\n",
       "6      0.000\n",
       "7     -0.000\n",
       "8     -5.199\n",
       "9      0.000\n",
       "10    -0.000\n",
       "11     0.000\n",
       "12     0.000\n",
       "13     6.269\n",
       "14     0.000\n",
       "15    -0.000\n",
       "16    14.395\n",
       "17     0.000\n",
       "18    -9.032\n",
       "19     0.000\n",
       "20    -0.000\n",
       "21     0.482\n",
       "22     2.410\n",
       "23     4.320\n",
       "24     0.000\n",
       "25     0.000\n",
       "26    -0.000\n",
       "27   -13.121\n",
       "28     0.000\n",
       "29     0.000\n",
       "...      ...\n",
       "1763  -6.700\n",
       "1764  -1.370\n",
       "1765  15.715\n",
       "1766  -0.000\n",
       "1767   0.000\n",
       "1768   1.814\n",
       "1769  -1.759\n",
       "1770   0.000\n",
       "1771  -0.192\n",
       "1772  -0.402\n",
       "1773  -6.648\n",
       "1774  -5.205\n",
       "1775   0.000\n",
       "1776 -27.931\n",
       "1777   0.000\n",
       "1778  -6.887\n",
       "1779  -4.093\n",
       "1780 -20.085\n",
       "1781   1.809\n",
       "1782  -0.000\n",
       "1783   0.000\n",
       "1784  -8.390\n",
       "1785  -0.578\n",
       "1786  -0.272\n",
       "1787   0.000\n",
       "1788  -0.000\n",
       "1789  -0.000\n",
       "1790  -5.768\n",
       "1791   8.967\n",
       "1792   0.000\n",
       "\n",
       "[1793 rows x 1 columns]"
      ]
     },
     "execution_count": 37,
     "metadata": {},
     "output_type": "execute_result"
    }
   ],
   "source": [
    "pd.DataFrame()"
   ]
  },
  {
   "cell_type": "code",
   "execution_count": 39,
   "metadata": {},
   "outputs": [],
   "source": [
    "from scipy.sparse import load_npz\n",
    "import numpy as np\n",
    "import pandas as pd\n",
    "import matplotlib.pyplot as plt\n",
    "from wordcloud import WordCloud\n",
    "\n",
    "vocab = np.genfromtxt(\"Data/vocabulary.txt\",dtype=\"str\")"
   ]
  },
  {
   "cell_type": "code",
   "execution_count": 43,
   "metadata": {},
   "outputs": [
    {
     "data": {
      "image/png": "[encoded data removed]",
      "text/plain": [
       "<matplotlib.figure.Figure at 0x13d7dcf28>"
      ]
     },
     "metadata": {},
     "output_type": "display_data"
    }
   ],
   "source": [
    "def makeWC(vocab, data, save_name, height, width):\n",
    "    dictionary = dict(zip(vocab, data))\n",
    "    wc = WordCloud(background_color=\"white\", width=1100, height= 800)\n",
    "    wc.generate_from_frequencies(frequencies = dictionary)\n",
    "    plt.figure(figsize=(height,width))\n",
    "    plt.axis(\"off\")\n",
    "    plt.imsave(save_name, wc, dpi=600)\n",
    "\n",
    "wc = makeWC(vocab[np.where(lasso_res.coef_ > 0)], lasso_res.coef_[np.where(lasso_res.coef_ > 0)], \"WC_lasso_coef_final_model.png\", 11,8)"
   ]
  },
  {
   "cell_type": "code",
   "execution_count": 42,
   "metadata": {},
   "outputs": [
    {
     "data": {
      "text/plain": [
       "(array([   5,   13,   16,   21,   22,   23,   40,   44,   45,   57,   58,\n",
       "          59,   60,   63,   75,   78,   80,   89,   96,   99,  101,  102,\n",
       "         106,  117,  121,  122,  134,  136,  143,  147,  164,  166,  168,\n",
       "         172,  176,  182,  186,  188,  189,  193,  198,  203,  209,  210,\n",
       "         211,  214,  222,  230,  239,  245,  249,  251,  255,  257,  258,\n",
       "         259,  268,  271,  275,  277,  284,  285,  288,  290,  295,  306,\n",
       "         307,  310,  311,  313,  327,  332,  333,  335,  349,  354,  365,\n",
       "         368,  370,  375,  383,  398,  407,  415,  417,  420,  421,  423,\n",
       "         427,  432,  433,  436,  440,  442,  443,  452,  456,  471,  473,\n",
       "         474,  475,  481,  482,  492,  495,  507,  517,  519,  523,  528,\n",
       "         529,  540,  542,  555,  557,  562,  564,  565,  570,  572,  577,\n",
       "         579,  583,  585,  597,  600,  601,  607,  615,  616,  618,  626,\n",
       "         628,  629,  630,  638,  642,  648,  649,  650,  652,  667,  669,\n",
       "         671,  680,  681,  692,  698,  699,  709,  717,  720,  723,  733,\n",
       "         739,  751,  754,  758,  760,  774,  775,  777,  780,  789,  792,\n",
       "         793,  797,  798,  803,  804,  806,  807,  817,  819,  822,  824,\n",
       "         830,  833,  841,  843,  856,  858,  861,  864,  865,  873,  880,\n",
       "         884,  888,  893,  899,  915,  922,  923,  924,  926,  934,  935,\n",
       "         937,  939,  941,  943,  946,  951,  952,  953,  956,  958,  964,\n",
       "         967,  969,  978,  999, 1002, 1004, 1006, 1007, 1009, 1012, 1018,\n",
       "        1021, 1027, 1029, 1036, 1037, 1051, 1057, 1061, 1062, 1063, 1068,\n",
       "        1073, 1081, 1082, 1085, 1090, 1103, 1105, 1108, 1111, 1112, 1113,\n",
       "        1123, 1129, 1130, 1131, 1137, 1143, 1144, 1148, 1155, 1163, 1168,\n",
       "        1186, 1190, 1199, 1201, 1204, 1211, 1215, 1218, 1219, 1221, 1226,\n",
       "        1236, 1244, 1251, 1258, 1269, 1271, 1278, 1283, 1287, 1295, 1311,\n",
       "        1313, 1317, 1325, 1326, 1327, 1328, 1334, 1340, 1345, 1348, 1357,\n",
       "        1358, 1367, 1372, 1373, 1374, 1379, 1382, 1383, 1384, 1388, 1391,\n",
       "        1394, 1397, 1399, 1402, 1403, 1412, 1415, 1418, 1419, 1420, 1422,\n",
       "        1426, 1428, 1429, 1430, 1436, 1439, 1440, 1442, 1446, 1450, 1451,\n",
       "        1453, 1454, 1462, 1464, 1468, 1470, 1472, 1476, 1479, 1482, 1486,\n",
       "        1489, 1490, 1492, 1502, 1505, 1510, 1512, 1514, 1518, 1519, 1526,\n",
       "        1528, 1529, 1531, 1532, 1534, 1539, 1540, 1544, 1547, 1549, 1551,\n",
       "        1552, 1555, 1558, 1562, 1563, 1566, 1570, 1573, 1575, 1576, 1582,\n",
       "        1592, 1603, 1613, 1615, 1621, 1623, 1626, 1631, 1632, 1634, 1639,\n",
       "        1643, 1648, 1655, 1656, 1659, 1666, 1667, 1670, 1671, 1672, 1681,\n",
       "        1690, 1693, 1705, 1711, 1715, 1721, 1723, 1727, 1729, 1730, 1732,\n",
       "        1733, 1736, 1739, 1745, 1751, 1757, 1758, 1759, 1761, 1765, 1768,\n",
       "        1781, 1791]),)"
      ]
     },
     "execution_count": 42,
     "metadata": {},
     "output_type": "execute_result"
    }
   ],
   "source": [
    "np.where(lasso_res.coef_ > 0)"
   ]
  },
  {
   "cell_type": "markdown",
   "metadata": {},
   "source": [
    "## Lasso: Category (non-text) data"
   ]
  },
  {
   "cell_type": "code",
   "execution_count": null,
   "metadata": {
    "collapsed": true
   },
   "outputs": [],
   "source": [
    "vocab = pd.read_csv('Data/vocabulary.txt', sep=\" \", header=None)"
   ]
  },
  {
   "cell_type": "code",
   "execution_count": null,
   "metadata": {
    "collapsed": true
   },
   "outputs": [],
   "source": [
    "%%time\n",
    "from sklearn.linear_model import LassoCV, Lasso\n",
    "\n",
    "#alpha_values = np.logspace(-4, 2, 6)\n",
    "alpha_values = [0.001,0.01,0.1]\n",
    "\n",
    "mseRow = []\n",
    "mseAll = []\n",
    "mseOuterTrain = []\n",
    "mseOuterValidate = []\n",
    "mseInner = []\n",
    "\n",
    "#manually grid search over alpha\n",
    "for alphaOut in alpha_values:\n",
    "    \n",
    "    #non-Text data\n",
    "    lasso = Lasso(alpha=alphaOut, random_state=111, max_iter=1000).fit(XTrain, yTrain)\n",
    "    yPredOut = lasso.predict(XValid)\n",
    "    residuals = yValid - yPredOut\n",
    "    \n",
    "    mseRow = []\n",
    "    \n",
    "    #can't figure out how to implement a validation or test accuracy as the training of the inner model is dependent \n",
    "    # on the outermodel's predictions.  If we predict on XValid, then we need to train the inner model on XValid.\n",
    "    # not sure if this makes sense\n",
    "    \n",
    "    #GridSearch manually\n",
    "    for alphaIn in alpha_values:\n",
    "        lassoTF = Lasso(alpha=alphaIn, random_state=777, max_iter=1000).fit(tfidfValid, residuals)\n",
    "        yPredIn = lassoTF.predict(tfidfValid)\n",
    "        \n",
    "        #add predictions from non-Text and Text regressions\n",
    "        yPredFull = yPredOut + yPredIn\n",
    "        \n",
    "        #calc mse between full predictions & actuals\n",
    "        mseRow.append(mean_squared_error(yValid, yPredFull))\n",
    "    \n",
    "    #store for of mse's\n",
    "    mseAll.append(mseRow)\n",
    "    \n",
    "mseAll = np.array(mseAll)"
   ]
  },
  {
   "cell_type": "code",
   "execution_count": null,
   "metadata": {
    "collapsed": true
   },
   "outputs": [],
   "source": [
    "#get bestAlphaOut & In based on the smallest mse from gridsearch\n",
    "bestAlpha_idx = np.unravel_index(np.argmin(mseAll), mseAll.shape)\n",
    "#bestAlpha_idx[0]\n",
    "bestAlphaOut = alpha_values[bestAlpha_idx[0]]\n",
    "bestAlphaIn = alpha_values[bestAlpha_idx[1]]\n",
    "print()\n",
    "print(\"Best Alpha for Outer Lasso (non-text): {}\".format(bestAlphaOut))\n",
    "print(\"Best Alpha for Linner Lasso (text): {}\".format(bestAlphaIn))"
   ]
  },
  {
   "cell_type": "markdown",
   "metadata": {},
   "source": [
    "## Run final model with bestAlphas"
   ]
  },
  {
   "cell_type": "code",
   "execution_count": null,
   "metadata": {
    "collapsed": true
   },
   "outputs": [],
   "source": [
    "lasso = Lasso(alpha=bestAlphaOut, random_state=111).fit(XTrain, yTrain)\n",
    "yPredOut = lasso.predict(XValid)\n",
    "residualsBest = yValid - yPredOut\n",
    "\n",
    "lassoTF = Lasso(alpha=bestAlphaIn, random_state=111).fit(tfidfTrain, residualsBest)\n",
    "yPredIn = lasso.predict(tfidfValid)\n",
    "\n",
    "yPredFull = yPredOut + yPredIn\n",
    "\n",
    "mse_Final = mean_squared_error(yValid, yPredFull)\n",
    "print(\"The MSE for the final tuned models is: {}\".format(mse_Final))"
   ]
  },
  {
   "cell_type": "code",
   "execution_count": null,
   "metadata": {
    "collapsed": true
   },
   "outputs": [],
   "source": []
  },
  {
   "cell_type": "markdown",
   "metadata": {},
   "source": [
    "## Pickle trained models"
   ]
  },
  {
   "cell_type": "code",
   "execution_count": null,
   "metadata": {
    "collapsed": true
   },
   "outputs": [],
   "source": [
    "from sklearn.externals import joblib\n",
    "joblib.dump(lasso, 'lasso_cat.pkl')\n",
    "joblib.dump(lassTF, 'lasso_tfidf.pkl')\n",
    "#clf = joblib.load('lasso_cat.pkl') "
   ]
  },
  {
   "cell_type": "markdown",
   "metadata": {},
   "source": [
    "# Combine non-Text & text data and run Lasso to see if prediction is diff"
   ]
  },
  {
   "cell_type": "code",
   "execution_count": null,
   "metadata": {
    "collapsed": true
   },
   "outputs": [],
   "source": [
    "#combine non-Text and Text to test it out\n",
    "# tfDTrain = tfidfTrain.todense()\n",
    "# comboTrain = pd.concat([XTrain.reset_index(drop = True), pd.DataFrame(tfDTrain)], axis=1)\n",
    "# comboTrain.shape"
   ]
  },
  {
   "cell_type": "code",
   "execution_count": null,
   "metadata": {
    "collapsed": true
   },
   "outputs": [],
   "source": [
    "#save lasso on category data as DataFrame, write to csv\n",
    "# lasso_cat_coef = pd.DataFrame(lasso.coef_, index=XTrain.columns)\n",
    "# lasso_cat_coef.to_csv(\"lasso_cat_coef.csv\")\n",
    "\n",
    "# residualsDF = pd.DataFrame(residuals)\n",
    "# residualsDF.to_csv(\"residuals.csv\")"
   ]
  },
  {
   "cell_type": "markdown",
   "metadata": {},
   "source": [
    "## Lasso: Text data on residuals"
   ]
  },
  {
   "cell_type": "code",
   "execution_count": null,
   "metadata": {
    "collapsed": true
   },
   "outputs": [],
   "source": [
    "#save lasso on TFIDF data as DataFrame, write to csv\n",
    "# lasso_tfidf_coef = pd.DataFrame(lassoTF.coef_, index=vocab.iloc[:,0].values)\n",
    "# lasso_tfidf_coef.to_csv(\"lasso_tfidf_coef.csv\")"
   ]
  },
  {
   "cell_type": "markdown",
   "metadata": {},
   "source": [
    "## Lasso: Text data on residuals (per category1)"
   ]
  },
  {
   "cell_type": "code",
   "execution_count": null,
   "metadata": {
    "collapsed": true
   },
   "outputs": [],
   "source": [
    "#get the category1 column headers\n",
    "cat1_cols = XTrain.iloc[:,4815:4825].columns\n",
    "\n",
    "#reset index so can filter using list of indices\n",
    "residuals.reset_index(drop=True, inplace=True)"
   ]
  },
  {
   "cell_type": "code",
   "execution_count": null,
   "metadata": {
    "collapsed": true
   },
   "outputs": [],
   "source": [
    "%%time\n",
    "cat1_coefs = []\n",
    "tfidfTrain_df = pd.DataFrame(tfidfTrain.todense())  #I think can remove this and uncomment tocsr() line below\n",
    "\n",
    "for cat1 in cat1_cols:\n",
    "    #get indices where this category=1\n",
    "    idx = np.where(XTrain[cat1] == 1)[0]\n",
    "   \n",
    "    #filter data with the indices\n",
    "    X_tf = tfidfTrain_df.iloc[idx,:]   #Don't think need to use this, uncomment next time to deal with sparse\n",
    "    #X_tf = tfidfTrain.tocsr()[idx,:]  #way to filter sparse matrx with row indices\n",
    "    y_tf = residuals[idx]\n",
    "    \n",
    "    #run Lasso, fit, store coef array\n",
    "    lassoCat = Lasso(alpha=bestAlphaIn, random_state=10)\n",
    "    lassoCat.fit(X_tf, y_tf)\n",
    "\n",
    "    #add this cat1 coefs to a list\n",
    "    cat1_coefs.append(lassoCat.coef_)"
   ]
  },
  {
   "cell_type": "code",
   "execution_count": null,
   "metadata": {
    "collapsed": true
   },
   "outputs": [],
   "source": [
    "#covert to DF with cols=vocab and index=category1 names\n",
    "lasso_allCat1_coef = pd.DataFrame(cat1_coefs, columns=vocab.iloc[:,0].values, index=cat1_cols)\n",
    "lasso_allCat1_coef.to_csv(\"lass_allCat1_coef.csv\")"
   ]
  },
  {
   "cell_type": "markdown",
   "metadata": {},
   "source": [
    "<hr><hr><br>\n",
    "\n",
    "## Recurrent Neural Network"
   ]
  },
  {
   "cell_type": "code",
   "execution_count": null,
   "metadata": {
    "collapsed": true
   },
   "outputs": [],
   "source": [
    "# from keras.models import Sequential\n",
    "# from keras.layers.core import Dense, Dropout, Activation, Reshape\n",
    "# from keras.layers.recurrent import LSTM, RNN, GRU, SimpleRNN\n",
    "# from keras.models import load_model\n",
    "# import keras\n",
    "# import h5py\n",
    "\n"
   ]
  },
  {
   "cell_type": "code",
   "execution_count": null,
   "metadata": {
    "collapsed": true
   },
   "outputs": [],
   "source": [
    "# #default layers = 6, neurons list always should equal 6\n",
    "# def build_NN(inShape, nnType='RNN'):\n",
    "    \n",
    "#     model = Sequential()\n",
    "#     model.add(Embedding(inShape[1], 64, input_length=maxLen))  #input layer\n",
    "#     if nnType == 'RNN':\n",
    "#         model.add(SimpleRNN(32, return_sequences=True))\n",
    "#         model.add(SimpleRNN(32))\n",
    "#         model.add(Dense(16, activation='relu'))\n",
    "#         model.add(Dense(8, activation='relu'))\n",
    "#     elif nnType == 'GRU':\n",
    "#         #model.add(Dense(64, input_shape=(inShape[1])))  #input layer\n",
    "#         model.add(GRU(32, return_sequences=True))\n",
    "#         model.add(GRU(32))\n",
    "#         model.add(Dense(16, activation='relu'))\n",
    "#         model.add(Dense(8, activation='relu'))\n",
    "#     elif nnType == 'LSTM':\n",
    "#         #model.add(Dense(64, input_shape=(inShape[1])))  #input layer\n",
    "#         model.add(LSTM(32, return_sequences=True)) \n",
    "#         model.add(LSTM(32))\n",
    "#         model.add(Dense(16, activation='relu'))      \n",
    "#         model.add(Dense(8, activation='relu'))\n",
    "#     elif nnType == 'BASE':\n",
    "#         #model.add(Dense(64, input_shape=(inShape[1],)))  #input layer\n",
    "#         model.add(Dense(32, activation='relu'))\n",
    "#         model.add(Dense(32, activation='relu'))\n",
    "#         model.add(Dense(16, activation='relu'))\n",
    "#         model.add(Reshape((-1,)))\n",
    "#         model.add(Dense(8, activation='relu'))\n",
    "#     else:\n",
    "#         print('should not be here')\n",
    "    \n",
    "#     model.add(Dense(1, activation='linear', kernel_initializer=\"uniform\")) #output layer\n",
    "#     model.compile(loss='mse', optimizer='adam', metrics=['accuracy'])\n",
    "#     #model.summary() \n",
    "\n",
    "#     return model"
   ]
  },
  {
   "cell_type": "code",
   "execution_count": null,
   "metadata": {
    "collapsed": true
   },
   "outputs": [],
   "source": []
  },
  {
   "cell_type": "code",
   "execution_count": null,
   "metadata": {
    "collapsed": true
   },
   "outputs": [],
   "source": [
    "# #params for NN\n",
    "# epochs = 10\n",
    "# batchSize = 3000\n",
    "\n",
    "# #Need to prep the data for the NN\n",
    "\n",
    "# X = tokenizer.texts_to_sequences(train5k)\n",
    "# data = pad_sequences(sequences, maxlen=max_len)\n",
    "\n",
    "\n",
    "# modelRNN = build_NN(tfidf_train.shape, nnType='RNN')\n",
    "# modelRNN.summary()"
   ]
  },
  {
   "cell_type": "code",
   "execution_count": null,
   "metadata": {
    "collapsed": true
   },
   "outputs": [],
   "source": []
  },
  {
   "cell_type": "code",
   "execution_count": null,
   "metadata": {
    "collapsed": true
   },
   "outputs": [],
   "source": []
  }
 ],
 "metadata": {
  "kernelspec": {
   "display_name": "Python 3",
   "language": "python",
   "name": "python3"
  },
  "language_info": {
   "codemirror_mode": {
    "name": "ipython",
    "version": 3
   },
   "file_extension": ".py",
   "mimetype": "text/x-python",
   "name": "python",
   "nbconvert_exporter": "python",
   "pygments_lexer": "ipython3",
   "version": "3.6.3"
  }
 },
 "nbformat": 4,
 "nbformat_minor": 2
}
