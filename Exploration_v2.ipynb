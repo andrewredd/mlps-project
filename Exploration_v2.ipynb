{
 "cells": [
  {
   "cell_type": "code",
   "execution_count": 1,
   "metadata": {
    "collapsed": true
   },
   "outputs": [],
   "source": [
    "import pandas as pd\n",
    "import scipy.sparse\n",
    "import scipy\n",
    "import scipy.io\n",
    "import numpy as np\n",
    "from sklearn.decomposition import PCA\n",
    "from sklearn.utils import resample\n",
    "import matplotlib.pyplot as plt\n",
    "from sklearn.feature_extraction.text import TfidfTransformer\n",
    "from sklearn.manifold import TSNE"
   ]
  },
  {
   "cell_type": "code",
   "execution_count": 2,
   "metadata": {
    "collapsed": true
   },
   "outputs": [],
   "source": [
    "# def getpath(relative_path):\n",
    "#     from os import path\n",
    "#     my_path = path.abspath(path.dirname(__file__))\n",
    "#     return path.join(my_path, relative_path)\n",
    "\n",
    "\n",
    "# train_clean_path = getpath('../Data/train_clean.tsv')\n",
    "# sparse_matrix_path = getpath('../Data/train_term_matrix.dtx')\n",
    "\n",
    "train_clean = pd.read_csv('Data/train_clean.tsv', sep='\\t', header=0)\n",
    "\n",
    "# read in mtx file\n",
    "sparse_matrix = scipy.io.mmread('Data/train_term_matrix.mtx')\n",
    "\n",
    "# TDIF\n",
    "tf_idf = TfidfTransformer()\n",
    "\n",
    "sparse_matrix_tf_idf = tf_idf.fit_transform(sparse_matrix)"
   ]
  },
  {
   "cell_type": "code",
   "execution_count": null,
   "metadata": {},
   "outputs": [],
   "source": []
  },
  {
   "cell_type": "code",
   "execution_count": 3,
   "metadata": {},
   "outputs": [
    {
     "name": "stdout",
     "output_type": "stream",
     "text": [
      "training data shape (1482535, 11)\n",
      "sparse shape (1482535, 187189)\n"
     ]
    }
   ],
   "source": [
    "print('training data shape', train_clean.shape)\n",
    "print('sparse shape', sparse_matrix.shape)"
   ]
  },
  {
   "cell_type": "code",
   "execution_count": 4,
   "metadata": {},
   "outputs": [
    {
     "data": {
      "text/html": [
       "<div>\n",
       "<style>\n",
       "    .dataframe thead tr:only-child th {\n",
       "        text-align: right;\n",
       "    }\n",
       "\n",
       "    .dataframe thead th {\n",
       "        text-align: left;\n",
       "    }\n",
       "\n",
       "    .dataframe tbody tr th {\n",
       "        vertical-align: top;\n",
       "    }\n",
       "</style>\n",
       "<table border=\"1\" class=\"dataframe\">\n",
       "  <thead>\n",
       "    <tr style=\"text-align: right;\">\n",
       "      <th></th>\n",
       "      <th>train_id</th>\n",
       "      <th>name</th>\n",
       "      <th>item_condition_id</th>\n",
       "      <th>category_name</th>\n",
       "      <th>brand_name</th>\n",
       "      <th>price</th>\n",
       "      <th>shipping</th>\n",
       "      <th>item_description</th>\n",
       "    </tr>\n",
       "  </thead>\n",
       "  <tbody>\n",
       "    <tr>\n",
       "      <th>0</th>\n",
       "      <td>0</td>\n",
       "      <td>MLB Cincinnati Reds T Shirt Size XL</td>\n",
       "      <td>3</td>\n",
       "      <td>Men/Tops/T-shirts</td>\n",
       "      <td>NaN</td>\n",
       "      <td>10.0</td>\n",
       "      <td>1</td>\n",
       "      <td>NaN</td>\n",
       "    </tr>\n",
       "    <tr>\n",
       "      <th>1</th>\n",
       "      <td>1</td>\n",
       "      <td>Razer BlackWidow Chroma Keyboard</td>\n",
       "      <td>3</td>\n",
       "      <td>Electronics/Computers &amp; Tablets/Components &amp; P...</td>\n",
       "      <td>Razer</td>\n",
       "      <td>52.0</td>\n",
       "      <td>0</td>\n",
       "      <td>This keyboard is in great condition and works ...</td>\n",
       "    </tr>\n",
       "    <tr>\n",
       "      <th>2</th>\n",
       "      <td>2</td>\n",
       "      <td>AVA-VIV Blouse</td>\n",
       "      <td>1</td>\n",
       "      <td>Women/Tops &amp; Blouses/Blouse</td>\n",
       "      <td>Target</td>\n",
       "      <td>10.0</td>\n",
       "      <td>1</td>\n",
       "      <td>Adorable top with a hint of lace and a key hol...</td>\n",
       "    </tr>\n",
       "    <tr>\n",
       "      <th>3</th>\n",
       "      <td>3</td>\n",
       "      <td>Leather Horse Statues</td>\n",
       "      <td>1</td>\n",
       "      <td>Home/Home Décor/Home Décor Accents</td>\n",
       "      <td>NaN</td>\n",
       "      <td>35.0</td>\n",
       "      <td>1</td>\n",
       "      <td>New with tags. Leather horses. Retail for [rm]...</td>\n",
       "    </tr>\n",
       "    <tr>\n",
       "      <th>4</th>\n",
       "      <td>4</td>\n",
       "      <td>24K GOLD plated rose</td>\n",
       "      <td>1</td>\n",
       "      <td>Women/Jewelry/Necklaces</td>\n",
       "      <td>NaN</td>\n",
       "      <td>44.0</td>\n",
       "      <td>0</td>\n",
       "      <td>Complete with certificate of authenticity</td>\n",
       "    </tr>\n",
       "  </tbody>\n",
       "</table>\n",
       "</div>"
      ],
      "text/plain": [
       "   train_id                                 name  item_condition_id  \\\n",
       "0         0  MLB Cincinnati Reds T Shirt Size XL                  3   \n",
       "1         1     Razer BlackWidow Chroma Keyboard                  3   \n",
       "2         2                       AVA-VIV Blouse                  1   \n",
       "3         3                Leather Horse Statues                  1   \n",
       "4         4                 24K GOLD plated rose                  1   \n",
       "\n",
       "                                       category_name brand_name  price  \\\n",
       "0                                  Men/Tops/T-shirts        NaN   10.0   \n",
       "1  Electronics/Computers & Tablets/Components & P...      Razer   52.0   \n",
       "2                        Women/Tops & Blouses/Blouse     Target   10.0   \n",
       "3                 Home/Home Décor/Home Décor Accents        NaN   35.0   \n",
       "4                            Women/Jewelry/Necklaces        NaN   44.0   \n",
       "\n",
       "   shipping                                   item_description  \n",
       "0         1                                                NaN  \n",
       "1         0  This keyboard is in great condition and works ...  \n",
       "2         1  Adorable top with a hint of lace and a key hol...  \n",
       "3         1  New with tags. Leather horses. Retail for [rm]...  \n",
       "4         0          Complete with certificate of authenticity  "
      ]
     },
     "execution_count": 4,
     "metadata": {},
     "output_type": "execute_result"
    }
   ],
   "source": [
    "train_clean.iloc[:,0:8].head(5)"
   ]
  },
  {
   "cell_type": "code",
   "execution_count": 5,
   "metadata": {},
   "outputs": [
    {
     "data": {
      "text/plain": [
       "count    1.482535e+06\n",
       "mean     2.673752e+01\n",
       "std      3.858607e+01\n",
       "min      0.000000e+00\n",
       "25%      1.000000e+01\n",
       "50%      1.700000e+01\n",
       "75%      2.900000e+01\n",
       "max      2.009000e+03\n",
       "Name: price, dtype: float64"
      ]
     },
     "execution_count": 5,
     "metadata": {},
     "output_type": "execute_result"
    }
   ],
   "source": [
    "train_clean['price'].describe()"
   ]
  },
  {
   "cell_type": "code",
   "execution_count": 6,
   "metadata": {},
   "outputs": [
    {
     "data": {
      "image/png": "[encoded data removed]",
      "text/plain": [
       "<matplotlib.figure.Figure at 0x1363b7ef0>"
      ]
     },
     "metadata": {},
     "output_type": "display_data"
    }
   ],
   "source": [
    "plt.hist(train_clean[\"price\"], 45)\n",
    "plt.title(\"Price Distribution\")\n",
    "ax = plt.gca()\n",
    "ax.set_xlim(left = -10)\n",
    "plt.ylabel(\"frequency\")\n",
    "plt.xlabel(\"price\")\n",
    "plt.show()"
   ]
  },
  {
   "cell_type": "code",
   "execution_count": 7,
   "metadata": {},
   "outputs": [
    {
     "data": {
      "image/png": "[encoded data removed]",
      "text/plain": [
       "<matplotlib.figure.Figure at 0x116fe4978>"
      ]
     },
     "metadata": {},
     "output_type": "display_data"
    }
   ],
   "source": [
    "plt.hist(train_clean[\"price\"], 45)\n",
    "plt.title(\"Price Distribution, limited x axis = 250\")\n",
    "ax = plt.gca()\n",
    "ax.set_xlim(-10,250)\n",
    "plt.ylabel(\"frequency\")\n",
    "plt.xlabel(\"price\")\n",
    "plt.show()"
   ]
  },
  {
   "cell_type": "code",
   "execution_count": 8,
   "metadata": {},
   "outputs": [
    {
     "data": {
      "image/png": "[encoded data removed]",
      "text/plain": [
       "<matplotlib.figure.Figure at 0x10673bbe0>"
      ]
     },
     "metadata": {},
     "output_type": "display_data"
    }
   ],
   "source": [
    "# remove zero's\n",
    "prices = train_clean[\"price\"].values\n",
    "np.amin(prices[prices > 0])\n",
    "\n",
    "# plot log histogram\n",
    "plt.hist(np.log(prices[prices > 0]), 45)\n",
    "plt.title(\"log(Price) Distribution, limited x axis = 250\")\n",
    "plt.ylabel(\"frequency\")\n",
    "plt.xlabel(\"log(price)\")\n",
    "plt.show()"
   ]
  },
  {
   "cell_type": "code",
   "execution_count": 9,
   "metadata": {},
   "outputs": [
    {
     "name": "stdout",
     "output_type": "stream",
     "text": [
      "                        Mean Price  St Dev Price  Listings Count\n",
      "category_name_1                                                 \n",
      "Beauty                       19.67         21.36          207828\n",
      "Electronics                  35.17         65.42          122690\n",
      "Handmade                     18.16         27.76           30842\n",
      "Home                         24.54         24.42           67871\n",
      "Kids                         20.64         22.73          171689\n",
      "Men                          34.71         41.24           93680\n",
      "Other                        20.81         29.85           45351\n",
      "Sports & Outdoors            25.53         29.30           25342\n",
      "Vintage & Collectibles       27.34         53.51           46530\n",
      "Women                        28.89         39.44          664385\n"
     ]
    }
   ],
   "source": [
    "mean_values = train_clean.groupby('category_name_1')['price'].mean()\n",
    "std_values = train_clean.groupby('category_name_1')['price'].std()\n",
    "count_values = train_clean.groupby('category_name_1')['price'].count()\n",
    "\n",
    "\n",
    "summary_category = pd.concat([mean_values, std_values, count_values], axis=1)\n",
    "summary_category.columns = ['Mean Price', 'St Dev Price', \"Listings Count\"]\n",
    "\n",
    "print(round(summary_category , 2))"
   ]
  },
  {
   "cell_type": "code",
   "execution_count": 10,
   "metadata": {},
   "outputs": [
    {
     "name": "stdout",
     "output_type": "stream",
     "text": [
      "note: removed outliers\n"
     ]
    },
    {
     "data": {
      "image/png": "[encoded data removed]",
      "text/plain": [
       "<matplotlib.figure.Figure at 0x117f9b400>"
      ]
     },
     "metadata": {},
     "output_type": "display_data"
    }
   ],
   "source": [
    "import seaborn as sns\n",
    "print(\"note: removed outliers\")\n",
    "plt.title(\"Price by Category boxplot\")\n",
    "plt.xticks(rotation=90)\n",
    "sns.boxplot(x='category_name_1', y='price', data=train_clean, showfliers=False)\n",
    "plt.show()"
   ]
  },
  {
   "cell_type": "code",
   "execution_count": null,
   "metadata": {},
   "outputs": [],
   "source": [
    "# #word_coef_abs = dict(zip(Vocabulary, np.absolute(lreg.coef_[0])))\n",
    "\n",
    "# wc = WordCloud(background_color=\"white\")\n",
    "# wc.generate_from_frequencies(frequencies = word_coef_abs)"
   ]
  },
  {
   "cell_type": "code",
   "execution_count": null,
   "metadata": {},
   "outputs": [],
   "source": [
    "%%time\n",
    "\n",
    "samples = 10000\n",
    "state = 95\n",
    "\n",
    "# Sample Data to reduce the size\n",
    "sparse_matrix_sample = resample(sparse_matrix_tf_idf, \n",
    "                                n_samples=samples, random_state=state)\n",
    "\n",
    "# Fit PCA with top 2 components on a subset of the data\n",
    "pca = PCA(n_components=1000)\n",
    "\n",
    "descriptions_pca_fit = pca.fit(sparse_matrix_sample.todense())"
   ]
  },
  {
   "cell_type": "code",
   "execution_count": null,
   "metadata": {},
   "outputs": [],
   "source": [
    "%%time\n",
    "descriptions_pca_transform = pca.transform(sparse_matrix_sample.todense())"
   ]
  },
  {
   "cell_type": "code",
   "execution_count": null,
   "metadata": {},
   "outputs": [],
   "source": [
    "plt.plot(pca.explained_variance_ratio_)\n",
    "plt.xlabel('Number of Components')\n",
    "plt.ylabel('Variance Explained')\n",
    "plt.title(\"Full Scree Plot\")\n",
    "plt.show()\n",
    "\n"
   ]
  },
  {
   "cell_type": "code",
   "execution_count": null,
   "metadata": {},
   "outputs": [],
   "source": [
    "plt.plot(pca.explained_variance_ratio_)\n",
    "plt.xlabel('Number of Components')\n",
    "plt.ylabel('Variance Explained')\n",
    "plt.title(\"Scree Plot (limited to 2 to 100 components)\")\n",
    "plt.xlim(2, 100)\n",
    "plt.ylim(0, .01)\n",
    "plt.show()"
   ]
  },
  {
   "cell_type": "code",
   "execution_count": null,
   "metadata": {},
   "outputs": [],
   "source": [
    "%%time\n",
    "# read in mtx file\n",
    "sparse_matrix_prunned = scipy.io.mmread('Data/train_term_matrix_pruned.mtx')\n",
    "\n",
    "# TDIF\n",
    "tf_idf = TfidfTransformer()\n",
    "\n",
    "sparse_matrix_tf_idf_prunned = tf_idf.fit_transform(sparse_matrix_prunned)\n",
    "\n",
    "# Sample Data to reduce the size\n",
    "# sparse_matrix_sample = resample(sparse_matrix_tf_idf_prunned, \n",
    "#                                 n_samples=samples, random_state=state)\n",
    "\n",
    "# Fit PCA with top 2 components on a subset of the data\n",
    "pca_prunned = PCA()\n",
    "\n",
    "descriptions_pca_fit_prunned = pca_prunned.fit(sparse_matrix_tf_idf_prunned.todense())"
   ]
  },
  {
   "cell_type": "code",
   "execution_count": null,
   "metadata": {},
   "outputs": [],
   "source": [
    "%%time\n",
    "descriptions_pca_transform_prunned = pca_prunned.transform(sparse_matrix_tf_idf_prunned.todense())\n"
   ]
  },
  {
   "cell_type": "code",
   "execution_count": null,
   "metadata": {
    "collapsed": true
   },
   "outputs": [],
   "source": [
    "plt.plot(pca_prunned.explained_variance_ratio_)\n",
    "plt.xlabel('Number of Components')\n",
    "plt.ylabel('Variance Explained')\n",
    "plt.title(\"Full Scree Plot\")\n",
    "plt.show()\n"
   ]
  }
 ],
 "metadata": {
  "kernelspec": {
   "display_name": "Python 3",
   "language": "python",
   "name": "python3"
  },
  "language_info": {
   "codemirror_mode": {
    "name": "ipython",
    "version": 3
   },
   "file_extension": ".py",
   "mimetype": "text/x-python",
   "name": "python",
   "nbconvert_exporter": "python",
   "pygments_lexer": "ipython3",
   "version": "3.6.3"
  }
 },
 "nbformat": 4,
 "nbformat_minor": 2
}
