{
 "cells": [
  {
   "cell_type": "code",
   "execution_count": 36,
   "metadata": {},
   "outputs": [],
   "source": [
    "%matplotlib inline\n",
    "from scipy.sparse import load_npz\n",
    "import numpy as np\n",
    "import pandas as pd\n",
    "import matplotlib.pyplot as plt\n",
    "from wordcloud import WordCloud\n",
    "\n",
    "\n",
    "tfm = load_npz(\"tfm.npz\")\n",
    "tfidf_transformed = load_npz(\"tfidf_transformed.npz\")\n",
    "vocab = np.genfromtxt(\"vocabulary.txt\",dtype=\"str\")\n",
    "lasso_tfidf_coef = pd.read_csv(\"/Users/jonathan/AnacondaProjects/MLPS/Project/mlps-project/Lasso Coefs/lasso_tfidf_coef.csv\",dtype=\"str\")\n",
    "lass_allCat1_coef_transposed = pd.read_csv(\"/Users/jonathan/AnacondaProjects/MLPS/Project/mlps-project/Lasso Coefs/lass_allCat1_coef_transposed.csv\",dtype=\"str\")\n"
   ]
  },
  {
   "cell_type": "code",
   "execution_count": 2,
   "metadata": {},
   "outputs": [],
   "source": [
    "#1482535x1798\n",
    "tfm_sum = np.asarray(np.sum(tfm, axis = 0))[0,:]\n",
    "tfidf_transformed_sum = np.asarray(np.sum(tfidf_transformed, axis = 0))[0,:]"
   ]
  },
  {
   "cell_type": "code",
   "execution_count": 3,
   "metadata": {},
   "outputs": [],
   "source": [
    "vocab_tf = dict(zip(vocab, tfm_sum))\n",
    "vocab_tf_idf = dict(zip(vocab, tfidf_transformed_sum))"
   ]
  },
  {
   "cell_type": "code",
   "execution_count": 6,
   "metadata": {},
   "outputs": [],
   "source": [
    "import operator\n",
    "vocab_tf_sorted = sorted(vocab_tf.items(), key=operator.itemgetter(1), reverse=True)[:20]\n",
    "vocab_tf_idf_sorted = sorted(vocab_tf_idf.items(), key=operator.itemgetter(1), reverse=True)[:20]"
   ]
  },
  {
   "cell_type": "code",
   "execution_count": 5,
   "metadata": {},
   "outputs": [
    {
     "data": {
      "text/plain": [
       "['new',\n",
       " 'size',\n",
       " 'ship',\n",
       " 'brand',\n",
       " 'condit',\n",
       " 'free',\n",
       " 'use',\n",
       " 'rm',\n",
       " 'thi',\n",
       " 'worn',\n",
       " 'price',\n",
       " 'color',\n",
       " 'great',\n",
       " 'bundl',\n",
       " 'black',\n",
       " 'tag',\n",
       " 'item',\n",
       " 'pleas',\n",
       " 'pink',\n",
       " 'onli']"
      ]
     },
     "execution_count": 5,
     "metadata": {},
     "output_type": "execute_result"
    }
   ],
   "source": [
    "type(vocab_tf_sorted[0])\n",
    "top_tf= [t[0] for t in vocab_tf_sorted]\n",
    "top_tf"
   ]
  },
  {
   "cell_type": "code",
   "execution_count": 8,
   "metadata": {},
   "outputs": [
    {
     "data": {
      "text/plain": [
       "[('new', 490593),\n",
       " ('size', 480507),\n",
       " ('ship', 327506),\n",
       " ('brand', 276385),\n",
       " ('condit', 258758),\n",
       " ('free', 258013),\n",
       " ('use', 235433),\n",
       " ('rm', 213694),\n",
       " ('thi', 192185),\n",
       " ('worn', 185706),\n",
       " ('price', 175586),\n",
       " ('color', 172299),\n",
       " ('great', 153837),\n",
       " ('bundl', 152316),\n",
       " ('black', 145350),\n",
       " ('tag', 134802),\n",
       " ('item', 129509),\n",
       " ('pleas', 119623),\n",
       " ('pink', 119125),\n",
       " ('onli', 116107)]"
      ]
     },
     "execution_count": 8,
     "metadata": {},
     "output_type": "execute_result"
    }
   ],
   "source": [
    "top_tf_idf = [t[0] for t in vocab_tf_idf_sorted]\n",
    "top_tf_idf\n"
   ]
  },
  {
   "cell_type": "code",
   "execution_count": null,
   "metadata": {},
   "outputs": [],
   "source": [
    "# # \n",
    "# wc = WordCloud(background_color=\"white\", width=1100, height= 800)\n",
    "# wc.generate_from_frequencies(frequencies = vocab_tf_idf)\n",
    "# plt.figure(figsize=(11,8))\n",
    "# plt.axis(\"off\")\n",
    "# plt.imsave('term_frequency_wordcloud.png', wc, dpi=600)\n",
    "\n"
   ]
  },
  {
   "cell_type": "code",
   "execution_count": null,
   "metadata": {},
   "outputs": [],
   "source": [
    "# # \n",
    "# wc.generate_from_frequencies(frequencies = vocab_tf_idf)\n",
    "# plt.axis(\"off\")\n",
    "# plt.imsave('tf_idf_wordcloud.png', wc, dpi=600)"
   ]
  },
  {
   "cell_type": "code",
   "execution_count": 40,
   "metadata": {
    "collapsed": true
   },
   "outputs": [],
   "source": [
    "def makeWC(vocab, data, save_name, height, width):\n",
    "    dictionary = dict(zip(vocab, data))\n",
    "    wc = WordCloud(background_color=\"white\", width=1100, height= 800)\n",
    "    wc.generate_from_frequencies(frequencies = dictionary)\n",
    "    plt.figure(figsize=(height,width))\n",
    "    plt.axis(\"off\")\n",
    "    plt.imsave(save_name, wc, dpi=600)\n",
    "    "
   ]
  },
  {
   "cell_type": "code",
   "execution_count": 27,
   "metadata": {},
   "outputs": [
    {
     "data": {
      "image/png": "[encoded data removed]",
      "text/plain": [
       "<matplotlib.figure.Figure at 0x110ffa2e8>"
      ]
     },
     "metadata": {},
     "output_type": "display_data"
    }
   ],
   "source": [
    "lasso_tfidf_coef[lasso_tfidf_coef.columns[1]]\n",
    "wc = makeWC(vocab, lasso_tfidf_coef[lasso_tfidf_coef.columns[1]].astype('float'), \"WC_lasso_tfidf_coef_.png\", 11,8)\n",
    "dictionary = dict(zip(vocab, lasso_tfidf_coef[lasso_tfidf_coef.columns[1]].astype('float')))\n",
    "sorted_lasso_tfidf_coef_sorted = sorted(dictionary.items(), key=operator.itemgetter(1), reverse=True)[:10]\n",
    "sorted_lasso_tfidf_coef = [t[0] for t in sorted_lasso_tfidf_coef_sorted]\n",
    "print(sorted_lasso_tfidf_coef)"
   ]
  },
  {
   "cell_type": "code",
   "execution_count": 37,
   "metadata": {},
   "outputs": [
    {
     "data": {
      "text/html": [
       "<div>\n",
       "<style scoped>\n",
       "    .dataframe tbody tr th:only-of-type {\n",
       "        vertical-align: middle;\n",
       "    }\n",
       "\n",
       "    .dataframe tbody tr th {\n",
       "        vertical-align: top;\n",
       "    }\n",
       "\n",
       "    .dataframe thead th {\n",
       "        text-align: right;\n",
       "    }\n",
       "</style>\n",
       "<table border=\"1\" class=\"dataframe\">\n",
       "  <thead>\n",
       "    <tr style=\"text-align: right;\">\n",
       "      <th></th>\n",
       "      <th>Unnamed: 0</th>\n",
       "      <th>category_name_1_Beauty</th>\n",
       "      <th>category_name_1_Electronics</th>\n",
       "      <th>category_name_1_Handmade</th>\n",
       "      <th>category_name_1_Home</th>\n",
       "      <th>category_name_1_Kids</th>\n",
       "      <th>category_name_1_Men</th>\n",
       "      <th>category_name_1_Other</th>\n",
       "      <th>category_name_1_Sports &amp; Outdoors</th>\n",
       "      <th>category_name_1_Vintage &amp; Collectibles</th>\n",
       "      <th>category_name_1_Women</th>\n",
       "    </tr>\n",
       "  </thead>\n",
       "  <tbody>\n",
       "    <tr>\n",
       "      <th>0</th>\n",
       "      <td>abercrombi</td>\n",
       "      <td>0.0</td>\n",
       "      <td>-0.0</td>\n",
       "      <td>0.0</td>\n",
       "      <td>0.0</td>\n",
       "      <td>0.0</td>\n",
       "      <td>0.0</td>\n",
       "      <td>0.0</td>\n",
       "      <td>0.0</td>\n",
       "      <td>0.0</td>\n",
       "      <td>-0.0</td>\n",
       "    </tr>\n",
       "    <tr>\n",
       "      <th>1</th>\n",
       "      <td>abl</td>\n",
       "      <td>0.0</td>\n",
       "      <td>5.7626505046746574</td>\n",
       "      <td>0.0</td>\n",
       "      <td>-0.0</td>\n",
       "      <td>-0.0</td>\n",
       "      <td>-0.0</td>\n",
       "      <td>3.194170274573697</td>\n",
       "      <td>-84.61536424050999</td>\n",
       "      <td>0.0</td>\n",
       "      <td>-0.0</td>\n",
       "    </tr>\n",
       "    <tr>\n",
       "      <th>2</th>\n",
       "      <td>abov</td>\n",
       "      <td>-0.0</td>\n",
       "      <td>2.837574653883288</td>\n",
       "      <td>26.69828449177655</td>\n",
       "      <td>5.917203378505123</td>\n",
       "      <td>3.5181839901790823</td>\n",
       "      <td>-0.0</td>\n",
       "      <td>-0.0</td>\n",
       "      <td>-0.0</td>\n",
       "      <td>12.381959851453912</td>\n",
       "      <td>-0.0</td>\n",
       "    </tr>\n",
       "    <tr>\n",
       "      <th>3</th>\n",
       "      <td>absolut</td>\n",
       "      <td>0.0</td>\n",
       "      <td>-16.537536661701452</td>\n",
       "      <td>-1.023949677329907</td>\n",
       "      <td>-0.0</td>\n",
       "      <td>0.0</td>\n",
       "      <td>0.0</td>\n",
       "      <td>-2.4016006404941144</td>\n",
       "      <td>-4.716440534202642</td>\n",
       "      <td>47.121022179535025</td>\n",
       "      <td>10.465612828141401</td>\n",
       "    </tr>\n",
       "    <tr>\n",
       "      <th>4</th>\n",
       "      <td>absorb</td>\n",
       "      <td>-0.0</td>\n",
       "      <td>1.9902643531123148</td>\n",
       "      <td>0.0</td>\n",
       "      <td>-0.0</td>\n",
       "      <td>-0.0</td>\n",
       "      <td>0.0</td>\n",
       "      <td>5.931123908016047</td>\n",
       "      <td>-0.0</td>\n",
       "      <td>0.0</td>\n",
       "      <td>-0.0</td>\n",
       "    </tr>\n",
       "  </tbody>\n",
       "</table>\n",
       "</div>"
      ],
      "text/plain": [
       "   Unnamed: 0 category_name_1_Beauty category_name_1_Electronics  \\\n",
       "0  abercrombi                    0.0                        -0.0   \n",
       "1         abl                    0.0          5.7626505046746574   \n",
       "2        abov                   -0.0           2.837574653883288   \n",
       "3     absolut                    0.0         -16.537536661701452   \n",
       "4      absorb                   -0.0          1.9902643531123148   \n",
       "\n",
       "  category_name_1_Handmade category_name_1_Home category_name_1_Kids  \\\n",
       "0                      0.0                  0.0                  0.0   \n",
       "1                      0.0                 -0.0                 -0.0   \n",
       "2        26.69828449177655    5.917203378505123   3.5181839901790823   \n",
       "3       -1.023949677329907                 -0.0                  0.0   \n",
       "4                      0.0                 -0.0                 -0.0   \n",
       "\n",
       "  category_name_1_Men category_name_1_Other category_name_1_Sports & Outdoors  \\\n",
       "0                 0.0                   0.0                               0.0   \n",
       "1                -0.0     3.194170274573697                -84.61536424050999   \n",
       "2                -0.0                  -0.0                              -0.0   \n",
       "3                 0.0   -2.4016006404941144                -4.716440534202642   \n",
       "4                 0.0     5.931123908016047                              -0.0   \n",
       "\n",
       "  category_name_1_Vintage & Collectibles category_name_1_Women  \n",
       "0                                    0.0                  -0.0  \n",
       "1                                    0.0                  -0.0  \n",
       "2                     12.381959851453912                  -0.0  \n",
       "3                     47.121022179535025    10.465612828141401  \n",
       "4                                    0.0                  -0.0  "
      ]
     },
     "execution_count": 37,
     "metadata": {},
     "output_type": "execute_result"
    }
   ],
   "source": [
    "lass_allCat1_coef_transposed.head()"
   ]
  },
  {
   "cell_type": "code",
   "execution_count": 43,
   "metadata": {},
   "outputs": [
    {
     "data": {
      "image/png": "[encoded data removed]",
      "text/plain": [
       "<matplotlib.figure.Figure at 0x11040f828>"
      ]
     },
     "metadata": {},
     "output_type": "display_data"
    },
    {
     "data": {
      "image/png": "[encoded data removed]",
      "text/plain": [
       "<matplotlib.figure.Figure at 0x11092bc18>"
      ]
     },
     "metadata": {},
     "output_type": "display_data"
    }
   ],
   "source": [
    "\n",
    "wc = makeWC(vocab, lass_allCat1_coef_transposed[\"category_name_1_Beauty\"].astype('float'), \"WC_lasso_cat_Beauty.png\", 3,2)\n",
    "wc = makeWC(vocab, lass_allCat1_coef_transposed[\"category_name_1_Electronics\"].astype('float'), \"WC_lasso_cat_electronics.png\", 2,3)\n"
   ]
  }
 ],
 "metadata": {
  "kernelspec": {
   "display_name": "Python 3",
   "language": "python",
   "name": "python3"
  },
  "language_info": {
   "codemirror_mode": {
    "name": "ipython",
    "version": 3
   },
   "file_extension": ".py",
   "mimetype": "text/x-python",
   "name": "python",
   "nbconvert_exporter": "python",
   "pygments_lexer": "ipython3",
   "version": "3.6.3"
  }
 },
 "nbformat": 4,
 "nbformat_minor": 2
}
