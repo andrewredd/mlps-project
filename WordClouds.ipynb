{
 "cells": [
  {
   "cell_type": "code",
   "execution_count": 150,
   "metadata": {},
   "outputs": [],
   "source": [
    "%matplotlib inline\n",
    "from scipy.sparse import load_npz\n",
    "import numpy as np\n",
    "import matplotlib.pyplot as plt\n",
    "from wordcloud import WordCloud\n",
    "\n",
    "\n",
    "tfm = load_npz(\"tfm.npz\")\n",
    "tfidf_transformed = load_npz(\"tfidf_transformed.npz\")\n",
    "vocab = np.genfromtxt(\"vocabulary.txt\",dtype=\"str\")"
   ]
  },
  {
   "cell_type": "code",
   "execution_count": 151,
   "metadata": {},
   "outputs": [],
   "source": [
    "#1482535x1798\n",
    "tfm_sum = np.asarray(np.sum(tfm, axis = 0))[0,:]\n",
    "tfidf_transformed_sum = np.asarray(np.sum(tfidf_transformed, axis = 0))[0,:]"
   ]
  },
  {
   "cell_type": "code",
   "execution_count": 152,
   "metadata": {},
   "outputs": [],
   "source": [
    "vocab_tf = dict(zip(vocab, tfm_sum))\n",
    "vocab_tf_idf = dict(zip(vocab, tfidf_transformed_sum))"
   ]
  },
  {
   "cell_type": "code",
   "execution_count": 153,
   "metadata": {},
   "outputs": [],
   "source": [
    "import operator\n",
    "vocab_tf_sorted = sorted(vocab_tf.items(), key=operator.itemgetter(1), reverse=True)[:20]\n",
    "vocab_tf_idf_sorted = sorted(vocab_tf_idf.items(), key=operator.itemgetter(1), reverse=True)[:20]"
   ]
  },
  {
   "cell_type": "code",
   "execution_count": 154,
   "metadata": {},
   "outputs": [
    {
     "data": {
      "text/plain": [
       "['new',\n",
       " 'size',\n",
       " 'ship',\n",
       " 'brand',\n",
       " 'condit',\n",
       " 'free',\n",
       " 'use',\n",
       " 'rm',\n",
       " 'thi',\n",
       " 'worn',\n",
       " 'price',\n",
       " 'color',\n",
       " 'great',\n",
       " 'bundl',\n",
       " 'black',\n",
       " 'tag',\n",
       " 'item',\n",
       " 'pleas',\n",
       " 'pink',\n",
       " 'onli']"
      ]
     },
     "execution_count": 154,
     "metadata": {},
     "output_type": "execute_result"
    }
   ],
   "source": [
    "type(vocab_tf_sorted[0])\n",
    "top_tf= [t[0] for t in vocab_tf_sorted]\n",
    "top_tf"
   ]
  },
  {
   "cell_type": "code",
   "execution_count": 155,
   "metadata": {},
   "outputs": [
    {
     "data": {
      "text/plain": [
       "['new',\n",
       " 'size',\n",
       " 'condit',\n",
       " 'brand',\n",
       " 'worn',\n",
       " 'use',\n",
       " 'ship',\n",
       " 'free',\n",
       " 'great',\n",
       " 'rm',\n",
       " 'tag',\n",
       " 'price',\n",
       " 'good',\n",
       " 'black',\n",
       " 'color',\n",
       " 'bundl',\n",
       " 'small',\n",
       " 'box',\n",
       " 'thi',\n",
       " 'like']"
      ]
     },
     "execution_count": 155,
     "metadata": {},
     "output_type": "execute_result"
    }
   ],
   "source": [
    "top_tf_idf = [t[0] for t in vocab_tf_idf_sorted]\n",
    "top_tf_idf"
   ]
  },
  {
   "cell_type": "code",
   "execution_count": 110,
   "metadata": {},
   "outputs": [
    {
     "data": {
      "image/png": "[encoded data removed]",
      "text/plain": [
       "<matplotlib.figure.Figure at 0x11327b7b8>"
      ]
     },
     "metadata": {},
     "output_type": "display_data"
    }
   ],
   "source": [
    "# \n",
    "wc = WordCloud(background_color=\"white\", width=1100, height= 800)\n",
    "wc.generate_from_frequencies(frequencies = vocab_tf_idf)\n",
    "plt.figure(figsize=(11,8))\n",
    "plt.axis(\"off\")\n",
    "plt.imsave('term_frequency_wordcloud.png', wc, dpi=600)\n",
    "\n"
   ]
  },
  {
   "cell_type": "code",
   "execution_count": 111,
   "metadata": {},
   "outputs": [
    {
     "data": {
      "image/png": "[encoded data removed]",
      "text/plain": [
       "<matplotlib.figure.Figure at 0x11310e128>"
      ]
     },
     "metadata": {},
     "output_type": "display_data"
    }
   ],
   "source": [
    "# \n",
    "wc.generate_from_frequencies(frequencies = vocab_tf_idf)\n",
    "plt.axis(\"off\")\n",
    "plt.imsave('tf_idf_wordcloud.png', wc, dpi=600)"
   ]
  }
 ],
 "metadata": {
  "kernelspec": {
   "display_name": "Python 3",
   "language": "python",
   "name": "python3"
  },
  "language_info": {
   "codemirror_mode": {
    "name": "ipython",
    "version": 3
   },
   "file_extension": ".py",
   "mimetype": "text/x-python",
   "name": "python",
   "nbconvert_exporter": "python",
   "pygments_lexer": "ipython3",
   "version": "3.6.3"
  }
 },
 "nbformat": 4,
 "nbformat_minor": 2
}
