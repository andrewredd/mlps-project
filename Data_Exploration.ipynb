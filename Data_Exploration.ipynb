{
 "cells": [
  {
   "cell_type": "code",
   "execution_count": 1,
   "metadata": {
    "collapsed": true
   },
   "outputs": [],
   "source": [
    "import pandas as pd\n",
    "import scipy.sparse\n",
    "import scipy\n",
    "import scipy.io\n",
    "import numpy as np\n",
    "from sklearn.decomposition import PCA\n",
    "from sklearn.utils import resample\n",
    "import matplotlib.pyplot as plt\n",
    "from sklearn.feature_extraction.text import TfidfTransformer\n",
    "from sklearn.manifold import TSNE\n",
    "import seaborn as sns"
   ]
  },
  {
   "cell_type": "code",
   "execution_count": 2,
   "metadata": {
    "collapsed": true
   },
   "outputs": [],
   "source": [
    "# def getpath(relative_path):\n",
    "#     from os import path\n",
    "#     my_path = path.abspath(path.dirname(__file__))\n",
    "#     return path.join(my_path, relative_path)\n",
    "\n",
    "\n",
    "# train_clean_path = getpath('../Data/train_clean.tsv')\n",
    "# sparse_matrix_path = getpath('../Data/train_term_matrix.dtx')\n",
    "\n",
    "train_clean = pd.read_csv('Data/train_clean.tsv', sep='\\t', header=0)\n",
    "\n",
    "# read in mtx file\n",
    "sparse_matrix = scipy.io.mmread('Data/train_term_matrix_pruned.mtx')"
   ]
  },
  {
   "cell_type": "code",
   "execution_count": null,
   "metadata": {},
   "outputs": [],
   "source": []
  },
  {
   "cell_type": "code",
   "execution_count": 3,
   "metadata": {},
   "outputs": [
    {
     "name": "stdout",
     "output_type": "stream",
     "text": [
      "training data shape (1482535, 11)\n",
      "sparse shape (1482535, 2201)\n"
     ]
    }
   ],
   "source": [
    "print('training data shape', train_clean.shape)\n",
    "print('sparse shape', sparse_matrix.shape)"
   ]
  },
  {
   "cell_type": "code",
   "execution_count": 4,
   "metadata": {},
   "outputs": [
    {
     "data": {
      "text/html": [
       "<div>\n",
       "<style>\n",
       "    .dataframe thead tr:only-child th {\n",
       "        text-align: right;\n",
       "    }\n",
       "\n",
       "    .dataframe thead th {\n",
       "        text-align: left;\n",
       "    }\n",
       "\n",
       "    .dataframe tbody tr th {\n",
       "        vertical-align: top;\n",
       "    }\n",
       "</style>\n",
       "<table border=\"1\" class=\"dataframe\">\n",
       "  <thead>\n",
       "    <tr style=\"text-align: right;\">\n",
       "      <th></th>\n",
       "      <th>train_id</th>\n",
       "      <th>name</th>\n",
       "      <th>item_condition_id</th>\n",
       "      <th>category_name</th>\n",
       "      <th>brand_name</th>\n",
       "      <th>price</th>\n",
       "      <th>shipping</th>\n",
       "      <th>item_description</th>\n",
       "    </tr>\n",
       "  </thead>\n",
       "  <tbody>\n",
       "    <tr>\n",
       "      <th>0</th>\n",
       "      <td>0</td>\n",
       "      <td>MLB Cincinnati Reds T Shirt Size XL</td>\n",
       "      <td>3</td>\n",
       "      <td>Men/Tops/T-shirts</td>\n",
       "      <td>NaN</td>\n",
       "      <td>10.0</td>\n",
       "      <td>1</td>\n",
       "      <td>NaN</td>\n",
       "    </tr>\n",
       "    <tr>\n",
       "      <th>1</th>\n",
       "      <td>1</td>\n",
       "      <td>Razer BlackWidow Chroma Keyboard</td>\n",
       "      <td>3</td>\n",
       "      <td>Electronics/Computers &amp; Tablets/Components &amp; P...</td>\n",
       "      <td>Razer</td>\n",
       "      <td>52.0</td>\n",
       "      <td>0</td>\n",
       "      <td>This keyboard is in great condition and works ...</td>\n",
       "    </tr>\n",
       "    <tr>\n",
       "      <th>2</th>\n",
       "      <td>2</td>\n",
       "      <td>AVA-VIV Blouse</td>\n",
       "      <td>1</td>\n",
       "      <td>Women/Tops &amp; Blouses/Blouse</td>\n",
       "      <td>Target</td>\n",
       "      <td>10.0</td>\n",
       "      <td>1</td>\n",
       "      <td>Adorable top with a hint of lace and a key hol...</td>\n",
       "    </tr>\n",
       "    <tr>\n",
       "      <th>3</th>\n",
       "      <td>3</td>\n",
       "      <td>Leather Horse Statues</td>\n",
       "      <td>1</td>\n",
       "      <td>Home/Home Décor/Home Décor Accents</td>\n",
       "      <td>NaN</td>\n",
       "      <td>35.0</td>\n",
       "      <td>1</td>\n",
       "      <td>New with tags. Leather horses. Retail for [rm]...</td>\n",
       "    </tr>\n",
       "    <tr>\n",
       "      <th>4</th>\n",
       "      <td>4</td>\n",
       "      <td>24K GOLD plated rose</td>\n",
       "      <td>1</td>\n",
       "      <td>Women/Jewelry/Necklaces</td>\n",
       "      <td>NaN</td>\n",
       "      <td>44.0</td>\n",
       "      <td>0</td>\n",
       "      <td>Complete with certificate of authenticity</td>\n",
       "    </tr>\n",
       "  </tbody>\n",
       "</table>\n",
       "</div>"
      ],
      "text/plain": [
       "   train_id                                 name  item_condition_id  \\\n",
       "0         0  MLB Cincinnati Reds T Shirt Size XL                  3   \n",
       "1         1     Razer BlackWidow Chroma Keyboard                  3   \n",
       "2         2                       AVA-VIV Blouse                  1   \n",
       "3         3                Leather Horse Statues                  1   \n",
       "4         4                 24K GOLD plated rose                  1   \n",
       "\n",
       "                                       category_name brand_name  price  \\\n",
       "0                                  Men/Tops/T-shirts        NaN   10.0   \n",
       "1  Electronics/Computers & Tablets/Components & P...      Razer   52.0   \n",
       "2                        Women/Tops & Blouses/Blouse     Target   10.0   \n",
       "3                 Home/Home Décor/Home Décor Accents        NaN   35.0   \n",
       "4                            Women/Jewelry/Necklaces        NaN   44.0   \n",
       "\n",
       "   shipping                                   item_description  \n",
       "0         1                                                NaN  \n",
       "1         0  This keyboard is in great condition and works ...  \n",
       "2         1  Adorable top with a hint of lace and a key hol...  \n",
       "3         1  New with tags. Leather horses. Retail for [rm]...  \n",
       "4         0          Complete with certificate of authenticity  "
      ]
     },
     "execution_count": 4,
     "metadata": {},
     "output_type": "execute_result"
    }
   ],
   "source": [
    "train_clean.iloc[:,0:8].head(5)"
   ]
  },
  {
   "cell_type": "code",
   "execution_count": 5,
   "metadata": {},
   "outputs": [
    {
     "data": {
      "text/plain": [
       "count    1.482535e+06\n",
       "mean     2.673752e+01\n",
       "std      3.858607e+01\n",
       "min      0.000000e+00\n",
       "25%      1.000000e+01\n",
       "50%      1.700000e+01\n",
       "75%      2.900000e+01\n",
       "max      2.009000e+03\n",
       "Name: price, dtype: float64"
      ]
     },
     "execution_count": 5,
     "metadata": {},
     "output_type": "execute_result"
    }
   ],
   "source": [
    "train_clean['price'].describe()"
   ]
  },
  {
   "cell_type": "code",
   "execution_count": 6,
   "metadata": {},
   "outputs": [
    {
     "name": "stdout",
     "output_type": "stream",
     "text": [
      "count     1476208\n",
      "unique         10\n",
      "top         Women\n",
      "freq       664385\n",
      "Name: category_name_1, dtype: object\n",
      "count              1476208\n",
      "unique                 113\n",
      "top       Athletic Apparel\n",
      "freq                134383\n",
      "Name: category_name_2, dtype: object\n",
      "count                     1476208\n",
      "unique                        871\n",
      "top       Pants, Tights, Leggings\n",
      "freq                        60177\n",
      "Name: category_name_3, dtype: object\n"
     ]
    }
   ],
   "source": [
    "print(train_clean['category_name_1'].describe())\n",
    "print(train_clean['category_name_2'].describe())\n",
    "print(train_clean['category_name_3'].describe())"
   ]
  },
  {
   "cell_type": "code",
   "execution_count": 7,
   "metadata": {},
   "outputs": [
    {
     "data": {
      "image/png": "[encoded data removed]",
      "text/plain": [
       "<matplotlib.figure.Figure at 0x117b18240>"
      ]
     },
     "metadata": {},
     "output_type": "display_data"
    }
   ],
   "source": [
    "plt.hist(train_clean[\"price\"], 300)\n",
    "plt.title(\"Price Distribution\")\n",
    "ax = plt.gca()\n",
    "ax.set_xlim(left = -10)\n",
    "plt.ylabel(\"frequency\")\n",
    "plt.xlabel(\"price\")\n",
    "plt.tight_layout()\n",
    "sns.set\n",
    "plt.savefig('Images/Price_dist.png')\n",
    "plt.show()"
   ]
  },
  {
   "cell_type": "code",
   "execution_count": 8,
   "metadata": {},
   "outputs": [
    {
     "data": {
      "image/png": "[encoded data removed]",
      "text/plain": [
       "<matplotlib.figure.Figure at 0x118abe358>"
      ]
     },
     "metadata": {},
     "output_type": "display_data"
    }
   ],
   "source": [
    "plt.hist(train_clean[\"price\"], 300)\n",
    "plt.title(\"Price Distribution, limited x axis = 250\")\n",
    "ax = plt.gca()\n",
    "ax.set_xlim(-10,250)\n",
    "plt.ylabel(\"frequency\")\n",
    "plt.xlabel(\"price\")\n",
    "plt.tight_layout()\n",
    "sns.set\n",
    "plt.savefig('Images/Price_dist_limit_x_250.png')\n",
    "plt.show()"
   ]
  },
  {
   "cell_type": "code",
   "execution_count": 9,
   "metadata": {},
   "outputs": [
    {
     "data": {
      "image/png": "[encoded data removed]",
      "text/plain": [
       "<matplotlib.figure.Figure at 0x118b6cd30>"
      ]
     },
     "metadata": {},
     "output_type": "display_data"
    }
   ],
   "source": [
    "# remove zero's\n",
    "prices = train_clean[\"price\"].values\n",
    "np.amin(prices[prices > 0])\n",
    "\n",
    "# plot log histogram\n",
    "plt.hist(np.log(prices[prices > 0]), 45)\n",
    "plt.title(\"log(Price) Distribution, limited x axis = 250\")\n",
    "plt.ylabel(\"frequency\")\n",
    "plt.xlabel(\"log(price)\")\n",
    "plt.tight_layout()\n",
    "sns.set\n",
    "plt.savefig('Images/log_Price_dist_limit_x_250.png')\n",
    "plt.show()"
   ]
  },
  {
   "cell_type": "code",
   "execution_count": 31,
   "metadata": {},
   "outputs": [
    {
     "name": "stdout",
     "output_type": "stream",
     "text": [
      "                        Mean Price  St Dev Price  Listings Count\n",
      "category_name_1                                                 \n",
      "Beauty                       19.67         21.36          207828\n",
      "Electronics                  35.17         65.42          122690\n",
      "Handmade                     18.16         27.76           30842\n",
      "Home                         24.54         24.42           67871\n",
      "Kids                         20.64         22.73          171689\n",
      "Men                          34.71         41.24           93680\n",
      "Other                        20.81         29.85           45351\n",
      "Sports & Outdoors            25.53         29.30           25342\n",
      "Vintage & Collectibles       27.34         53.51           46530\n",
      "Women                        28.89         39.44          664385\n"
     ]
    },
    {
     "data": {
      "text/plain": [
       "train_id                                                        760469\n",
       "name                               NEW Chanel WOC Caviar Gold Hardware\n",
       "item_condition_id                                                    1\n",
       "category_name                      Women/Women's Handbags/Shoulder Bag\n",
       "brand_name                                                      Chanel\n",
       "price                                                             2009\n",
       "shipping                                                             0\n",
       "item_description     New with tag, box and dustbag but no receipt. ...\n",
       "category_name_1                                                  Women\n",
       "category_name_2                                       Women's Handbags\n",
       "category_name_3                                           Shoulder Bag\n",
       "Name: 760469, dtype: object"
      ]
     },
     "execution_count": 31,
     "metadata": {},
     "output_type": "execute_result"
    }
   ],
   "source": [
    "mean_values = train_clean.groupby('category_name_1')['price'].mean()\n",
    "std_values = train_clean.groupby('category_name_1')['price'].std()\n",
    "count_values = train_clean.groupby('category_name_1')['price'].count()\n",
    "\n",
    "summary_category = pd.concat([mean_values, std_values, count_values], axis=1)\n",
    "summary_category.columns = ['Mean Price', 'St Dev Price', \"Listings Count\"]\n",
    "\n",
    "print(round(summary_category , 2))\n",
    "train_clean.groupby('category_name_1')['price'].max()\n",
    "train_clean.iloc[train_clean['price'].idxmax()]"
   ]
  },
  {
   "cell_type": "code",
   "execution_count": 77,
   "metadata": {},
   "outputs": [
    {
     "name": "stdout",
     "output_type": "stream",
     "text": [
      "mean overall price 26.737516146330442\n",
      "overall st dev 38.586066313339806\n",
      "percent less than $50 price 0.8925131615779729\n",
      "\n"
     ]
    }
   ],
   "source": [
    "print(\"mean overall price\" , train_clean[\"price\"].mean())\n",
    "print(\"overall st dev\", train_clean[\"price\"].std())\n",
    "\n",
    "print(\"percent less than $50 price\", len(train_clean.loc[train_clean['price'] < 50]) / len(train_clean))\n",
    "print()"
   ]
  },
  {
   "cell_type": "code",
   "execution_count": 39,
   "metadata": {},
   "outputs": [],
   "source": [
    "train_clean[\"desc_len\"] = train_clean[\"item_description\"].str.len()"
   ]
  },
  {
   "cell_type": "code",
   "execution_count": 68,
   "metadata": {},
   "outputs": [
    {
     "data": {
      "image/png": "[encoded data removed]",
      "text/plain": [
       "<matplotlib.figure.Figure at 0x118882d68>"
      ]
     },
     "metadata": {},
     "output_type": "display_data"
    }
   ],
   "source": [
    "train_clean\n",
    "series = train_clean.groupby('desc_len')['price'].mean()\n",
    "desc_len = np.sort(train_clean.desc_len.unique())\n",
    "\n",
    "series.values\n",
    "desc_len[:-1]\n",
    "\n",
    "\n",
    "plt.scatter(desc_len[:-1], series.values)\n",
    "sns.set\n",
    "plt.title(\"Average price by description length\")\n",
    "plt.xlabel(\"Description length\")\n",
    "plt.ylabel(\"Average price\")\n",
    "plt.savefig('Images/price_v_desc_len.png')\n",
    "plt.show()"
   ]
  },
  {
   "cell_type": "code",
   "execution_count": 11,
   "metadata": {},
   "outputs": [
    {
     "name": "stdout",
     "output_type": "stream",
     "text": [
      "note: removed outliers\n"
     ]
    },
    {
     "data": {
      "image/png": "[encoded data removed]",
      "text/plain": [
       "<matplotlib.figure.Figure at 0x136fdf588>"
      ]
     },
     "metadata": {},
     "output_type": "display_data"
    }
   ],
   "source": [
    "\n",
    "print(\"note: removed outliers\")\n",
    "plt.title(\"Price by Category boxplot\")\n",
    "plt.xticks(rotation=90)\n",
    "sns.boxplot(x='category_name_1', y='price', data=train_clean, showfliers=False)\n",
    "sns.set\n",
    "plt.tight_layout()\n",
    "plt.savefig('Images/Price_by_Cat.png')\n",
    "plt.show()"
   ]
  },
  {
   "cell_type": "code",
   "execution_count": 12,
   "metadata": {},
   "outputs": [],
   "source": [
    "# #word_coef_abs = dict(zip(Vocabulary, np.absolute(lreg.coef_[0])))\n",
    "\n",
    "# wc = WordCloud(background_color=\"white\")\n",
    "# wc.generate_from_frequencies(frequencies = word_coef_abs)"
   ]
  },
  {
   "cell_type": "code",
   "execution_count": 13,
   "metadata": {},
   "outputs": [],
   "source": [
    "# %%time\n",
    "\n",
    "# samples = 10000\n",
    "# state = 95\n",
    "\n",
    "# # Sample Data to reduce the size\n",
    "# sparse_matrix_sample = resample(sparse_matrix_tf_idf, \n",
    "#                                 n_samples=samples, random_state=state)\n",
    "\n",
    "# # Fit PCA with top 2 components on a subset of the data\n",
    "# pca = PCA(n_components=1000)\n",
    "\n",
    "# descriptions_pca_fit = pca.fit(sparse_matrix_sample.todense())"
   ]
  },
  {
   "cell_type": "code",
   "execution_count": 14,
   "metadata": {},
   "outputs": [],
   "source": [
    "# %%time\n",
    "# descriptions_pca_transform = pca.transform(sparse_matrix_sample.todense())"
   ]
  },
  {
   "cell_type": "code",
   "execution_count": null,
   "metadata": {},
   "outputs": [],
   "source": [
    "\n",
    "\n",
    "\n",
    "\n"
   ]
  },
  {
   "cell_type": "code",
   "execution_count": 15,
   "metadata": {},
   "outputs": [],
   "source": [
    "\n",
    "# m = scipy.io.mmread(\"Data/descriptions_pca_transform.mtx\")\n",
    "# m"
   ]
  },
  {
   "cell_type": "code",
   "execution_count": 16,
   "metadata": {},
   "outputs": [],
   "source": [
    "# descriptions_pca_transform"
   ]
  },
  {
   "cell_type": "code",
   "execution_count": 17,
   "metadata": {},
   "outputs": [],
   "source": [
    "# plt.plot(pca.explained_variance_ratio_)\n",
    "# plt.xlabel('Number of Components')\n",
    "# plt.ylabel('Variance Explained')\n",
    "# plt.title(\"Full Scree Plot\")\n",
    "# plt.show()\n",
    "\n"
   ]
  },
  {
   "cell_type": "code",
   "execution_count": 18,
   "metadata": {},
   "outputs": [],
   "source": [
    "# plt.plot(pca.explained_variance_ratio_)\n",
    "# plt.xlabel('Number of Components')\n",
    "# plt.ylabel('Variance Explained')\n",
    "# plt.title(\"Scree Plot (limited to 2 to 100 components)\")\n",
    "# plt.xlim(2, 100)\n",
    "# plt.ylim(0, .01)\n",
    "# plt.show()"
   ]
  },
  {
   "cell_type": "code",
   "execution_count": 19,
   "metadata": {},
   "outputs": [
    {
     "name": "stdout",
     "output_type": "stream",
     "text": [
      "CPU times: user 7min 14s, sys: 37.1 s, total: 7min 51s\n",
      "Wall time: 2min 26s\n"
     ]
    }
   ],
   "source": [
    "%%time\n",
    "from sklearn.preprocessing import Normalizer\n",
    "\n",
    "samples = 200000\n",
    "state = 95\n",
    "\n",
    "# # Sample Data to reduce the size\n",
    "sparse_matrix_sample = resample(sparse_matrix, \n",
    "                                 n_samples=samples, random_state=state)\n",
    "\n",
    "normalizer = Normalizer()\n",
    "\n",
    "sparse_matrix_sample_norm = normalizer.fit_transform(sparse_matrix_sample)\n",
    "\n",
    "# fit PCA to the data that has \n",
    "pca_prunned = PCA()\n",
    "\n",
    "descriptions_pca_fit_prunned = pca_prunned.fit(sparse_matrix_sample_norm.todense())"
   ]
  },
  {
   "cell_type": "code",
   "execution_count": 20,
   "metadata": {},
   "outputs": [
    {
     "name": "stdout",
     "output_type": "stream",
     "text": [
      "CPU times: user 1min 46s, sys: 3.46 s, total: 1min 50s\n",
      "Wall time: 20 s\n"
     ]
    }
   ],
   "source": [
    "%%time\n",
    "descriptions_pca_transform_prunned = pca_prunned.transform(sparse_matrix_sample_norm.todense())\n"
   ]
  },
  {
   "cell_type": "code",
   "execution_count": 21,
   "metadata": {},
   "outputs": [
    {
     "name": "stdout",
     "output_type": "stream",
     "text": [
      "pca prunned shape (200000, 2201)\n"
     ]
    }
   ],
   "source": [
    "print(\"pca prunned shape\", descriptions_pca_transform_prunned.shape)\n",
    "\n",
    "scipy.io.mmwrite(\"Data/normalized_prunned_PCA.mtx\", descriptions_pca_transform_prunned)"
   ]
  },
  {
   "cell_type": "code",
   "execution_count": 22,
   "metadata": {},
   "outputs": [
    {
     "data": {
      "image/png": "[encoded data removed]",
      "text/plain": [
       "<matplotlib.figure.Figure at 0x118b05588>"
      ]
     },
     "metadata": {},
     "output_type": "display_data"
    }
   ],
   "source": [
    "plt.plot(pca_prunned.explained_variance_ratio_)\n",
    "plt.xlabel('Number of Components')\n",
    "plt.ylabel('Variance Explained')\n",
    "plt.title(\"Full Scree Plot\")\n",
    "sns.set\n",
    "plt.savefig('Images/PCA_Prunned.png')\n",
    "plt.show()\n"
   ]
  },
  {
   "cell_type": "code",
   "execution_count": 29,
   "metadata": {},
   "outputs": [
    {
     "data": {
      "image/png": "[encoded data removed]",
      "text/plain": [
       "<matplotlib.figure.Figure at 0x119e58860>"
      ]
     },
     "metadata": {},
     "output_type": "display_data"
    }
   ],
   "source": [
    "plt.plot(pca_prunned.explained_variance_ratio_)\n",
    "plt.xlabel('Number of Components')\n",
    "plt.ylabel('Variance Explained')\n",
    "plt.title(\"Scree Plot (limited to top 50 components)\")\n",
    "plt.xlim(0, 50)\n",
    "plt.ylim(0, .012)\n",
    "plt.savefig('Images/PCA_Prunned_zoom.png')\n",
    "plt.show()"
   ]
  },
  {
   "cell_type": "code",
   "execution_count": 81,
   "metadata": {},
   "outputs": [
    {
     "data": {
      "text/plain": [
       "0.012389556866481945"
      ]
     },
     "execution_count": 81,
     "metadata": {},
     "output_type": "execute_result"
    }
   ],
   "source": [
    "pca_prunned.explained_variance_[0]"
   ]
  }
 ],
 "metadata": {
  "kernelspec": {
   "display_name": "Python 3",
   "language": "python",
   "name": "python3"
  },
  "language_info": {
   "codemirror_mode": {
    "name": "ipython",
    "version": 3
   },
   "file_extension": ".py",
   "mimetype": "text/x-python",
   "name": "python",
   "nbconvert_exporter": "python",
   "pygments_lexer": "ipython3",
   "version": "3.6.3"
  }
 },
 "nbformat": 4,
 "nbformat_minor": 2
}
